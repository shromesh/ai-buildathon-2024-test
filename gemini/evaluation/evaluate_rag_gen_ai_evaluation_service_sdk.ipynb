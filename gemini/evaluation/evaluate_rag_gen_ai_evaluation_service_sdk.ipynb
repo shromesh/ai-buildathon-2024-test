{
  "cells": [
    {
      "cell_type": "markdown",
      "metadata": {
        "id": "view-in-github",
        "colab_type": "text"
      },
      "source": [
        "<a href=\"https://colab.research.google.com/github/shromesh/ai-buildathon-2024-test/blob/main/gemini/evaluation/evaluate_rag_gen_ai_evaluation_service_sdk.ipynb\" target=\"_parent\"><img src=\"https://colab.research.google.com/assets/colab-badge.svg\" alt=\"Open In Colab\"/></a>"
      ]
    },
    {
      "cell_type": "code",
      "execution_count": 1,
      "metadata": {
        "id": "2eec5cc39a59"
      },
      "outputs": [],
      "source": [
        "# Copyright 2024 Google LLC\n",
        "#\n",
        "# Licensed under the Apache License, Version 2.0 (the \"License\");\n",
        "# you may not use this file except in compliance with the License.\n",
        "# You may obtain a copy of the License at\n",
        "#\n",
        "#     https://www.apache.org/licenses/LICENSE-2.0\n",
        "#\n",
        "# Unless required by applicable law or agreed to in writing, software\n",
        "# distributed under the License is distributed on an \"AS IS\" BASIS,\n",
        "# WITHOUT WARRANTIES OR CONDITIONS OF ANY KIND, either express or implied.\n",
        "# See the License for the specific language governing permissions and\n",
        "# limitations under the License."
      ]
    },
    {
      "cell_type": "markdown",
      "metadata": {
        "id": "307d01b6f573"
      },
      "source": [
        "# Evaluate Generated Answers from Retrieval-Augmented Generation (RAG) for Question Answering with Gen AI Evaluation Service SDK\n",
        "\n",
        "<table align=\"left\">\n",
        "  <td style=\"text-align: center\">\n",
        "    <a href=\"https://colab.research.google.com/github/GoogleCloudPlatform/generative-ai/blob/main/gemini/evaluation/evaluate_rag_gen_ai_evaluation_service_sdk.ipynb\">\n",
        "      <img width=\"32px\" src=\"https://www.gstatic.com/pantheon/images/bigquery/welcome_page/colab-logo.svg\" alt=\"Google Colaboratory logo\"><br> Run in Colab\n",
        "    </a>\n",
        "  </td>\n",
        "  <td style=\"text-align: center\">\n",
        "    <a href=\"https://console.cloud.google.com/vertex-ai/colab/import/https:%2F%2Fraw.githubusercontent.com%2FGoogleCloudPlatform%2Fgenerative-ai%2Fmain%2Fgemini%2Fevaluation%2Fevaluate_rag_gen_ai_evaluation_service_sdk.ipynb\">\n",
        "      <img width=\"32px\" src=\"https://lh3.googleusercontent.com/JmcxdQi-qOpctIvWKgPtrzZdJJK-J3sWE1RsfjZNwshCFgE_9fULcNpuXYTilIR2hjwN\" alt=\"Google Cloud Colab Enterprise logo\"><br> Run in Colab Enterprise\n",
        "    </a>\n",
        "  </td>\n",
        "  <td style=\"text-align: center\">\n",
        "    <a href=\"https://github.com/GoogleCloudPlatform/generative-ai/blob/main/gemini/evaluation/evaluate_rag_gen_ai_evaluation_service_sdk.ipynb\">\n",
        "      <img width=\"32px\" src=\"https://upload.wikimedia.org/wikipedia/commons/9/91/Octicons-mark-github.svg\" alt=\"GitHub logo\"><br> View on GitHub\n",
        "    </a>\n",
        "  </td>\n",
        "  <td style=\"text-align: center\">\n",
        "    <a href=\"https://console.cloud.google.com/vertex-ai/workbench/deploy-notebook?download_url=https://raw.githubusercontent.com/GoogleCloudPlatform/generative-ai/main/gemini/evaluation/evaluate_rag_gen_ai_evaluation_service_sdk.ipynb\">\n",
        "      <img src=\"https://www.gstatic.com/images/branding/gcpiconscolors/vertexai/v1/32px.svg\" alt=\"Vertex AI logo\"><br> Open in Vertex AI Workbench\n",
        "    </a>\n",
        "  </td>    \n",
        "</table>"
      ]
    },
    {
      "cell_type": "markdown",
      "metadata": {
        "id": "07f66b85fabc"
      },
      "source": [
        "| | |\n",
        "|-|-|\n",
        "|Author(s) | [Jason Dai](https://github.com/jsondai), [Kelsi Lakey](https://github.com/lakeyk) |"
      ]
    },
    {
      "cell_type": "markdown",
      "metadata": {
        "id": "ce61c0013e2c"
      },
      "source": [
        "**_NOTE_**: This notebook has been tested in the following environment:\n",
        "\n",
        "* Python version = 3.9"
      ]
    },
    {
      "cell_type": "markdown",
      "metadata": {
        "id": "ebb820243a69"
      },
      "source": [
        "## Overview\n",
        "\n",
        "\n",
        "In this tutorial, you will learn how to use the use the *Vertex AI Python SDK for Gen AI Evaluation Service* to evaluate **Retrieval-Augmented Generation** (RAG) generated answers for **Question Answering** (QA) task.\n",
        "\n",
        "RAG is a technique to improve groundness, relevancy and factuality of large language models (LLMs) by finding relevant information from the model's knowledge base. RAG is done by converting a query into a vector representation (embeddings), and then finding the most similar vectors in the knowledge base. The most similar vectors are then used to help generate the response.\n",
        "\n",
        "This tutorial demonstrates how to use Gen AI Evaluation for a Bring-Your-Own-Response scenario:\n",
        "\n",
        "* The context was retrieved and the answers were generated based on the retrieved context using RAG.\n",
        "\n",
        "* Evaluate the quality of the RAG generated answers for QA task programmatically using the SDK.\n",
        "\n",
        "The examples used in this notebook is from Stanford Question Answering Dataset [SQuAD 2.0](https://web.stanford.edu/class/archive/cs/cs224n/cs224n.1194/reports/default/15785042.pdf).\n",
        "\n",
        "See also:\n",
        "\n",
        "- Learn more about [Vertex Gen AI Evaluation Service SDK](https://cloud.google.com/vertex-ai/generative-ai/docs/models/evaluation-overview)."
      ]
    },
    {
      "cell_type": "markdown",
      "metadata": {
        "id": "8925ff9e165e"
      },
      "source": [
        "## Getting Started"
      ]
    },
    {
      "cell_type": "markdown",
      "metadata": {
        "id": "b07851728f7b"
      },
      "source": [
        "### Install Vertex AI SDK for Gen AI Evaluation"
      ]
    },
    {
      "cell_type": "code",
      "execution_count": 2,
      "metadata": {
        "id": "3286d0a38129"
      },
      "outputs": [],
      "source": [
        "%pip install --upgrade --user --quiet google-cloud-aiplatform[evaluation]"
      ]
    },
    {
      "cell_type": "markdown",
      "metadata": {
        "id": "a68700272183"
      },
      "source": [
        "### Restart runtime\n",
        "To use the newly installed packages in this Jupyter runtime, you must restart the runtime. You can do this by running the cell below, which restarts the current kernel.\n",
        "\n",
        "The restart might take a minute or longer. After it's restarted, continue to the next step."
      ]
    },
    {
      "cell_type": "code",
      "execution_count": 3,
      "metadata": {
        "id": "6425258a0ef9"
      },
      "outputs": [],
      "source": [
        "# import IPython\n",
        "\n",
        "# app = IPython.Application.instance()\n",
        "# app.kernel.do_shutdown(True)"
      ]
    },
    {
      "cell_type": "markdown",
      "metadata": {
        "id": "ffcde4d56c00"
      },
      "source": [
        "<div class=\"alert alert-block alert-warning\">\n",
        "<b>⚠️ The kernel is going to restart. Wait until it's finished before continuing to the next step. ⚠️</b>\n",
        "</div>\n"
      ]
    },
    {
      "cell_type": "markdown",
      "metadata": {
        "id": "791c9835eceb"
      },
      "source": [
        "### Authenticate your notebook environment (Colab only)"
      ]
    },
    {
      "cell_type": "code",
      "execution_count": 4,
      "metadata": {
        "id": "ff2655451691"
      },
      "outputs": [],
      "source": [
        "import sys\n",
        "\n",
        "if \"google.colab\" in sys.modules:\n",
        "    from google.colab import auth\n",
        "\n",
        "    auth.authenticate_user()"
      ]
    },
    {
      "cell_type": "markdown",
      "metadata": {
        "id": "baa90bc5077a"
      },
      "source": [
        "### Increase quota (optional)"
      ]
    },
    {
      "cell_type": "markdown",
      "metadata": {
        "id": "EQiXNXaUN42j"
      },
      "source": [
        "Increasing the quota may lead to better performance and user experience. Read more about this at [online evaluation quotas](https://cloud.google.com/vertex-ai/generative-ai/docs/quotas#eval-quotas)."
      ]
    },
    {
      "cell_type": "markdown",
      "metadata": {
        "id": "384d31063617"
      },
      "source": [
        "### Set Google Cloud project information and initialize Vertex AI SDK"
      ]
    },
    {
      "cell_type": "code",
      "execution_count": 5,
      "metadata": {
        "id": "416bbaf5a2a4"
      },
      "outputs": [],
      "source": [
        "PROJECT_ID = \"ai-buildathon-test-nov9-1\"  # @param {type:\"string\"}\n",
        "LOCATION = \"us-central1\"  # @param {type:\"string\"}\n",
        "EXPERIMENT = \"rag-eval-01\"  # @param {type:\"string\"}\n",
        "\n",
        "\n",
        "import vertexai\n",
        "\n",
        "if not PROJECT_ID or PROJECT_ID == \"[your-project-id]\":\n",
        "    raise ValueError(\"Please set your PROJECT_ID\")\n",
        "\n",
        "vertexai.init(project=PROJECT_ID, location=LOCATION)"
      ]
    },
    {
      "cell_type": "markdown",
      "metadata": {
        "id": "26bcfc24e720"
      },
      "source": [
        "### Import libraries"
      ]
    },
    {
      "cell_type": "code",
      "execution_count": 6,
      "metadata": {
        "id": "35c5cf226809"
      },
      "outputs": [],
      "source": [
        "import inspect\n",
        "import logging\n",
        "import warnings\n",
        "\n",
        "# General\n",
        "from IPython.display import HTML, Markdown, display\n",
        "import pandas as pd\n",
        "import plotly.graph_objects as go\n",
        "\n",
        "# Main\n",
        "from vertexai.evaluation import EvalTask, MetricPromptTemplateExamples, PointwiseMetric"
      ]
    },
    {
      "cell_type": "markdown",
      "metadata": {
        "id": "d4658fb61af1"
      },
      "source": [
        "### Library settings"
      ]
    },
    {
      "cell_type": "code",
      "execution_count": 7,
      "metadata": {
        "id": "69d490ad8329"
      },
      "outputs": [],
      "source": [
        "logging.getLogger(\"urllib3.connectionpool\").setLevel(logging.ERROR)\n",
        "warnings.filterwarnings(\"ignore\")"
      ]
    },
    {
      "cell_type": "markdown",
      "metadata": {
        "id": "eb47cbc98ac0"
      },
      "source": [
        "### Helper functions"
      ]
    },
    {
      "cell_type": "code",
      "execution_count": 8,
      "metadata": {
        "id": "d435a8f422ac"
      },
      "outputs": [],
      "source": [
        "def print_doc(function):\n",
        "    print(f\"{function.__name__}:\\n{inspect.getdoc(function)}\\n\")\n",
        "\n",
        "\n",
        "def display_eval_report(eval_result, metrics=None):\n",
        "    \"\"\"Display the evaluation results.\"\"\"\n",
        "\n",
        "    title, summary_metrics, report_df = eval_result\n",
        "    metrics_df = pd.DataFrame.from_dict(summary_metrics, orient=\"index\").T\n",
        "    if metrics:\n",
        "        metrics_df = metrics_df.filter(\n",
        "            [\n",
        "                metric\n",
        "                for metric in metrics_df.columns\n",
        "                if any(selected_metric in metric for selected_metric in metrics)\n",
        "            ]\n",
        "        )\n",
        "        report_df = report_df.filter(\n",
        "            [\n",
        "                metric\n",
        "                for metric in report_df.columns\n",
        "                if any(selected_metric in metric for selected_metric in metrics)\n",
        "            ]\n",
        "        )\n",
        "\n",
        "    # Display the title with Markdown for emphasis\n",
        "    display(Markdown(f\"## {title}\"))\n",
        "\n",
        "    # Display the metrics DataFrame\n",
        "    display(Markdown(\"### Summary Metrics\"))\n",
        "    display(metrics_df)\n",
        "\n",
        "    # Display the detailed report DataFrame\n",
        "    display(Markdown(\"### Report Metrics\"))\n",
        "    display(report_df)\n",
        "\n",
        "\n",
        "def display_explanations(df, metrics=None, n=1):\n",
        "    style = \"white-space: pre-wrap; width: 800px; overflow-x: auto;\"\n",
        "    df = df.sample(n=n)\n",
        "    if metrics:\n",
        "        df = df.filter(\n",
        "            [\"instruction\", \"context\", \"reference\", \"completed_prompt\", \"response\"]\n",
        "            + [\n",
        "                metric\n",
        "                for metric in df.columns\n",
        "                if any(selected_metric in metric for selected_metric in metrics)\n",
        "            ]\n",
        "        )\n",
        "\n",
        "    for index, row in df.iterrows():\n",
        "        for col in df.columns:\n",
        "            display(HTML(f\"<h2>{col}:</h2> <div style='{style}'>{row[col]}</div>\"))\n",
        "        display(HTML(\"<hr>\"))\n",
        "\n",
        "\n",
        "def plot_radar_plot(eval_results, max_score=5, metrics=None):\n",
        "    fig = go.Figure()\n",
        "\n",
        "    for eval_result in eval_results:\n",
        "        title, summary_metrics, report_df = eval_result\n",
        "\n",
        "        if metrics:\n",
        "            summary_metrics = {\n",
        "                k: summary_metrics[k]\n",
        "                for k, v in summary_metrics.items()\n",
        "                if any(selected_metric in k for selected_metric in metrics)\n",
        "            }\n",
        "\n",
        "        fig.add_trace(\n",
        "            go.Scatterpolar(\n",
        "                r=list(summary_metrics.values()),\n",
        "                theta=list(summary_metrics.keys()),\n",
        "                fill=\"toself\",\n",
        "                name=title,\n",
        "            )\n",
        "        )\n",
        "\n",
        "    fig.update_layout(\n",
        "        polar=dict(radialaxis=dict(visible=True, range=[0, max_score])), showlegend=True\n",
        "    )\n",
        "\n",
        "    fig.show()\n",
        "\n",
        "\n",
        "def plot_bar_plot(eval_results, metrics=None):\n",
        "    fig = go.Figure()\n",
        "    data = []\n",
        "\n",
        "    for eval_result in eval_results:\n",
        "        title, summary_metrics, _ = eval_result\n",
        "        if metrics:\n",
        "            summary_metrics = {\n",
        "                k: summary_metrics[k]\n",
        "                for k, v in summary_metrics.items()\n",
        "                if any(selected_metric in k for selected_metric in metrics)\n",
        "            }\n",
        "\n",
        "        data.append(\n",
        "            go.Bar(\n",
        "                x=list(summary_metrics.keys()),\n",
        "                y=list(summary_metrics.values()),\n",
        "                name=title,\n",
        "            )\n",
        "        )\n",
        "\n",
        "    fig = go.Figure(data=data)\n",
        "\n",
        "    # Change the bar mode\n",
        "    fig.update_layout(barmode=\"group\")\n",
        "    fig.show()"
      ]
    },
    {
      "cell_type": "markdown",
      "metadata": {
        "id": "a7cbf0f80994"
      },
      "source": [
        "# Bring-Your-Own-Response Evaluation for RAG: Reference-Free (without Golden Answer)\n",
        "\n",
        "Perform bring-your-own-response evaluation by assessing the generated answer's quality based on the context retrieved. It does not compare with golden answer."
      ]
    },
    {
      "cell_type": "markdown",
      "metadata": {
        "id": "65f3c127e2a4"
      },
      "source": [
        "### Prepare your dataset"
      ]
    },
    {
      "cell_type": "markdown",
      "metadata": {
        "id": "6faab1bac7e9"
      },
      "source": [
        "To evaluate the RAG generated answers, the evaluation dataset is required to contain the following fields:\n",
        "\n",
        "* Prompt: The user supplied prompt consisting of the User Question and the RAG Retrieved Context\n",
        "* Response: The RAG Generated Answer\n",
        "\n",
        "Your dataset must include a minimum of one evaluation example. We recommend around 100 examples to ensure high-quality aggregated metrics and statistically significant results."
      ]
    },
    {
      "cell_type": "code",
      "execution_count": 9,
      "metadata": {
        "id": "45357974c82f",
        "colab": {
          "base_uri": "https://localhost:8080/",
          "height": 143
        },
        "outputId": "074d40f9-2290-44f1-8fd6-6d09da392f07"
      },
      "outputs": [
        {
          "output_type": "execute_result",
          "data": {
            "text/plain": [
              "                                              prompt  \\\n",
              "0  Answer the question: Which part of the brain d...   \n",
              "1  Answer the question: What provided the Roman s...   \n",
              "2  Answer the question: What area did the Hasan-j...   \n",
              "\n",
              "                                            response  \n",
              "0                 frontal lobe and the parietal lobe  \n",
              "1  The Roman Senate was filled with exuberance du...  \n",
              "2  The Hasan-Jalalians commanded the area of Syun...  "
            ],
            "text/html": [
              "\n",
              "  <div id=\"df-cf412ca7-758c-4ef0-b2b3-8d715662c743\" class=\"colab-df-container\">\n",
              "    <div>\n",
              "<style scoped>\n",
              "    .dataframe tbody tr th:only-of-type {\n",
              "        vertical-align: middle;\n",
              "    }\n",
              "\n",
              "    .dataframe tbody tr th {\n",
              "        vertical-align: top;\n",
              "    }\n",
              "\n",
              "    .dataframe thead th {\n",
              "        text-align: right;\n",
              "    }\n",
              "</style>\n",
              "<table border=\"1\" class=\"dataframe\">\n",
              "  <thead>\n",
              "    <tr style=\"text-align: right;\">\n",
              "      <th></th>\n",
              "      <th>prompt</th>\n",
              "      <th>response</th>\n",
              "    </tr>\n",
              "  </thead>\n",
              "  <tbody>\n",
              "    <tr>\n",
              "      <th>0</th>\n",
              "      <td>Answer the question: Which part of the brain d...</td>\n",
              "      <td>frontal lobe and the parietal lobe</td>\n",
              "    </tr>\n",
              "    <tr>\n",
              "      <th>1</th>\n",
              "      <td>Answer the question: What provided the Roman s...</td>\n",
              "      <td>The Roman Senate was filled with exuberance du...</td>\n",
              "    </tr>\n",
              "    <tr>\n",
              "      <th>2</th>\n",
              "      <td>Answer the question: What area did the Hasan-j...</td>\n",
              "      <td>The Hasan-Jalalians commanded the area of Syun...</td>\n",
              "    </tr>\n",
              "  </tbody>\n",
              "</table>\n",
              "</div>\n",
              "    <div class=\"colab-df-buttons\">\n",
              "\n",
              "  <div class=\"colab-df-container\">\n",
              "    <button class=\"colab-df-convert\" onclick=\"convertToInteractive('df-cf412ca7-758c-4ef0-b2b3-8d715662c743')\"\n",
              "            title=\"Convert this dataframe to an interactive table.\"\n",
              "            style=\"display:none;\">\n",
              "\n",
              "  <svg xmlns=\"http://www.w3.org/2000/svg\" height=\"24px\" viewBox=\"0 -960 960 960\">\n",
              "    <path d=\"M120-120v-720h720v720H120Zm60-500h600v-160H180v160Zm220 220h160v-160H400v160Zm0 220h160v-160H400v160ZM180-400h160v-160H180v160Zm440 0h160v-160H620v160ZM180-180h160v-160H180v160Zm440 0h160v-160H620v160Z\"/>\n",
              "  </svg>\n",
              "    </button>\n",
              "\n",
              "  <style>\n",
              "    .colab-df-container {\n",
              "      display:flex;\n",
              "      gap: 12px;\n",
              "    }\n",
              "\n",
              "    .colab-df-convert {\n",
              "      background-color: #E8F0FE;\n",
              "      border: none;\n",
              "      border-radius: 50%;\n",
              "      cursor: pointer;\n",
              "      display: none;\n",
              "      fill: #1967D2;\n",
              "      height: 32px;\n",
              "      padding: 0 0 0 0;\n",
              "      width: 32px;\n",
              "    }\n",
              "\n",
              "    .colab-df-convert:hover {\n",
              "      background-color: #E2EBFA;\n",
              "      box-shadow: 0px 1px 2px rgba(60, 64, 67, 0.3), 0px 1px 3px 1px rgba(60, 64, 67, 0.15);\n",
              "      fill: #174EA6;\n",
              "    }\n",
              "\n",
              "    .colab-df-buttons div {\n",
              "      margin-bottom: 4px;\n",
              "    }\n",
              "\n",
              "    [theme=dark] .colab-df-convert {\n",
              "      background-color: #3B4455;\n",
              "      fill: #D2E3FC;\n",
              "    }\n",
              "\n",
              "    [theme=dark] .colab-df-convert:hover {\n",
              "      background-color: #434B5C;\n",
              "      box-shadow: 0px 1px 3px 1px rgba(0, 0, 0, 0.15);\n",
              "      filter: drop-shadow(0px 1px 2px rgba(0, 0, 0, 0.3));\n",
              "      fill: #FFFFFF;\n",
              "    }\n",
              "  </style>\n",
              "\n",
              "    <script>\n",
              "      const buttonEl =\n",
              "        document.querySelector('#df-cf412ca7-758c-4ef0-b2b3-8d715662c743 button.colab-df-convert');\n",
              "      buttonEl.style.display =\n",
              "        google.colab.kernel.accessAllowed ? 'block' : 'none';\n",
              "\n",
              "      async function convertToInteractive(key) {\n",
              "        const element = document.querySelector('#df-cf412ca7-758c-4ef0-b2b3-8d715662c743');\n",
              "        const dataTable =\n",
              "          await google.colab.kernel.invokeFunction('convertToInteractive',\n",
              "                                                    [key], {});\n",
              "        if (!dataTable) return;\n",
              "\n",
              "        const docLinkHtml = 'Like what you see? Visit the ' +\n",
              "          '<a target=\"_blank\" href=https://colab.research.google.com/notebooks/data_table.ipynb>data table notebook</a>'\n",
              "          + ' to learn more about interactive tables.';\n",
              "        element.innerHTML = '';\n",
              "        dataTable['output_type'] = 'display_data';\n",
              "        await google.colab.output.renderOutput(dataTable, element);\n",
              "        const docLink = document.createElement('div');\n",
              "        docLink.innerHTML = docLinkHtml;\n",
              "        element.appendChild(docLink);\n",
              "      }\n",
              "    </script>\n",
              "  </div>\n",
              "\n",
              "\n",
              "<div id=\"df-65b9b613-9d4f-47de-9045-7faa1b1a3911\">\n",
              "  <button class=\"colab-df-quickchart\" onclick=\"quickchart('df-65b9b613-9d4f-47de-9045-7faa1b1a3911')\"\n",
              "            title=\"Suggest charts\"\n",
              "            style=\"display:none;\">\n",
              "\n",
              "<svg xmlns=\"http://www.w3.org/2000/svg\" height=\"24px\"viewBox=\"0 0 24 24\"\n",
              "     width=\"24px\">\n",
              "    <g>\n",
              "        <path d=\"M19 3H5c-1.1 0-2 .9-2 2v14c0 1.1.9 2 2 2h14c1.1 0 2-.9 2-2V5c0-1.1-.9-2-2-2zM9 17H7v-7h2v7zm4 0h-2V7h2v10zm4 0h-2v-4h2v4z\"/>\n",
              "    </g>\n",
              "</svg>\n",
              "  </button>\n",
              "\n",
              "<style>\n",
              "  .colab-df-quickchart {\n",
              "      --bg-color: #E8F0FE;\n",
              "      --fill-color: #1967D2;\n",
              "      --hover-bg-color: #E2EBFA;\n",
              "      --hover-fill-color: #174EA6;\n",
              "      --disabled-fill-color: #AAA;\n",
              "      --disabled-bg-color: #DDD;\n",
              "  }\n",
              "\n",
              "  [theme=dark] .colab-df-quickchart {\n",
              "      --bg-color: #3B4455;\n",
              "      --fill-color: #D2E3FC;\n",
              "      --hover-bg-color: #434B5C;\n",
              "      --hover-fill-color: #FFFFFF;\n",
              "      --disabled-bg-color: #3B4455;\n",
              "      --disabled-fill-color: #666;\n",
              "  }\n",
              "\n",
              "  .colab-df-quickchart {\n",
              "    background-color: var(--bg-color);\n",
              "    border: none;\n",
              "    border-radius: 50%;\n",
              "    cursor: pointer;\n",
              "    display: none;\n",
              "    fill: var(--fill-color);\n",
              "    height: 32px;\n",
              "    padding: 0;\n",
              "    width: 32px;\n",
              "  }\n",
              "\n",
              "  .colab-df-quickchart:hover {\n",
              "    background-color: var(--hover-bg-color);\n",
              "    box-shadow: 0 1px 2px rgba(60, 64, 67, 0.3), 0 1px 3px 1px rgba(60, 64, 67, 0.15);\n",
              "    fill: var(--button-hover-fill-color);\n",
              "  }\n",
              "\n",
              "  .colab-df-quickchart-complete:disabled,\n",
              "  .colab-df-quickchart-complete:disabled:hover {\n",
              "    background-color: var(--disabled-bg-color);\n",
              "    fill: var(--disabled-fill-color);\n",
              "    box-shadow: none;\n",
              "  }\n",
              "\n",
              "  .colab-df-spinner {\n",
              "    border: 2px solid var(--fill-color);\n",
              "    border-color: transparent;\n",
              "    border-bottom-color: var(--fill-color);\n",
              "    animation:\n",
              "      spin 1s steps(1) infinite;\n",
              "  }\n",
              "\n",
              "  @keyframes spin {\n",
              "    0% {\n",
              "      border-color: transparent;\n",
              "      border-bottom-color: var(--fill-color);\n",
              "      border-left-color: var(--fill-color);\n",
              "    }\n",
              "    20% {\n",
              "      border-color: transparent;\n",
              "      border-left-color: var(--fill-color);\n",
              "      border-top-color: var(--fill-color);\n",
              "    }\n",
              "    30% {\n",
              "      border-color: transparent;\n",
              "      border-left-color: var(--fill-color);\n",
              "      border-top-color: var(--fill-color);\n",
              "      border-right-color: var(--fill-color);\n",
              "    }\n",
              "    40% {\n",
              "      border-color: transparent;\n",
              "      border-right-color: var(--fill-color);\n",
              "      border-top-color: var(--fill-color);\n",
              "    }\n",
              "    60% {\n",
              "      border-color: transparent;\n",
              "      border-right-color: var(--fill-color);\n",
              "    }\n",
              "    80% {\n",
              "      border-color: transparent;\n",
              "      border-right-color: var(--fill-color);\n",
              "      border-bottom-color: var(--fill-color);\n",
              "    }\n",
              "    90% {\n",
              "      border-color: transparent;\n",
              "      border-bottom-color: var(--fill-color);\n",
              "    }\n",
              "  }\n",
              "</style>\n",
              "\n",
              "  <script>\n",
              "    async function quickchart(key) {\n",
              "      const quickchartButtonEl =\n",
              "        document.querySelector('#' + key + ' button');\n",
              "      quickchartButtonEl.disabled = true;  // To prevent multiple clicks.\n",
              "      quickchartButtonEl.classList.add('colab-df-spinner');\n",
              "      try {\n",
              "        const charts = await google.colab.kernel.invokeFunction(\n",
              "            'suggestCharts', [key], {});\n",
              "      } catch (error) {\n",
              "        console.error('Error during call to suggestCharts:', error);\n",
              "      }\n",
              "      quickchartButtonEl.classList.remove('colab-df-spinner');\n",
              "      quickchartButtonEl.classList.add('colab-df-quickchart-complete');\n",
              "    }\n",
              "    (() => {\n",
              "      let quickchartButtonEl =\n",
              "        document.querySelector('#df-65b9b613-9d4f-47de-9045-7faa1b1a3911 button');\n",
              "      quickchartButtonEl.style.display =\n",
              "        google.colab.kernel.accessAllowed ? 'block' : 'none';\n",
              "    })();\n",
              "  </script>\n",
              "</div>\n",
              "\n",
              "  <div id=\"id_1f944977-898d-4536-aee5-e2f3995d19fa\">\n",
              "    <style>\n",
              "      .colab-df-generate {\n",
              "        background-color: #E8F0FE;\n",
              "        border: none;\n",
              "        border-radius: 50%;\n",
              "        cursor: pointer;\n",
              "        display: none;\n",
              "        fill: #1967D2;\n",
              "        height: 32px;\n",
              "        padding: 0 0 0 0;\n",
              "        width: 32px;\n",
              "      }\n",
              "\n",
              "      .colab-df-generate:hover {\n",
              "        background-color: #E2EBFA;\n",
              "        box-shadow: 0px 1px 2px rgba(60, 64, 67, 0.3), 0px 1px 3px 1px rgba(60, 64, 67, 0.15);\n",
              "        fill: #174EA6;\n",
              "      }\n",
              "\n",
              "      [theme=dark] .colab-df-generate {\n",
              "        background-color: #3B4455;\n",
              "        fill: #D2E3FC;\n",
              "      }\n",
              "\n",
              "      [theme=dark] .colab-df-generate:hover {\n",
              "        background-color: #434B5C;\n",
              "        box-shadow: 0px 1px 3px 1px rgba(0, 0, 0, 0.15);\n",
              "        filter: drop-shadow(0px 1px 2px rgba(0, 0, 0, 0.3));\n",
              "        fill: #FFFFFF;\n",
              "      }\n",
              "    </style>\n",
              "    <button class=\"colab-df-generate\" onclick=\"generateWithVariable('eval_dataset_rag_a')\"\n",
              "            title=\"Generate code using this dataframe.\"\n",
              "            style=\"display:none;\">\n",
              "\n",
              "  <svg xmlns=\"http://www.w3.org/2000/svg\" height=\"24px\"viewBox=\"0 0 24 24\"\n",
              "       width=\"24px\">\n",
              "    <path d=\"M7,19H8.4L18.45,9,17,7.55,7,17.6ZM5,21V16.75L18.45,3.32a2,2,0,0,1,2.83,0l1.4,1.43a1.91,1.91,0,0,1,.58,1.4,1.91,1.91,0,0,1-.58,1.4L9.25,21ZM18.45,9,17,7.55Zm-12,3A5.31,5.31,0,0,0,4.9,8.1,5.31,5.31,0,0,0,1,6.5,5.31,5.31,0,0,0,4.9,4.9,5.31,5.31,0,0,0,6.5,1,5.31,5.31,0,0,0,8.1,4.9,5.31,5.31,0,0,0,12,6.5,5.46,5.46,0,0,0,6.5,12Z\"/>\n",
              "  </svg>\n",
              "    </button>\n",
              "    <script>\n",
              "      (() => {\n",
              "      const buttonEl =\n",
              "        document.querySelector('#id_1f944977-898d-4536-aee5-e2f3995d19fa button.colab-df-generate');\n",
              "      buttonEl.style.display =\n",
              "        google.colab.kernel.accessAllowed ? 'block' : 'none';\n",
              "\n",
              "      buttonEl.onclick = () => {\n",
              "        google.colab.notebook.generateWithVariable('eval_dataset_rag_a');\n",
              "      }\n",
              "      })();\n",
              "    </script>\n",
              "  </div>\n",
              "\n",
              "    </div>\n",
              "  </div>\n"
            ],
            "application/vnd.google.colaboratory.intrinsic+json": {
              "type": "dataframe",
              "variable_name": "eval_dataset_rag_a",
              "summary": "{\n  \"name\": \"eval_dataset_rag_a\",\n  \"rows\": 3,\n  \"fields\": [\n    {\n      \"column\": \"prompt\",\n      \"properties\": {\n        \"dtype\": \"string\",\n        \"num_unique_values\": 3,\n        \"samples\": [\n          \"Answer the question: Which part of the brain does short-term memory seem to rely on? Context: Short-term memory is supported by transient patterns of neuronal communication, dependent on regions of the frontal lobe (especially dorsolateral prefrontal cortex) and the parietal lobe. Long-term memory, on the other hand, is maintained by more stable and permanent changes in neural connections widely spread throughout the brain. The hippocampus is essential (for learning new information) to the consolidation of information from short-term to long-term memory, although it does not seem to store information itself. Without the hippocampus, new memories are unable to be stored into long-term memory, as learned from patient Henry Molaison after removal of both his hippocampi, and there will be a very short attention span. Furthermore, it may be involved in changing neural connections for a period of three months or more after the initial learning.\",\n          \"Answer the question: What provided the Roman senate with exuberance? Context: In 62 BC, Pompey returned victorious from Asia. The Senate, elated by its successes against Catiline, refused to ratify the arrangements that Pompey had made. Pompey, in effect, became powerless. Thus, when Julius Caesar returned from a governorship in Spain in 61 BC, he found it easy to make an arrangement with Pompey. Caesar and Pompey, along with Crassus, established a private agreement, now known as the First Triumvirate. Under the agreement, Pompey's arrangements would be ratified. Caesar would be elected consul in 59 BC, and would then serve as governor of Gaul for five years. Crassus was promised a future consulship.\",\n          \"Answer the question: What area did the Hasan-jalalians command? Context: The Seljuk Empire soon started to collapse. In the early 12th century, Armenian princes of the Zakarid noble family drove out the Seljuk Turks and established a semi-independent Armenian principality in Northern and Eastern Armenia, known as Zakarid Armenia, which lasted under the patronage of the Georgian Kingdom. The noble family of Orbelians shared control with the Zakarids in various parts of the country, especially in Syunik and Vayots Dzor, while the Armenian family of Hasan-Jalalians controlled provinces of Artsakh and Utik as the Kingdom of Artsakh.\"\n        ],\n        \"semantic_type\": \"\",\n        \"description\": \"\"\n      }\n    },\n    {\n      \"column\": \"response\",\n      \"properties\": {\n        \"dtype\": \"string\",\n        \"num_unique_values\": 3,\n        \"samples\": [\n          \"frontal lobe and the parietal lobe\",\n          \"The Roman Senate was filled with exuberance due to successes against Catiline.\",\n          \"The Hasan-Jalalians commanded the area of Syunik and Vayots Dzor.\"\n        ],\n        \"semantic_type\": \"\",\n        \"description\": \"\"\n      }\n    }\n  ]\n}"
            }
          },
          "metadata": {},
          "execution_count": 9
        }
      ],
      "source": [
        "questions = [\n",
        "    \"Which part of the brain does short-term memory seem to rely on?\",\n",
        "    \"What provided the Roman senate with exuberance?\",\n",
        "    \"What area did the Hasan-jalalians command?\",\n",
        "]\n",
        "\n",
        "retrieved_contexts = [\n",
        "    \"Short-term memory is supported by transient patterns of neuronal communication, dependent on regions of the frontal lobe (especially dorsolateral prefrontal cortex) and the parietal lobe. Long-term memory, on the other hand, is maintained by more stable and permanent changes in neural connections widely spread throughout the brain. The hippocampus is essential (for learning new information) to the consolidation of information from short-term to long-term memory, although it does not seem to store information itself. Without the hippocampus, new memories are unable to be stored into long-term memory, as learned from patient Henry Molaison after removal of both his hippocampi, and there will be a very short attention span. Furthermore, it may be involved in changing neural connections for a period of three months or more after the initial learning.\",\n",
        "    \"In 62 BC, Pompey returned victorious from Asia. The Senate, elated by its successes against Catiline, refused to ratify the arrangements that Pompey had made. Pompey, in effect, became powerless. Thus, when Julius Caesar returned from a governorship in Spain in 61 BC, he found it easy to make an arrangement with Pompey. Caesar and Pompey, along with Crassus, established a private agreement, now known as the First Triumvirate. Under the agreement, Pompey's arrangements would be ratified. Caesar would be elected consul in 59 BC, and would then serve as governor of Gaul for five years. Crassus was promised a future consulship.\",\n",
        "    \"The Seljuk Empire soon started to collapse. In the early 12th century, Armenian princes of the Zakarid noble family drove out the Seljuk Turks and established a semi-independent Armenian principality in Northern and Eastern Armenia, known as Zakarid Armenia, which lasted under the patronage of the Georgian Kingdom. The noble family of Orbelians shared control with the Zakarids in various parts of the country, especially in Syunik and Vayots Dzor, while the Armenian family of Hasan-Jalalians controlled provinces of Artsakh and Utik as the Kingdom of Artsakh.\",\n",
        "]\n",
        "\n",
        "generated_answers_by_rag_a = [\n",
        "    \"frontal lobe and the parietal lobe\",\n",
        "    \"The Roman Senate was filled with exuberance due to successes against Catiline.\",\n",
        "    \"The Hasan-Jalalians commanded the area of Syunik and Vayots Dzor.\",\n",
        "]\n",
        "\n",
        "generated_answers_by_rag_b = [\n",
        "    \"Occipital lobe\",\n",
        "    \"The Roman Senate was subdued because they had food poisoning.\",\n",
        "    \"The Galactic Empire commanded the state of Utah.\",\n",
        "]\n",
        "\n",
        "eval_dataset_rag_a = pd.DataFrame(\n",
        "    {\n",
        "        \"prompt\": [\n",
        "            \"Answer the question: \" + question + \" Context: \" + item\n",
        "            for question, item in zip(questions, retrieved_contexts)\n",
        "        ],\n",
        "        \"response\": generated_answers_by_rag_a,\n",
        "    }\n",
        ")\n",
        "\n",
        "eval_dataset_rag_b = pd.DataFrame(\n",
        "    {\n",
        "        \"prompt\": [\n",
        "            \"Answer the question: \" + question + \" Context: \" + item\n",
        "            for question, item in zip(questions, retrieved_contexts)\n",
        "        ],\n",
        "        \"response\": generated_answers_by_rag_b,\n",
        "    }\n",
        ")\n",
        "\n",
        "eval_dataset_rag_a"
      ]
    },
    {
      "cell_type": "markdown",
      "metadata": {
        "id": "6109ce3b080c"
      },
      "source": [
        "### Select and create metrics\n",
        "\n",
        "\n",
        "You can run evaluation for just one metric, or a combination of metrics. For this example, we select a few RAG-related predefined metrics, and create a few of our own custom metrics."
      ]
    },
    {
      "cell_type": "markdown",
      "metadata": {
        "id": "41860924a9da"
      },
      "source": [
        "#### Explore predefined metrics"
      ]
    },
    {
      "cell_type": "code",
      "execution_count": 10,
      "metadata": {
        "id": "f4bd293770e8",
        "colab": {
          "base_uri": "https://localhost:8080/"
        },
        "outputId": "e1c6e600-8f8e-476d-85db-d780d88ba563"
      },
      "outputs": [
        {
          "output_type": "execute_result",
          "data": {
            "text/plain": [
              "['coherence',\n",
              " 'fluency',\n",
              " 'safety',\n",
              " 'groundedness',\n",
              " 'instruction_following',\n",
              " 'verbosity',\n",
              " 'text_quality',\n",
              " 'summarization_quality',\n",
              " 'question_answering_quality',\n",
              " 'multi_turn_chat_quality',\n",
              " 'multi_turn_safety',\n",
              " 'pairwise_coherence',\n",
              " 'pairwise_fluency',\n",
              " 'pairwise_safety',\n",
              " 'pairwise_groundedness',\n",
              " 'pairwise_instruction_following',\n",
              " 'pairwise_verbosity',\n",
              " 'pairwise_text_quality',\n",
              " 'pairwise_summarization_quality',\n",
              " 'pairwise_question_answering_quality',\n",
              " 'pairwise_multi_turn_chat_quality',\n",
              " 'pairwise_multi_turn_safety']"
            ]
          },
          "metadata": {},
          "execution_count": 10
        }
      ],
      "source": [
        "# See all the available metric examples\n",
        "MetricPromptTemplateExamples.list_example_metric_names()"
      ]
    },
    {
      "cell_type": "code",
      "execution_count": 11,
      "metadata": {
        "id": "24e423f8781a",
        "colab": {
          "base_uri": "https://localhost:8080/"
        },
        "outputId": "564461c6-a3bd-48c3-fc46-4b162cb86d21"
      },
      "outputs": [
        {
          "output_type": "stream",
          "name": "stdout",
          "text": [
            "\n",
            "# Instruction\n",
            "You are an expert evaluator. Your task is to evaluate the quality of the responses generated by AI models.\n",
            "We will provide you with the user input and an AI-generated response.\n",
            "You should first read the user input carefully for analyzing the task, and then evaluate the quality of the responses based on the Criteria provided in the Evaluation section below.\n",
            "You will assign the response a rating following the Rating Rubric and Evaluation Steps. Give step-by-step explanations for your rating, and only choose ratings from the Rating Rubric.\n",
            "\n",
            "\n",
            "# Evaluation\n",
            "## Metric Definition\n",
            "You will be assessing question answering quality, which measures the overall quality of the answer to the question in user input. The instruction for performing a question-answering task is provided in the user prompt.\n",
            "\n",
            "## Criteria\n",
            "Instruction following: The response demonstrates a clear understanding of the question answering task instructions, satisfying all of the instruction's requirements.\n",
            "Groundedness: The response contains information included only in the context if the context is present in user prompt. The response does not reference any outside information.\n",
            "Completeness: The response completely answers the question with sufficient detail.\n",
            "Fluent: The response is well-organized and easy to read.\n",
            "\n",
            "## Rating Rubric\n",
            "5: (Very good). The answer follows instructions, is grounded, complete, and fluent.\n",
            "4: (Good). The answer follows instructions, is grounded, complete, but is not very fluent.\n",
            "3: (Ok). The answer mostly follows instructions, is grounded, answers the question partially and is not very fluent.\n",
            "2: (Bad). The answer does not follow the instructions very well, is incomplete or not fully grounded.\n",
            "1: (Very bad). The answer does not follow the instructions, is wrong and not grounded.\n",
            "\n",
            "## Evaluation Steps\n",
            "STEP 1: Assess the response in aspects of instruction following, groundedness, completeness and fluency according to the criteria.\n",
            "STEP 2: Score based on the rubric.\n",
            "\n",
            "# User Inputs and AI-generated Response\n",
            "## User Inputs\n",
            "### Prompt\n",
            "{prompt}\n",
            "\n",
            "## AI-generated Response\n",
            "{response}\n",
            "\n"
          ]
        }
      ],
      "source": [
        "# See the prompt example for one of the pointwise metrics\n",
        "print(MetricPromptTemplateExamples.get_prompt_template(\"question_answering_quality\"))"
      ]
    },
    {
      "cell_type": "markdown",
      "metadata": {
        "id": "2e30cfbf9f75"
      },
      "source": [
        "#### Create custom metrics"
      ]
    },
    {
      "cell_type": "code",
      "execution_count": 12,
      "metadata": {
        "id": "2c5330ad250a"
      },
      "outputs": [],
      "source": [
        "relevance_prompt_template = \"\"\"\n",
        "You are a professional writing evaluator. Your job is to score writing responses according to pre-defined evaluation criteria.\n",
        "\n",
        "You will be assessing relevance, which measures the ability to respond with relevant information when given a prompt.\n",
        "\n",
        "You will assign the writing response a score from 5, 4, 3, 2, 1, following the rating rubric and evaluation steps.\n",
        "\n",
        "## Criteria\n",
        "Relevance: The response should be relevant to the instruction and directly address the instruction.\n",
        "\n",
        "## Rating Rubric\n",
        "5 (completely relevant): Response is entirely relevant to the instruction and provides clearly defined information that addresses the instruction's core needs directly.\n",
        "4 (mostly relevant): Response is mostly relevant to the instruction and addresses the instruction mostly directly.\n",
        "3 (somewhat relevant): Response is somewhat relevant to the instruction and may address the instruction indirectly, but could be more relevant and more direct.\n",
        "2 (somewhat irrelevant): Response is minimally relevant to the instruction and does not address the instruction directly.\n",
        "1 (irrelevant): Response is completely irrelevant to the instruction.\n",
        "\n",
        "## Evaluation Steps\n",
        "STEP 1: Assess relevance: is response relevant to the instruction and directly address the instruction?\n",
        "STEP 2: Score based on the criteria and rubrics.\n",
        "\n",
        "Give step by step explanations for your scoring, and only choose scores from 5, 4, 3, 2, 1.\n",
        "\n",
        "\n",
        "# User Inputs and AI-generated Response\n",
        "## User Inputs\n",
        "### Prompt\n",
        "{prompt}\n",
        "\n",
        "## AI-generated Response\n",
        "{response}\n",
        "\"\"\""
      ]
    },
    {
      "cell_type": "code",
      "execution_count": 13,
      "metadata": {
        "id": "f2da7b722d0e"
      },
      "outputs": [],
      "source": [
        "helpfulness_prompt_template = \"\"\"\n",
        "You are a professional writing evaluator. Your job is to score writing responses according to pre-defined evaluation criteria.\n",
        "\n",
        "You will be assessing helpfulness, which measures the ability to provide important details when answering a prompt.\n",
        "\n",
        "You will assign the writing response a score from 5, 4, 3, 2, 1, following the rating rubric and evaluation steps.\n",
        "\n",
        "## Criteria\n",
        "Helpfulness: The response is comprehensive with well-defined key details. The user would feel very satisfied with the content in a good response.\n",
        "\n",
        "## Rating Rubric\n",
        "5 (completely helpful): Response is useful and very comprehensive with well-defined key details to address the needs in the instruction and usually beyond what explicitly asked. The user would feel very satisfied with the content in the response.\n",
        "4 (mostly helpful): Response is very relevant to the instruction, providing clearly defined information that addresses the instruction's core needs.  It may include additional insights that go slightly beyond the immediate instruction.  The user would feel quite satisfied with the content in the response.\n",
        "3 (somewhat helpful): Response is relevant to the instruction and provides some useful content, but could be more relevant, well-defined, comprehensive, and/or detailed. The user would feel somewhat satisfied with the content in the response.\n",
        "2 (somewhat unhelpful): Response is minimally relevant to the instruction and may provide some vaguely useful information, but it lacks clarity and detail. It might contain minor inaccuracies. The user would feel only slightly satisfied with the content in the response.\n",
        "1 (unhelpful): Response is useless/irrelevant, contains inaccurate/deceptive/misleading information, and/or contains harmful/offensive content. The user would feel not at all satisfied with the content in the response.\n",
        "\n",
        "## Evaluation Steps\n",
        "STEP 1: Assess comprehensiveness: does the response provide specific, comprehensive, and clearly defined information for the user needs expressed in the instruction?\n",
        "STEP 2: Assess relevance: When appropriate for the instruction, does the response exceed the instruction by providing relevant details and related information to contextualize content and help the user better understand the response.\n",
        "STEP 3: Assess accuracy: Is the response free of inaccurate, deceptive, or misleading information?\n",
        "STEP 4: Assess safety: Is the response free of harmful or offensive content?\n",
        "\n",
        "Give step by step explanations for your scoring, and only choose scores from 5, 4, 3, 2, 1.\n",
        "\n",
        "\n",
        "# User Inputs and AI-generated Response\n",
        "## User Inputs\n",
        "### Prompt\n",
        "{prompt}\n",
        "\n",
        "## AI-generated Response\n",
        "{response}\n",
        "\"\"\""
      ]
    },
    {
      "cell_type": "code",
      "execution_count": 14,
      "metadata": {
        "id": "185c98ea135e"
      },
      "outputs": [],
      "source": [
        "relevance = PointwiseMetric(\n",
        "    metric=\"relevance\",\n",
        "    metric_prompt_template=relevance_prompt_template,\n",
        ")\n",
        "\n",
        "helpfulness = PointwiseMetric(\n",
        "    metric=\"helpfulness\",\n",
        "    metric_prompt_template=helpfulness_prompt_template,\n",
        ")"
      ]
    },
    {
      "cell_type": "markdown",
      "metadata": {
        "id": "421a1e185be3"
      },
      "source": [
        "### Run evaluation with your dataset"
      ]
    },
    {
      "cell_type": "code",
      "execution_count": 15,
      "metadata": {
        "id": "c02813283dff"
      },
      "outputs": [],
      "source": [
        "rag_eval_task_rag_a = EvalTask(\n",
        "    dataset=eval_dataset_rag_a,\n",
        "    metrics=[\n",
        "        \"question_answering_quality\",\n",
        "        relevance,\n",
        "        helpfulness,\n",
        "        \"groundedness\",\n",
        "        \"safety\",\n",
        "        \"instruction_following\",\n",
        "    ],\n",
        "    experiment=EXPERIMENT,\n",
        ")\n",
        "\n",
        "rag_eval_task_rag_b = EvalTask(\n",
        "    dataset=eval_dataset_rag_b,\n",
        "    metrics=[\n",
        "        \"question_answering_quality\",\n",
        "        relevance,\n",
        "        helpfulness,\n",
        "        \"groundedness\",\n",
        "        \"safety\",\n",
        "        \"instruction_following\",\n",
        "    ],\n",
        "    experiment=EXPERIMENT,\n",
        ")"
      ]
    },
    {
      "cell_type": "code",
      "execution_count": 16,
      "metadata": {
        "id": "cacdc1fce57e",
        "colab": {
          "base_uri": "https://localhost:8080/",
          "height": 456
        },
        "outputId": "f02314de-ef73-40f4-bd7c-75364a2db471"
      },
      "outputs": [
        {
          "output_type": "display_data",
          "data": {
            "text/plain": [
              "<IPython.core.display.HTML object>"
            ],
            "text/html": [
              "\n",
              "        \n",
              "    <link rel=\"stylesheet\" href=\"https://fonts.googleapis.com/icon?family=Material+Icons\">\n",
              "    <style>\n",
              "      .view-vertex-resource,\n",
              "      .view-vertex-resource:hover,\n",
              "      .view-vertex-resource:visited {\n",
              "        position: relative;\n",
              "        display: inline-flex;\n",
              "        flex-direction: row;\n",
              "        height: 32px;\n",
              "        padding: 0 12px;\n",
              "          margin: 4px 18px;\n",
              "        gap: 4px;\n",
              "        border-radius: 4px;\n",
              "\n",
              "        align-items: center;\n",
              "        justify-content: center;\n",
              "        background-color: rgb(255, 255, 255);\n",
              "        color: rgb(51, 103, 214);\n",
              "\n",
              "        font-family: Roboto,\"Helvetica Neue\",sans-serif;\n",
              "        font-size: 13px;\n",
              "        font-weight: 500;\n",
              "        text-transform: uppercase;\n",
              "        text-decoration: none !important;\n",
              "\n",
              "        transition: box-shadow 280ms cubic-bezier(0.4, 0, 0.2, 1) 0s;\n",
              "        box-shadow: 0px 3px 1px -2px rgba(0,0,0,0.2), 0px 2px 2px 0px rgba(0,0,0,0.14), 0px 1px 5px 0px rgba(0,0,0,0.12);\n",
              "      }\n",
              "      .view-vertex-resource:active {\n",
              "        box-shadow: 0px 5px 5px -3px rgba(0,0,0,0.2),0px 8px 10px 1px rgba(0,0,0,0.14),0px 3px 14px 2px rgba(0,0,0,0.12);\n",
              "      }\n",
              "      .view-vertex-resource:active .view-vertex-ripple::before {\n",
              "        position: absolute;\n",
              "        top: 0;\n",
              "        bottom: 0;\n",
              "        left: 0;\n",
              "        right: 0;\n",
              "        border-radius: 4px;\n",
              "        pointer-events: none;\n",
              "\n",
              "        content: '';\n",
              "        background-color: rgb(51, 103, 214);\n",
              "        opacity: 0.12;\n",
              "      }\n",
              "      .view-vertex-icon {\n",
              "        font-size: 18px;\n",
              "      }\n",
              "    </style>\n",
              "  \n",
              "        <a class=\"view-vertex-resource\" id=\"view-vertex-resource-f4f858f2-5702-44af-9bc5-aba4133f0f4c\" href=\"#view-view-vertex-resource-f4f858f2-5702-44af-9bc5-aba4133f0f4c\">\n",
              "          <span class=\"material-icons view-vertex-icon\">science</span>\n",
              "          <span>View Experiment</span>\n",
              "        </a>\n",
              "        \n",
              "        <script>\n",
              "          (function () {\n",
              "            const link = document.getElementById('view-vertex-resource-f4f858f2-5702-44af-9bc5-aba4133f0f4c');\n",
              "            link.addEventListener('click', (e) => {\n",
              "              if (window.google?.colab?.openUrl) {\n",
              "                window.google.colab.openUrl('https://console.cloud.google.com/vertex-ai/experiments/locations/us-central1/experiments/rag-eval-01/runs?project=ai-buildathon-test-nov9-1');\n",
              "              } else {\n",
              "                window.open('https://console.cloud.google.com/vertex-ai/experiments/locations/us-central1/experiments/rag-eval-01/runs?project=ai-buildathon-test-nov9-1', '_blank');\n",
              "              }\n",
              "              e.stopPropagation();\n",
              "              e.preventDefault();\n",
              "            });\n",
              "          })();\n",
              "        </script>\n",
              "    "
            ]
          },
          "metadata": {}
        },
        {
          "output_type": "stream",
          "name": "stderr",
          "text": [
            "INFO:google.cloud.aiplatform.metadata.experiment_resources:Associating projects/926771992458/locations/us-central1/metadataStores/default/contexts/rag-eval-01-591b9728-b857-46b3-bf88-f22f7b23a20d to Experiment: rag-eval-01\n"
          ]
        },
        {
          "output_type": "display_data",
          "data": {
            "text/plain": [
              "<IPython.core.display.HTML object>"
            ],
            "text/html": [
              "\n",
              "        \n",
              "    <link rel=\"stylesheet\" href=\"https://fonts.googleapis.com/icon?family=Material+Icons\">\n",
              "    <style>\n",
              "      .view-vertex-resource,\n",
              "      .view-vertex-resource:hover,\n",
              "      .view-vertex-resource:visited {\n",
              "        position: relative;\n",
              "        display: inline-flex;\n",
              "        flex-direction: row;\n",
              "        height: 32px;\n",
              "        padding: 0 12px;\n",
              "          margin: 4px 18px;\n",
              "        gap: 4px;\n",
              "        border-radius: 4px;\n",
              "\n",
              "        align-items: center;\n",
              "        justify-content: center;\n",
              "        background-color: rgb(255, 255, 255);\n",
              "        color: rgb(51, 103, 214);\n",
              "\n",
              "        font-family: Roboto,\"Helvetica Neue\",sans-serif;\n",
              "        font-size: 13px;\n",
              "        font-weight: 500;\n",
              "        text-transform: uppercase;\n",
              "        text-decoration: none !important;\n",
              "\n",
              "        transition: box-shadow 280ms cubic-bezier(0.4, 0, 0.2, 1) 0s;\n",
              "        box-shadow: 0px 3px 1px -2px rgba(0,0,0,0.2), 0px 2px 2px 0px rgba(0,0,0,0.14), 0px 1px 5px 0px rgba(0,0,0,0.12);\n",
              "      }\n",
              "      .view-vertex-resource:active {\n",
              "        box-shadow: 0px 5px 5px -3px rgba(0,0,0,0.2),0px 8px 10px 1px rgba(0,0,0,0.14),0px 3px 14px 2px rgba(0,0,0,0.12);\n",
              "      }\n",
              "      .view-vertex-resource:active .view-vertex-ripple::before {\n",
              "        position: absolute;\n",
              "        top: 0;\n",
              "        bottom: 0;\n",
              "        left: 0;\n",
              "        right: 0;\n",
              "        border-radius: 4px;\n",
              "        pointer-events: none;\n",
              "\n",
              "        content: '';\n",
              "        background-color: rgb(51, 103, 214);\n",
              "        opacity: 0.12;\n",
              "      }\n",
              "      .view-vertex-icon {\n",
              "        font-size: 18px;\n",
              "      }\n",
              "    </style>\n",
              "  \n",
              "        <a class=\"view-vertex-resource\" id=\"view-vertex-resource-7f0ed409-6ca3-4b42-b8f8-bc9372b56b26\" href=\"#view-view-vertex-resource-7f0ed409-6ca3-4b42-b8f8-bc9372b56b26\">\n",
              "          <span class=\"material-icons view-vertex-icon\">science</span>\n",
              "          <span>View Experiment Run</span>\n",
              "        </a>\n",
              "        \n",
              "        <script>\n",
              "          (function () {\n",
              "            const link = document.getElementById('view-vertex-resource-7f0ed409-6ca3-4b42-b8f8-bc9372b56b26');\n",
              "            link.addEventListener('click', (e) => {\n",
              "              if (window.google?.colab?.openUrl) {\n",
              "                window.google.colab.openUrl('https://console.cloud.google.com/vertex-ai/experiments/locations/us-central1/experiments/rag-eval-01/runs/rag-eval-01-591b9728-b857-46b3-bf88-f22f7b23a20d?project=ai-buildathon-test-nov9-1');\n",
              "              } else {\n",
              "                window.open('https://console.cloud.google.com/vertex-ai/experiments/locations/us-central1/experiments/rag-eval-01/runs/rag-eval-01-591b9728-b857-46b3-bf88-f22f7b23a20d?project=ai-buildathon-test-nov9-1', '_blank');\n",
              "              }\n",
              "              e.stopPropagation();\n",
              "              e.preventDefault();\n",
              "            });\n",
              "          })();\n",
              "        </script>\n",
              "    "
            ]
          },
          "metadata": {}
        },
        {
          "output_type": "stream",
          "name": "stderr",
          "text": [
            "INFO:vertexai.evaluation._evaluation:Computing metrics with a total of 18 Vertex Gen AI Evaluation Service API requests.\n",
            " 61%|██████    | 11/18 [10:20<06:34, 56.41s/it]\n"
          ]
        },
        {
          "output_type": "error",
          "ename": "KeyboardInterrupt",
          "evalue": "",
          "traceback": [
            "\u001b[0;31m---------------------------------------------------------------------------\u001b[0m",
            "\u001b[0;31mKeyboardInterrupt\u001b[0m                         Traceback (most recent call last)",
            "\u001b[0;32m<ipython-input-16-bf934d00b798>\u001b[0m in \u001b[0;36m<cell line: 1>\u001b[0;34m()\u001b[0m\n\u001b[0;32m----> 1\u001b[0;31m \u001b[0mresult_rag_a\u001b[0m \u001b[0;34m=\u001b[0m \u001b[0mrag_eval_task_rag_a\u001b[0m\u001b[0;34m.\u001b[0m\u001b[0mevaluate\u001b[0m\u001b[0;34m(\u001b[0m\u001b[0;34m)\u001b[0m\u001b[0;34m\u001b[0m\u001b[0;34m\u001b[0m\u001b[0m\n\u001b[0m\u001b[1;32m      2\u001b[0m \u001b[0mresult_rag_b\u001b[0m \u001b[0;34m=\u001b[0m \u001b[0mrag_eval_task_rag_b\u001b[0m\u001b[0;34m.\u001b[0m\u001b[0mevaluate\u001b[0m\u001b[0;34m(\u001b[0m\u001b[0;34m)\u001b[0m\u001b[0;34m\u001b[0m\u001b[0;34m\u001b[0m\u001b[0m\n",
            "\u001b[0;32m/usr/local/lib/python3.10/dist-packages/vertexai/evaluation/eval_task.py\u001b[0m in \u001b[0;36mevaluate\u001b[0;34m(self, model, prompt_template, experiment_run_name, response_column_name, baseline_model_response_column_name, evaluation_service_qps, retry_timeout, output_file_name)\u001b[0m\n\u001b[1;32m    429\u001b[0m                 \u001b[0mexperiment\u001b[0m\u001b[0;34m=\u001b[0m\u001b[0mself\u001b[0m\u001b[0;34m.\u001b[0m\u001b[0m_experiment\u001b[0m\u001b[0;34m,\u001b[0m \u001b[0mbacking_tensorboard\u001b[0m\u001b[0;34m=\u001b[0m\u001b[0;32mFalse\u001b[0m\u001b[0;34m\u001b[0m\u001b[0;34m\u001b[0m\u001b[0m\n\u001b[1;32m    430\u001b[0m             )\n\u001b[0;32m--> 431\u001b[0;31m             eval_result = self._evaluate_with_experiment(\n\u001b[0m\u001b[1;32m    432\u001b[0m                 \u001b[0mmodel\u001b[0m\u001b[0;34m=\u001b[0m\u001b[0mmodel\u001b[0m\u001b[0;34m,\u001b[0m\u001b[0;34m\u001b[0m\u001b[0;34m\u001b[0m\u001b[0m\n\u001b[1;32m    433\u001b[0m                 \u001b[0mprompt_template\u001b[0m\u001b[0;34m=\u001b[0m\u001b[0mprompt_template\u001b[0m\u001b[0;34m,\u001b[0m\u001b[0;34m\u001b[0m\u001b[0;34m\u001b[0m\u001b[0m\n",
            "\u001b[0;32m/usr/local/lib/python3.10/dist-packages/vertexai/evaluation/eval_task.py\u001b[0m in \u001b[0;36m_evaluate_with_experiment\u001b[0;34m(self, model, prompt_template, experiment_run_name, evaluation_service_qps, retry_timeout)\u001b[0m\n\u001b[1;32m    332\u001b[0m         \u001b[0;32mwith\u001b[0m \u001b[0mvertexai\u001b[0m\u001b[0;34m.\u001b[0m\u001b[0mpreview\u001b[0m\u001b[0;34m.\u001b[0m\u001b[0mstart_run\u001b[0m\u001b[0;34m(\u001b[0m\u001b[0mexperiment_run_name\u001b[0m\u001b[0;34m)\u001b[0m\u001b[0;34m:\u001b[0m\u001b[0;34m\u001b[0m\u001b[0;34m\u001b[0m\u001b[0m\n\u001b[1;32m    333\u001b[0m             \u001b[0mself\u001b[0m\u001b[0;34m.\u001b[0m\u001b[0m_log_eval_experiment_param\u001b[0m\u001b[0;34m(\u001b[0m\u001b[0mmodel\u001b[0m\u001b[0;34m,\u001b[0m \u001b[0mprompt_template\u001b[0m\u001b[0;34m)\u001b[0m\u001b[0;34m\u001b[0m\u001b[0;34m\u001b[0m\u001b[0m\n\u001b[0;32m--> 334\u001b[0;31m             eval_result = _evaluation.evaluate(\n\u001b[0m\u001b[1;32m    335\u001b[0m                 \u001b[0mdataset\u001b[0m\u001b[0;34m=\u001b[0m\u001b[0mself\u001b[0m\u001b[0;34m.\u001b[0m\u001b[0m_dataset\u001b[0m\u001b[0;34m,\u001b[0m\u001b[0;34m\u001b[0m\u001b[0;34m\u001b[0m\u001b[0m\n\u001b[1;32m    336\u001b[0m                 \u001b[0mmetrics\u001b[0m\u001b[0;34m=\u001b[0m\u001b[0mself\u001b[0m\u001b[0;34m.\u001b[0m\u001b[0m_metrics\u001b[0m\u001b[0;34m,\u001b[0m\u001b[0;34m\u001b[0m\u001b[0;34m\u001b[0m\u001b[0m\n",
            "\u001b[0;32m/usr/local/lib/python3.10/dist-packages/vertexai/evaluation/_evaluation.py\u001b[0m in \u001b[0;36mevaluate\u001b[0;34m(dataset, metrics, model, prompt_template, metric_column_mapping, evaluation_service_qps, retry_timeout)\u001b[0m\n\u001b[1;32m    890\u001b[0m     \u001b[0m_validate_metric_column_map\u001b[0m\u001b[0;34m(\u001b[0m\u001b[0mevaluation_run_config\u001b[0m\u001b[0;34m)\u001b[0m\u001b[0;34m\u001b[0m\u001b[0;34m\u001b[0m\u001b[0m\n\u001b[1;32m    891\u001b[0m     \u001b[0mt1\u001b[0m \u001b[0;34m=\u001b[0m \u001b[0mtime\u001b[0m\u001b[0;34m.\u001b[0m\u001b[0mperf_counter\u001b[0m\u001b[0;34m(\u001b[0m\u001b[0;34m)\u001b[0m\u001b[0;34m\u001b[0m\u001b[0;34m\u001b[0m\u001b[0m\n\u001b[0;32m--> 892\u001b[0;31m     \u001b[0mevaluation_result\u001b[0m \u001b[0;34m=\u001b[0m \u001b[0m_compute_metrics\u001b[0m\u001b[0;34m(\u001b[0m\u001b[0mevaluation_run_config\u001b[0m\u001b[0;34m)\u001b[0m\u001b[0;34m\u001b[0m\u001b[0;34m\u001b[0m\u001b[0m\n\u001b[0m\u001b[1;32m    893\u001b[0m     \u001b[0mt2\u001b[0m \u001b[0;34m=\u001b[0m \u001b[0mtime\u001b[0m\u001b[0;34m.\u001b[0m\u001b[0mperf_counter\u001b[0m\u001b[0;34m(\u001b[0m\u001b[0;34m)\u001b[0m\u001b[0;34m\u001b[0m\u001b[0;34m\u001b[0m\u001b[0m\n\u001b[1;32m    894\u001b[0m     \u001b[0m_LOGGER\u001b[0m\u001b[0;34m.\u001b[0m\u001b[0minfo\u001b[0m\u001b[0;34m(\u001b[0m\u001b[0;34mf\"Evaluation Took:{t2 - t1} seconds\"\u001b[0m\u001b[0;34m)\u001b[0m\u001b[0;34m\u001b[0m\u001b[0;34m\u001b[0m\u001b[0m\n",
            "\u001b[0;32m/usr/local/lib/python3.10/dist-packages/vertexai/evaluation/_evaluation.py\u001b[0m in \u001b[0;36m_compute_metrics\u001b[0;34m(evaluation_run_config)\u001b[0m\n\u001b[1;32m    660\u001b[0m     \u001b[0mrate_limiter\u001b[0m \u001b[0;34m=\u001b[0m \u001b[0mutils\u001b[0m\u001b[0;34m.\u001b[0m\u001b[0mRateLimiter\u001b[0m\u001b[0;34m(\u001b[0m\u001b[0mevaluation_run_config\u001b[0m\u001b[0;34m.\u001b[0m\u001b[0mevaluation_service_qps\u001b[0m\u001b[0;34m)\u001b[0m\u001b[0;34m\u001b[0m\u001b[0;34m\u001b[0m\u001b[0m\n\u001b[1;32m    661\u001b[0m     \u001b[0;32mwith\u001b[0m \u001b[0mtqdm\u001b[0m\u001b[0;34m(\u001b[0m\u001b[0mtotal\u001b[0m\u001b[0;34m=\u001b[0m\u001b[0mtotal_request_count\u001b[0m\u001b[0;34m)\u001b[0m \u001b[0;32mas\u001b[0m \u001b[0mpbar\u001b[0m\u001b[0;34m:\u001b[0m\u001b[0;34m\u001b[0m\u001b[0;34m\u001b[0m\u001b[0m\n\u001b[0;32m--> 662\u001b[0;31m         \u001b[0;32mwith\u001b[0m \u001b[0mfutures\u001b[0m\u001b[0;34m.\u001b[0m\u001b[0mThreadPoolExecutor\u001b[0m\u001b[0;34m(\u001b[0m\u001b[0mmax_workers\u001b[0m\u001b[0;34m=\u001b[0m\u001b[0mconstants\u001b[0m\u001b[0;34m.\u001b[0m\u001b[0mMAX_WORKERS\u001b[0m\u001b[0;34m)\u001b[0m \u001b[0;32mas\u001b[0m \u001b[0mexecutor\u001b[0m\u001b[0;34m:\u001b[0m\u001b[0;34m\u001b[0m\u001b[0;34m\u001b[0m\u001b[0m\n\u001b[0m\u001b[1;32m    663\u001b[0m             \u001b[0;32mfor\u001b[0m \u001b[0midx\u001b[0m\u001b[0;34m,\u001b[0m \u001b[0mrow\u001b[0m \u001b[0;32min\u001b[0m \u001b[0mevaluation_run_config\u001b[0m\u001b[0;34m.\u001b[0m\u001b[0mdataset\u001b[0m\u001b[0;34m.\u001b[0m\u001b[0miterrows\u001b[0m\u001b[0;34m(\u001b[0m\u001b[0;34m)\u001b[0m\u001b[0;34m:\u001b[0m\u001b[0;34m\u001b[0m\u001b[0;34m\u001b[0m\u001b[0m\n\u001b[1;32m    664\u001b[0m                 row_dict = _compute_custom_metrics(\n",
            "\u001b[0;32m/usr/lib/python3.10/concurrent/futures/_base.py\u001b[0m in \u001b[0;36m__exit__\u001b[0;34m(self, exc_type, exc_val, exc_tb)\u001b[0m\n\u001b[1;32m    647\u001b[0m \u001b[0;34m\u001b[0m\u001b[0m\n\u001b[1;32m    648\u001b[0m     \u001b[0;32mdef\u001b[0m \u001b[0m__exit__\u001b[0m\u001b[0;34m(\u001b[0m\u001b[0mself\u001b[0m\u001b[0;34m,\u001b[0m \u001b[0mexc_type\u001b[0m\u001b[0;34m,\u001b[0m \u001b[0mexc_val\u001b[0m\u001b[0;34m,\u001b[0m \u001b[0mexc_tb\u001b[0m\u001b[0;34m)\u001b[0m\u001b[0;34m:\u001b[0m\u001b[0;34m\u001b[0m\u001b[0;34m\u001b[0m\u001b[0m\n\u001b[0;32m--> 649\u001b[0;31m         \u001b[0mself\u001b[0m\u001b[0;34m.\u001b[0m\u001b[0mshutdown\u001b[0m\u001b[0;34m(\u001b[0m\u001b[0mwait\u001b[0m\u001b[0;34m=\u001b[0m\u001b[0;32mTrue\u001b[0m\u001b[0;34m)\u001b[0m\u001b[0;34m\u001b[0m\u001b[0;34m\u001b[0m\u001b[0m\n\u001b[0m\u001b[1;32m    650\u001b[0m         \u001b[0;32mreturn\u001b[0m \u001b[0;32mFalse\u001b[0m\u001b[0;34m\u001b[0m\u001b[0;34m\u001b[0m\u001b[0m\n\u001b[1;32m    651\u001b[0m \u001b[0;34m\u001b[0m\u001b[0m\n",
            "\u001b[0;32m/usr/lib/python3.10/concurrent/futures/thread.py\u001b[0m in \u001b[0;36mshutdown\u001b[0;34m(self, wait, cancel_futures)\u001b[0m\n\u001b[1;32m    233\u001b[0m         \u001b[0;32mif\u001b[0m \u001b[0mwait\u001b[0m\u001b[0;34m:\u001b[0m\u001b[0;34m\u001b[0m\u001b[0;34m\u001b[0m\u001b[0m\n\u001b[1;32m    234\u001b[0m             \u001b[0;32mfor\u001b[0m \u001b[0mt\u001b[0m \u001b[0;32min\u001b[0m \u001b[0mself\u001b[0m\u001b[0;34m.\u001b[0m\u001b[0m_threads\u001b[0m\u001b[0;34m:\u001b[0m\u001b[0;34m\u001b[0m\u001b[0;34m\u001b[0m\u001b[0m\n\u001b[0;32m--> 235\u001b[0;31m                 \u001b[0mt\u001b[0m\u001b[0;34m.\u001b[0m\u001b[0mjoin\u001b[0m\u001b[0;34m(\u001b[0m\u001b[0;34m)\u001b[0m\u001b[0;34m\u001b[0m\u001b[0;34m\u001b[0m\u001b[0m\n\u001b[0m\u001b[1;32m    236\u001b[0m     \u001b[0mshutdown\u001b[0m\u001b[0;34m.\u001b[0m\u001b[0m__doc__\u001b[0m \u001b[0;34m=\u001b[0m \u001b[0m_base\u001b[0m\u001b[0;34m.\u001b[0m\u001b[0mExecutor\u001b[0m\u001b[0;34m.\u001b[0m\u001b[0mshutdown\u001b[0m\u001b[0;34m.\u001b[0m\u001b[0m__doc__\u001b[0m\u001b[0;34m\u001b[0m\u001b[0;34m\u001b[0m\u001b[0m\n",
            "\u001b[0;32m/usr/lib/python3.10/threading.py\u001b[0m in \u001b[0;36mjoin\u001b[0;34m(self, timeout)\u001b[0m\n\u001b[1;32m   1094\u001b[0m \u001b[0;34m\u001b[0m\u001b[0m\n\u001b[1;32m   1095\u001b[0m         \u001b[0;32mif\u001b[0m \u001b[0mtimeout\u001b[0m \u001b[0;32mis\u001b[0m \u001b[0;32mNone\u001b[0m\u001b[0;34m:\u001b[0m\u001b[0;34m\u001b[0m\u001b[0;34m\u001b[0m\u001b[0m\n\u001b[0;32m-> 1096\u001b[0;31m             \u001b[0mself\u001b[0m\u001b[0;34m.\u001b[0m\u001b[0m_wait_for_tstate_lock\u001b[0m\u001b[0;34m(\u001b[0m\u001b[0;34m)\u001b[0m\u001b[0;34m\u001b[0m\u001b[0;34m\u001b[0m\u001b[0m\n\u001b[0m\u001b[1;32m   1097\u001b[0m         \u001b[0;32melse\u001b[0m\u001b[0;34m:\u001b[0m\u001b[0;34m\u001b[0m\u001b[0;34m\u001b[0m\u001b[0m\n\u001b[1;32m   1098\u001b[0m             \u001b[0;31m# the behavior of a negative timeout isn't documented, but\u001b[0m\u001b[0;34m\u001b[0m\u001b[0;34m\u001b[0m\u001b[0m\n",
            "\u001b[0;32m/usr/lib/python3.10/threading.py\u001b[0m in \u001b[0;36m_wait_for_tstate_lock\u001b[0;34m(self, block, timeout)\u001b[0m\n\u001b[1;32m   1114\u001b[0m \u001b[0;34m\u001b[0m\u001b[0m\n\u001b[1;32m   1115\u001b[0m         \u001b[0;32mtry\u001b[0m\u001b[0;34m:\u001b[0m\u001b[0;34m\u001b[0m\u001b[0;34m\u001b[0m\u001b[0m\n\u001b[0;32m-> 1116\u001b[0;31m             \u001b[0;32mif\u001b[0m \u001b[0mlock\u001b[0m\u001b[0;34m.\u001b[0m\u001b[0macquire\u001b[0m\u001b[0;34m(\u001b[0m\u001b[0mblock\u001b[0m\u001b[0;34m,\u001b[0m \u001b[0mtimeout\u001b[0m\u001b[0;34m)\u001b[0m\u001b[0;34m:\u001b[0m\u001b[0;34m\u001b[0m\u001b[0;34m\u001b[0m\u001b[0m\n\u001b[0m\u001b[1;32m   1117\u001b[0m                 \u001b[0mlock\u001b[0m\u001b[0;34m.\u001b[0m\u001b[0mrelease\u001b[0m\u001b[0;34m(\u001b[0m\u001b[0;34m)\u001b[0m\u001b[0;34m\u001b[0m\u001b[0;34m\u001b[0m\u001b[0m\n\u001b[1;32m   1118\u001b[0m                 \u001b[0mself\u001b[0m\u001b[0;34m.\u001b[0m\u001b[0m_stop\u001b[0m\u001b[0;34m(\u001b[0m\u001b[0;34m)\u001b[0m\u001b[0;34m\u001b[0m\u001b[0;34m\u001b[0m\u001b[0m\n",
            "\u001b[0;31mKeyboardInterrupt\u001b[0m: "
          ]
        }
      ],
      "source": [
        "result_rag_a = rag_eval_task_rag_a.evaluate()\n",
        "result_rag_b = rag_eval_task_rag_b.evaluate()"
      ]
    },
    {
      "cell_type": "markdown",
      "metadata": {
        "id": "66dee7f2c766"
      },
      "source": [
        "### Display evaluation results"
      ]
    },
    {
      "cell_type": "markdown",
      "metadata": {
        "id": "b74f297d44bb"
      },
      "source": [
        "#### View summary results\n",
        "\n",
        "If you want to have an overall view of all the metrics from individual model's evaluation result in one table, you can use the `display_eval_report()` helper function."
      ]
    },
    {
      "cell_type": "code",
      "execution_count": null,
      "metadata": {
        "id": "eb8cdb489f5c"
      },
      "outputs": [],
      "source": [
        "display_eval_report(\n",
        "    (\n",
        "        \"Model A Eval Result\",\n",
        "        result_rag_a.summary_metrics,\n",
        "        result_rag_a.metrics_table,\n",
        "    )\n",
        ")"
      ]
    },
    {
      "cell_type": "code",
      "execution_count": null,
      "metadata": {
        "id": "3a6b252645eb"
      },
      "outputs": [],
      "source": [
        "display_eval_report(\n",
        "    (\n",
        "        \"Model B Eval Result\",\n",
        "        result_rag_b.summary_metrics,\n",
        "        result_rag_b.metrics_table,\n",
        "    )\n",
        ")"
      ]
    },
    {
      "cell_type": "markdown",
      "metadata": {
        "id": "a9fd83c386c9"
      },
      "source": [
        "#### Visualize evaluation results"
      ]
    },
    {
      "cell_type": "code",
      "execution_count": null,
      "metadata": {
        "id": "42d1a52893d5"
      },
      "outputs": [],
      "source": [
        "eval_results = []\n",
        "eval_results.append(\n",
        "    (\"Model A\", result_rag_a.summary_metrics, result_rag_a.metrics_table)\n",
        ")\n",
        "eval_results.append(\n",
        "    (\"Model B\", result_rag_b.summary_metrics, result_rag_b.metrics_table)\n",
        ")"
      ]
    },
    {
      "cell_type": "code",
      "execution_count": null,
      "metadata": {
        "id": "fd2f741ab03c"
      },
      "outputs": [],
      "source": [
        "plot_radar_plot(\n",
        "    eval_results,\n",
        "    metrics=[\n",
        "        f\"{metric}/mean\"\n",
        "        # Edit your list of metrics here if you used other metrics in evaluation.\n",
        "        for metric in [\n",
        "            \"question_answering_quality\",\n",
        "            \"safety\",\n",
        "            \"groundedness\",\n",
        "            \"instruction_following\",\n",
        "            \"relevance\",\n",
        "            \"helpfulness\",\n",
        "        ]\n",
        "    ],\n",
        ")"
      ]
    },
    {
      "cell_type": "code",
      "execution_count": null,
      "metadata": {
        "id": "83bed587a29d"
      },
      "outputs": [],
      "source": [
        "plot_bar_plot(\n",
        "    eval_results,\n",
        "    metrics=[\n",
        "        f\"{metric}/mean\"\n",
        "        for metric in [\n",
        "            \"question_answering_quality\",\n",
        "            \"safety\",\n",
        "            \"groundedness\",\n",
        "            \"instruction_following\",\n",
        "            \"relevance\",\n",
        "            \"helpfulness\",\n",
        "        ]\n",
        "    ],\n",
        ")"
      ]
    },
    {
      "cell_type": "markdown",
      "metadata": {
        "id": "0dd4e086c3ea"
      },
      "source": [
        "#### View detailed explanation for an individual instance\n",
        "\n",
        "If you need to delve into the individual result's detailed explanations on why a score is assigned and how confident the model is for each model-based metric, you can use the `display_explanations()` helper function. For example, you can set `n=2` to display explanation of the 2nd instance result as follows:"
      ]
    },
    {
      "cell_type": "code",
      "execution_count": null,
      "metadata": {
        "id": "7ce3ac58057b"
      },
      "outputs": [],
      "source": [
        "display_explanations(result_rag_a.metrics_table, n=2)"
      ]
    },
    {
      "cell_type": "markdown",
      "metadata": {
        "id": "3285d336a616"
      },
      "source": [
        "You can also focus on one or a few metrics as follows."
      ]
    },
    {
      "cell_type": "code",
      "execution_count": null,
      "metadata": {
        "id": "401840759309"
      },
      "outputs": [],
      "source": [
        "display_explanations(result_rag_b.metrics_table, metrics=[\"groundedness\"])"
      ]
    },
    {
      "cell_type": "markdown",
      "metadata": {
        "id": "54a0c8e939dd"
      },
      "source": [
        "# Bring-Your-Own-Response Evaluation for RAG: Referenced (with Golden Answer)\n",
        "\n",
        "Perform bring-your-own-response evaluation by assessing the generated answer's quality based on the context retrieved and the golden answer provided in the reference."
      ]
    },
    {
      "cell_type": "markdown",
      "metadata": {
        "id": "15200a0e9613"
      },
      "source": [
        "### Prepare your dataset"
      ]
    },
    {
      "cell_type": "markdown",
      "metadata": {
        "id": "a05fe0ea0a7b"
      },
      "source": [
        "To evaluate the RAG generated answers, the evaluation dataset is required to contain the following fields:\n",
        "\n",
        "* Prompt: The user supplied prompt consisting of the User Question and the RAG Retrieved Context\n",
        "* Response: The RAG Generated Answer\n",
        "* Reference: The Golden Answer groundtruth to compare model response to"
      ]
    },
    {
      "cell_type": "code",
      "execution_count": 9,
      "metadata": {
        "id": "608be2b08512"
      },
      "outputs": [],
      "source": [
        "## original\n",
        "\n",
        "# questions = [\n",
        "#     \"Which part of the brain does short-term memory seem to rely on?\",\n",
        "#     \"What provided the Roman senate with exuberance?\",\n",
        "#     \"What area did the Hasan-jalalians command?\",\n",
        "# ]\n",
        "\n",
        "# retrieved_contexts = [\n",
        "#     \"Short-term memory is supported by transient patterns of neuronal communication, dependent on regions of the frontal lobe (especially dorsolateral prefrontal cortex) and the parietal lobe. Long-term memory, on the other hand, is maintained by more stable and permanent changes in neural connections widely spread throughout the brain. The hippocampus is essential (for learning new information) to the consolidation of information from short-term to long-term memory, although it does not seem to store information itself. Without the hippocampus, new memories are unable to be stored into long-term memory, as learned from patient Henry Molaison after removal of both his hippocampi, and there will be a very short attention span. Furthermore, it may be involved in changing neural connections for a period of three months or more after the initial learning.\",\n",
        "#     \"In 62 BC, Pompey returned victorious from Asia. The Senate, elated by its successes against Catiline, refused to ratify the arrangements that Pompey had made. Pompey, in effect, became powerless. Thus, when Julius Caesar returned from a governorship in Spain in 61 BC, he found it easy to make an arrangement with Pompey. Caesar and Pompey, along with Crassus, established a private agreement, now known as the First Triumvirate. Under the agreement, Pompey's arrangements would be ratified. Caesar would be elected consul in 59 BC, and would then serve as governor of Gaul for five years. Crassus was promised a future consulship.\",\n",
        "#     \"The Seljuk Empire soon started to collapse. In the early 12th century, Armenian princes of the Zakarid noble family drove out the Seljuk Turks and established a semi-independent Armenian principality in Northern and Eastern Armenia, known as Zakarid Armenia, which lasted under the patronage of the Georgian Kingdom. The noble family of Orbelians shared control with the Zakarids in various parts of the country, especially in Syunik and Vayots Dzor, while the Armenian family of Hasan-Jalalians controlled provinces of Artsakh and Utik as the Kingdom of Artsakh.\",\n",
        "# ]\n",
        "\n",
        "# generated_answers_by_rag_a = [\n",
        "#     \"frontal lobe and the parietal lobe\",\n",
        "#     \"The Roman Senate was filled with exuberance due to successes against Catiline.\",\n",
        "#     \"The Hasan-Jalalians commanded the area of Syunik and Vayots Dzor.\",\n",
        "# ]\n",
        "\n",
        "# generated_answers_by_rag_b = [\n",
        "#     \"Occipital lobe\",\n",
        "#     \"The Roman Senate was subdued because they had food poisoning.\",\n",
        "#     \"The Galactic Empire commanded the state of Utah.\",\n",
        "# ]\n",
        "\n",
        "# golden_answers = [\n",
        "#     \"frontal lobe and the parietal lobe\",\n",
        "#     \"Due to successes against Catiline.\",\n",
        "#     \"The Hasan-Jalalians commanded the area of Artsakh and Utik.\",\n",
        "# ]\n",
        "\n",
        "# referenced_eval_dataset_rag_a = pd.DataFrame(\n",
        "#     {\n",
        "#         \"prompt\": [\n",
        "#             \"Answer the question: \" + question + \" Context: \" + item\n",
        "#             for question, item in zip(questions, retrieved_contexts)\n",
        "#         ],\n",
        "#         \"response\": generated_answers_by_rag_a,\n",
        "#         \"reference\": golden_answers,\n",
        "#     }\n",
        "# )\n",
        "\n",
        "# referenced_eval_dataset_rag_b = pd.DataFrame(\n",
        "#     {\n",
        "#         \"prompt\": [\n",
        "#             \"Answer the question: \" + question + \" Context: \" + item\n",
        "#             for question, item in zip(questions, retrieved_contexts)\n",
        "#         ],\n",
        "#         \"response\": generated_answers_by_rag_b,\n",
        "#         \"reference\": golden_answers,\n",
        "#     }\n",
        "# )"
      ]
    },
    {
      "cell_type": "code",
      "execution_count": 10,
      "metadata": {
        "id": "3_SnXUL3C8I1"
      },
      "outputs": [],
      "source": [
        "## おれらのデータセットversion\n",
        "\n",
        "questions = [\n",
        "    \"火災保険の収益悪化に対し、損害保険各社はどのような収益改善策を講じているか、具体的な例を挙げて説明してください。さらに、これらの改善策がどのように保険引受利益に影響を与えたかについても教えてください。\",\n",
        "]\n",
        "\n",
        "# いったんretrieved_contextsはなしでやってみる\n",
        "# retrieved_contexts = [\n",
        "#     \"Short-term memory is supported by transient patterns of neuronal communication, dependent on regions of the frontal lobe (especially dorsolateral prefrontal cortex) and the parietal lobe. Long-term memory, on the other hand, is maintained by more stable and permanent changes in neural connections widely spread throughout the brain. The hippocampus is essential (for learning new information) to the consolidation of information from short-term to long-term memory, although it does not seem to store information itself. Without the hippocampus, new memories are unable to be stored into long-term memory, as learned from patient Henry Molaison after removal of both his hippocampi, and there will be a very short attention span. Furthermore, it may be involved in changing neural connections for a period of three months or more after the initial learning.\",\n",
        "#     \"In 62 BC, Pompey returned victorious from Asia. The Senate, elated by its successes against Catiline, refused to ratify the arrangements that Pompey had made. Pompey, in effect, became powerless. Thus, when Julius Caesar returned from a governorship in Spain in 61 BC, he found it easy to make an arrangement with Pompey. Caesar and Pompey, along with Crassus, established a private agreement, now known as the First Triumvirate. Under the agreement, Pompey's arrangements would be ratified. Caesar would be elected consul in 59 BC, and would then serve as governor of Gaul for five years. Crassus was promised a future consulship.\",\n",
        "#     \"The Seljuk Empire soon started to collapse. In the early 12th century, Armenian princes of the Zakarid noble family drove out the Seljuk Turks and established a semi-independent Armenian principality in Northern and Eastern Armenia, known as Zakarid Armenia, which lasted under the patronage of the Georgian Kingdom. The noble family of Orbelians shared control with the Zakarids in various parts of the country, especially in Syunik and Vayots Dzor, while the Armenian family of Hasan-Jalalians controlled provinces of Artsakh and Utik as the Kingdom of Artsakh.\",\n",
        "# ]\n",
        "\n",
        "generated_answers_by_rag_a = [] # 後でappendする\n",
        "\n",
        "# generated_answers_by_rag_b = [\n",
        "#     \"Occipital lobe\",\n",
        "#     \"The Roman Senate was subdued because they had food poisoning.\",\n",
        "#     \"The Galactic Empire commanded the state of Utah.\",\n",
        "# ]\n",
        "\n",
        "golden_answers = [\n",
        "    \"火災保険の収益悪化には長期契約が赤字状態であることや自然災害増加に伴う再保険市場のハード化が影響しています。これを受けて、各保険会社では2021年5月の参考純率改定に基づいて商品改定を行いました。また、更なる保険料改定が必要だと共通認識され、独自の収益改善策を講じている会社もあります。例えば、一部の保険会社は再保険の利用を見直し、リスク管理の強化を図っています。他の会社では、新技術を導入して損害査定の効率化を図るなどしています。これらの取り組みは、結果として一部の保険会社では保険引受利益の改善に寄与していますが、未だに全体としては二極化が進んでいると考えられます。\",\n",
        "]\n",
        "\n",
        "referenced_eval_dataset_rag_a = pd.DataFrame(\n",
        "    {\n",
        "        \"prompt\": [\n",
        "            \"Answer the question: \" + question\n",
        "            for question in questions\n",
        "        ],\n",
        "        \"response\": generated_answers_by_rag_a,\n",
        "        \"reference\": golden_answers,\n",
        "    }\n",
        ")\n",
        "\n",
        "# referenced_eval_dataset_rag_b = pd.DataFrame(\n",
        "#     {\n",
        "#         \"prompt\": [\n",
        "#             \"Answer the question: \" + question + \" Context: \" + item\n",
        "#             for question, item in zip(questions, retrieved_contexts)\n",
        "#         ],\n",
        "#         \"response\": generated_answers_by_rag_b,\n",
        "#         \"reference\": golden_answers,\n",
        "#     }\n",
        "# )"
      ]
    },
    {
      "cell_type": "code",
      "source": [
        "!pip install google-cloud-discoveryengine"
      ],
      "metadata": {
        "colab": {
          "base_uri": "https://localhost:8080/"
        },
        "id": "gI5swbG7MJvT",
        "outputId": "c6de6d33-7054-4e07-f11f-29ede5017aa2"
      },
      "execution_count": 11,
      "outputs": [
        {
          "output_type": "stream",
          "name": "stdout",
          "text": [
            "Requirement already satisfied: google-cloud-discoveryengine in /usr/local/lib/python3.10/dist-packages (0.13.3)\n",
            "Requirement already satisfied: google-api-core!=2.0.*,!=2.1.*,!=2.10.*,!=2.2.*,!=2.3.*,!=2.4.*,!=2.5.*,!=2.6.*,!=2.7.*,!=2.8.*,!=2.9.*,<3.0.0dev,>=1.34.1 in /usr/local/lib/python3.10/dist-packages (from google-api-core[grpc]!=2.0.*,!=2.1.*,!=2.10.*,!=2.2.*,!=2.3.*,!=2.4.*,!=2.5.*,!=2.6.*,!=2.7.*,!=2.8.*,!=2.9.*,<3.0.0dev,>=1.34.1->google-cloud-discoveryengine) (2.19.2)\n",
            "Requirement already satisfied: google-auth!=2.24.0,!=2.25.0,<3.0.0dev,>=2.14.1 in /usr/local/lib/python3.10/dist-packages (from google-cloud-discoveryengine) (2.27.0)\n",
            "Requirement already satisfied: proto-plus<2.0.0dev,>=1.22.3 in /usr/local/lib/python3.10/dist-packages (from google-cloud-discoveryengine) (1.25.0)\n",
            "Requirement already satisfied: protobuf!=4.21.0,!=4.21.1,!=4.21.2,!=4.21.3,!=4.21.4,!=4.21.5,<6.0.0dev,>=3.20.2 in /usr/local/lib/python3.10/dist-packages (from google-cloud-discoveryengine) (3.20.3)\n",
            "Requirement already satisfied: googleapis-common-protos<2.0.dev0,>=1.56.2 in /usr/local/lib/python3.10/dist-packages (from google-api-core!=2.0.*,!=2.1.*,!=2.10.*,!=2.2.*,!=2.3.*,!=2.4.*,!=2.5.*,!=2.6.*,!=2.7.*,!=2.8.*,!=2.9.*,<3.0.0dev,>=1.34.1->google-api-core[grpc]!=2.0.*,!=2.1.*,!=2.10.*,!=2.2.*,!=2.3.*,!=2.4.*,!=2.5.*,!=2.6.*,!=2.7.*,!=2.8.*,!=2.9.*,<3.0.0dev,>=1.34.1->google-cloud-discoveryengine) (1.65.0)\n",
            "Requirement already satisfied: requests<3.0.0.dev0,>=2.18.0 in /usr/local/lib/python3.10/dist-packages (from google-api-core!=2.0.*,!=2.1.*,!=2.10.*,!=2.2.*,!=2.3.*,!=2.4.*,!=2.5.*,!=2.6.*,!=2.7.*,!=2.8.*,!=2.9.*,<3.0.0dev,>=1.34.1->google-api-core[grpc]!=2.0.*,!=2.1.*,!=2.10.*,!=2.2.*,!=2.3.*,!=2.4.*,!=2.5.*,!=2.6.*,!=2.7.*,!=2.8.*,!=2.9.*,<3.0.0dev,>=1.34.1->google-cloud-discoveryengine) (2.32.3)\n",
            "Requirement already satisfied: grpcio<2.0dev,>=1.33.2 in /usr/local/lib/python3.10/dist-packages (from google-api-core[grpc]!=2.0.*,!=2.1.*,!=2.10.*,!=2.2.*,!=2.3.*,!=2.4.*,!=2.5.*,!=2.6.*,!=2.7.*,!=2.8.*,!=2.9.*,<3.0.0dev,>=1.34.1->google-cloud-discoveryengine) (1.64.1)\n",
            "Requirement already satisfied: grpcio-status<2.0.dev0,>=1.33.2 in /usr/local/lib/python3.10/dist-packages (from google-api-core[grpc]!=2.0.*,!=2.1.*,!=2.10.*,!=2.2.*,!=2.3.*,!=2.4.*,!=2.5.*,!=2.6.*,!=2.7.*,!=2.8.*,!=2.9.*,<3.0.0dev,>=1.34.1->google-cloud-discoveryengine) (1.48.2)\n",
            "Requirement already satisfied: cachetools<6.0,>=2.0.0 in /usr/local/lib/python3.10/dist-packages (from google-auth!=2.24.0,!=2.25.0,<3.0.0dev,>=2.14.1->google-cloud-discoveryengine) (5.5.0)\n",
            "Requirement already satisfied: pyasn1-modules>=0.2.1 in /usr/local/lib/python3.10/dist-packages (from google-auth!=2.24.0,!=2.25.0,<3.0.0dev,>=2.14.1->google-cloud-discoveryengine) (0.4.1)\n",
            "Requirement already satisfied: rsa<5,>=3.1.4 in /usr/local/lib/python3.10/dist-packages (from google-auth!=2.24.0,!=2.25.0,<3.0.0dev,>=2.14.1->google-cloud-discoveryengine) (4.9)\n",
            "Requirement already satisfied: pyasn1<0.7.0,>=0.4.6 in /usr/local/lib/python3.10/dist-packages (from pyasn1-modules>=0.2.1->google-auth!=2.24.0,!=2.25.0,<3.0.0dev,>=2.14.1->google-cloud-discoveryengine) (0.6.1)\n",
            "Requirement already satisfied: charset-normalizer<4,>=2 in /usr/local/lib/python3.10/dist-packages (from requests<3.0.0.dev0,>=2.18.0->google-api-core!=2.0.*,!=2.1.*,!=2.10.*,!=2.2.*,!=2.3.*,!=2.4.*,!=2.5.*,!=2.6.*,!=2.7.*,!=2.8.*,!=2.9.*,<3.0.0dev,>=1.34.1->google-api-core[grpc]!=2.0.*,!=2.1.*,!=2.10.*,!=2.2.*,!=2.3.*,!=2.4.*,!=2.5.*,!=2.6.*,!=2.7.*,!=2.8.*,!=2.9.*,<3.0.0dev,>=1.34.1->google-cloud-discoveryengine) (3.4.0)\n",
            "Requirement already satisfied: idna<4,>=2.5 in /usr/local/lib/python3.10/dist-packages (from requests<3.0.0.dev0,>=2.18.0->google-api-core!=2.0.*,!=2.1.*,!=2.10.*,!=2.2.*,!=2.3.*,!=2.4.*,!=2.5.*,!=2.6.*,!=2.7.*,!=2.8.*,!=2.9.*,<3.0.0dev,>=1.34.1->google-api-core[grpc]!=2.0.*,!=2.1.*,!=2.10.*,!=2.2.*,!=2.3.*,!=2.4.*,!=2.5.*,!=2.6.*,!=2.7.*,!=2.8.*,!=2.9.*,<3.0.0dev,>=1.34.1->google-cloud-discoveryengine) (3.10)\n",
            "Requirement already satisfied: urllib3<3,>=1.21.1 in /usr/local/lib/python3.10/dist-packages (from requests<3.0.0.dev0,>=2.18.0->google-api-core!=2.0.*,!=2.1.*,!=2.10.*,!=2.2.*,!=2.3.*,!=2.4.*,!=2.5.*,!=2.6.*,!=2.7.*,!=2.8.*,!=2.9.*,<3.0.0dev,>=1.34.1->google-api-core[grpc]!=2.0.*,!=2.1.*,!=2.10.*,!=2.2.*,!=2.3.*,!=2.4.*,!=2.5.*,!=2.6.*,!=2.7.*,!=2.8.*,!=2.9.*,<3.0.0dev,>=1.34.1->google-cloud-discoveryengine) (2.2.3)\n",
            "Requirement already satisfied: certifi>=2017.4.17 in /usr/local/lib/python3.10/dist-packages (from requests<3.0.0.dev0,>=2.18.0->google-api-core!=2.0.*,!=2.1.*,!=2.10.*,!=2.2.*,!=2.3.*,!=2.4.*,!=2.5.*,!=2.6.*,!=2.7.*,!=2.8.*,!=2.9.*,<3.0.0dev,>=1.34.1->google-api-core[grpc]!=2.0.*,!=2.1.*,!=2.10.*,!=2.2.*,!=2.3.*,!=2.4.*,!=2.5.*,!=2.6.*,!=2.7.*,!=2.8.*,!=2.9.*,<3.0.0dev,>=1.34.1->google-cloud-discoveryengine) (2024.8.30)\n"
          ]
        }
      ]
    },
    {
      "cell_type": "code",
      "source": [
        "from google.api_core.client_options import ClientOptions\n",
        "from google.cloud import discoveryengine_v1 as discoveryengine\n",
        "\n",
        "\n",
        "def answer_query_sample(\n",
        "    query_text: str\n",
        ") -> discoveryengine.AnswerQueryResponse:\n",
        "\n",
        "    # TODO(developer): Uncomment these variables before running the sample.\n",
        "    project_id = \"ai-buildathon-test-nov9-1\"\n",
        "    location = \"global\"                    # Values: \"global\", \"us\", \"eu\"\n",
        "    engine_id = \"ai-buildathon-nov9-test-3_1731130376372\"\n",
        "    answer_language_code = \"jp\"\n",
        "\n",
        "    #  For more information, refer to:\n",
        "    # https://cloud.google.com/generative-ai-app-builder/docs/locations#specify_a_multi-region_for_your_data_store\n",
        "    client_options = (\n",
        "        ClientOptions(api_endpoint=f\"{location}-discoveryengine.googleapis.com\")\n",
        "        if location != \"global\"\n",
        "        else None\n",
        "    )\n",
        "\n",
        "    # Create a client\n",
        "    client = discoveryengine.ConversationalSearchServiceClient(\n",
        "        client_options=client_options\n",
        "    )\n",
        "\n",
        "    # The full resource name of the Search serving config\n",
        "    serving_config = f\"projects/{project_id}/locations/{location}/collections/default_collection/engines/{engine_id}/servingConfigs/default_serving_config\"\n",
        "\n",
        "    # Optional: Options for query phase\n",
        "    # The `query_understanding_spec` below includes all available query phase options.\n",
        "    # For more details, refer to https://cloud.google.com/generative-ai-app-builder/docs/reference/rest/v1/QueryUnderstandingSpec\n",
        "    query_understanding_spec = discoveryengine.AnswerQueryRequest.QueryUnderstandingSpec(\n",
        "        query_rephraser_spec=discoveryengine.AnswerQueryRequest.QueryUnderstandingSpec.QueryRephraserSpec(\n",
        "            disable=False,  # Optional: Disable query rephraser\n",
        "            max_rephrase_steps=1,  # Optional: Number of rephrase steps\n",
        "        ),\n",
        "        # Optional: Classify query types\n",
        "        query_classification_spec=discoveryengine.AnswerQueryRequest.QueryUnderstandingSpec.QueryClassificationSpec(\n",
        "            types=[\n",
        "                discoveryengine.AnswerQueryRequest.QueryUnderstandingSpec.QueryClassificationSpec.Type.ADVERSARIAL_QUERY,\n",
        "                discoveryengine.AnswerQueryRequest.QueryUnderstandingSpec.QueryClassificationSpec.Type.NON_ANSWER_SEEKING_QUERY,\n",
        "            ]  # Options: ADVERSARIAL_QUERY, NON_ANSWER_SEEKING_QUERY or both\n",
        "        ),\n",
        "    )\n",
        "\n",
        "    # Optional: Options for answer phase\n",
        "    # The `answer_generation_spec` below includes all available query phase options.\n",
        "    # For more details, refer to https://cloud.google.com/generative-ai-app-builder/docs/reference/rest/v1/AnswerGenerationSpec\n",
        "    answer_generation_spec = discoveryengine.AnswerQueryRequest.AnswerGenerationSpec(\n",
        "        ignore_adversarial_query=False,  # Optional: Ignore adversarial query\n",
        "        ignore_non_answer_seeking_query=False,  # Optional: Ignore non-answer seeking query\n",
        "        ignore_low_relevant_content=False,  # Optional: Return fallback answer when content is not relevant\n",
        "        model_spec=discoveryengine.AnswerQueryRequest.AnswerGenerationSpec.ModelSpec(\n",
        "            model_version=\"gemini-1.5-flash-001/answer_gen/v2\",  # Optional: Model to use for answer generation\n",
        "        ),\n",
        "        prompt_spec=discoveryengine.AnswerQueryRequest.AnswerGenerationSpec.PromptSpec(\n",
        "            preamble=\"検索結果に基づき正しく回答してください。\",  # Optional: Natural language instructions for customizing the answer.\n",
        "        ),\n",
        "        include_citations=True,  # Optional: Include citations in the response\n",
        "        answer_language_code=answer_language_code,  # Optional: Language code of the answer\n",
        "    )\n",
        "\n",
        "    # Initialize request argument(s)\n",
        "    request = discoveryengine.AnswerQueryRequest(\n",
        "        serving_config=serving_config,\n",
        "        query=discoveryengine.Query(text=query_text),\n",
        "        session=None,  # Optional: include previous session ID to continue a conversation\n",
        "        query_understanding_spec=query_understanding_spec,\n",
        "        answer_generation_spec=answer_generation_spec,\n",
        "    )\n",
        "\n",
        "    # Make the request\n",
        "    response = client.answer_query(request)\n",
        "\n",
        "    # Handle the response\n",
        "    print(response)\n",
        "\n",
        "    return response\n"
      ],
      "metadata": {
        "id": "Iy40ojNnLDIK"
      },
      "execution_count": 39,
      "outputs": []
    },
    {
      "cell_type": "code",
      "source": [
        "response = answer_query_sample(query_text=questions[0])\n",
        "# response - answer\n",
        "#          - answer_query_token"
      ],
      "metadata": {
        "colab": {
          "base_uri": "https://localhost:8080/"
        },
        "id": "8J9yye1wNDCJ",
        "outputId": "a3089bf7-1fe5-4ab8-fb01-d73588a689e2"
      },
      "execution_count": 40,
      "outputs": [
        {
          "output_type": "stream",
          "name": "stdout",
          "text": [
            "answer {\n",
            "  state: SUCCEEDED\n",
            "  answer_text: \"\\347\\201\\253\\347\\201\\275\\344\\277\\235\\351\\231\\272\\343\\201\\256\\345\\217\\216\\347\\233\\212\\346\\202\\252\\345\\214\\226\\343\\201\\253\\345\\257\\276\\343\\201\\227\\343\\200\\201\\346\\220\\215\\345\\256\\263\\344\\277\\235\\351\\231\\272\\345\\220\\204\\347\\244\\276\\343\\201\\257\\343\\200\\201\\344\\277\\235\\351\\231\\272\\346\\226\\231\\346\\224\\271\\345\\256\\232\\343\\202\\204\\345\\217\\216\\347\\233\\212\\346\\224\\271\\345\\226\\204\\347\\255\\226\\343\\202\\222\\345\\256\\237\\346\\226\\275\\343\\201\\227\\343\\201\\246\\343\\201\\204\\343\\201\\276\\343\\201\\231\\343\\200\\202  \\345\\205\\267\\344\\275\\223\\347\\232\\204\\343\\201\\253\\343\\201\\257\\343\\200\\2012021\\345\\271\\2645\\346\\234\\210\\343\\201\\256\\345\\217\\202\\350\\200\\203\\347\\264\\224\\347\\216\\207\\346\\224\\271\\345\\256\\232\\343\\202\\222\\350\\270\\217\\343\\201\\276\\343\\201\\210\\343\\200\\201\\345\\220\\204\\347\\244\\276\\343\\201\\247\\345\\225\\206\\345\\223\\201\\346\\224\\271\\345\\256\\232\\343\\201\\214\\350\\241\\214\\343\\202\\217\\343\\202\\214\\343\\201\\276\\343\\201\\227\\343\\201\\237\\343\\200\\202  \\343\\201\\227\\343\\201\\213\\343\\201\\227\\343\\200\\201\\345\\217\\202\\350\\200\\203\\347\\264\\224\\347\\216\\207\\346\\224\\271\\345\\256\\232\\343\\201\\253\\344\\276\\235\\345\\255\\230\\343\\201\\227\\343\\201\\237\\345\\217\\216\\347\\233\\212\\346\\224\\271\\345\\226\\204\\343\\201\\253\\347\\225\\231\\343\\201\\276\\343\\201\\243\\343\\201\\246\\343\\201\\204\\343\\202\\213\\344\\274\\232\\347\\244\\276\\343\\201\\250\\343\\200\\201\\347\\213\\254\\350\\207\\252\\343\\201\\256\\345\\217\\216\\347\\233\\212\\346\\224\\271\\345\\226\\204\\347\\255\\226\\343\\202\\222\\345\\256\\237\\346\\226\\275\\343\\201\\227\\343\\201\\246\\343\\201\\204\\343\\202\\213\\344\\274\\232\\347\\244\\276\\343\\201\\250\\343\\201\\256\\344\\272\\214\\346\\245\\265\\345\\214\\226\\343\\201\\214\\351\\200\\262\\343\\202\\223\\343\\201\\247\\343\\201\\204\\343\\202\\213\\345\\217\\257\\350\\203\\275\\346\\200\\247\\343\\202\\202\\346\\214\\207\\346\\221\\230\\343\\201\\225\\343\\202\\214\\343\\201\\246\\343\\201\\204\\343\\201\\276\\343\\201\\231\\343\\200\\202  \\343\\201\\276\\343\\201\\237\\343\\200\\201\\350\\207\\252\\347\\204\\266\\347\\201\\275\\345\\256\\263\\343\\201\\256\\351\\240\\273\\347\\231\\272\\343\\203\\273\\346\\277\\200\\347\\224\\232\\345\\214\\226\\343\\201\\270\\343\\201\\256\\345\\257\\276\\345\\277\\234\\343\\201\\250\\343\\201\\227\\343\\201\\246\\343\\200\\201\\347\\265\\261\\345\\220\\210\\347\\232\\204\\343\\203\\252\\343\\202\\271\\343\\202\\257\\347\\256\\241\\347\\220\\206\\357\\274\\210ERM\\357\\274\\211\\343\\201\\256\\351\\253\\230\\345\\272\\246\\345\\214\\226\\343\\200\\201\\351\\241\\247\\345\\256\\242\\343\\203\\213\\343\\203\\274\\343\\202\\272\\343\\202\\204\\343\\203\\252\\343\\202\\271\\343\\202\\257\\345\\256\\237\\346\\205\\213\\343\\202\\222\\350\\270\\217\\343\\201\\276\\343\\201\\210\\343\\201\\237\\350\\243\\234\\345\\204\\237\\345\\206\\205\\345\\256\\271\\343\\203\\273\\344\\277\\235\\351\\231\\272\\346\\226\\231\\347\\216\\207\\343\\201\\256\\350\\246\\213\\347\\233\\264\\343\\201\\227\\343\\200\\201\\351\\230\\262\\347\\201\\275\\343\\203\\273\\346\\270\\233\\347\\201\\275\\343\\201\\256\\343\\202\\265\\343\\203\\235\\343\\203\\274\\343\\203\\210\\343\\201\\252\\343\\201\\251\\343\\201\\214\\346\\220\\215\\345\\256\\263\\344\\277\\235\\351\\231\\272\\344\\274\\232\\347\\244\\276\\343\\201\\253\\344\\277\\203\\343\\201\\225\\343\\202\\214\\343\\201\\246\\343\\201\\204\\343\\201\\276\\343\\201\\231\\343\\200\\202  \\343\\201\\225\\343\\202\\211\\343\\201\\253\\343\\200\\201\\347\\225\\260\\345\\270\\270\\345\\215\\261\\351\\231\\272\\346\\272\\226\\345\\202\\231\\351\\207\\221\\343\\201\\256\\347\\251\\215\\347\\253\\213\\343\\201\\246\\343\\200\\201\\345\\206\\215\\344\\277\\235\\351\\231\\272\\343\\201\\256\\346\\211\\213\\351\\205\\215\\343\\200\\201\\350\\277\\205\\351\\200\\237\\343\\201\\252\\344\\277\\235\\351\\231\\272\\351\\207\\221\\346\\224\\257\\346\\211\\225\\343\\201\\204\\346\\205\\213\\345\\213\\242\\343\\201\\256\\346\\225\\264\\345\\202\\231\\343\\202\\202\\351\\207\\215\\350\\246\\201\\350\\246\\226\\343\\201\\225\\343\\202\\214\\343\\201\\246\\343\\201\\204\\343\\201\\276\\343\\201\\231\\343\\200\\202  2022\\345\\271\\264\\343\\201\\253\\343\\201\\257\\343\\200\\201\\350\\207\\252\\347\\204\\266\\347\\201\\275\\345\\256\\263\\343\\201\\253\\343\\202\\210\\343\\202\\213\\344\\277\\235\\351\\231\\272\\351\\207\\221\\346\\224\\257\\346\\211\\225\\343\\201\\204\\343\\201\\214\\345\\242\\227\\345\\212\\240\\343\\201\\227\\343\\201\\237\\343\\202\\202\\343\\201\\256\\343\\201\\256\\343\\200\\201\\345\\244\\232\\343\\201\\217\\343\\201\\256\\344\\277\\235\\351\\231\\272\\344\\274\\232\\347\\244\\276\\343\\201\\257\\345\\244\\232\\351\\241\\215\\343\\201\\256\\347\\225\\260\\345\\270\\270\\345\\215\\261\\351\\231\\272\\346\\272\\226\\345\\202\\231\\351\\207\\221\\343\\202\\222\\345\\217\\226\\343\\202\\212\\345\\264\\251\\343\\201\\227\\343\\200\\201\\350\\277\\275\\345\\212\\240\\347\\251\\215\\347\\253\\213\\347\\255\\211\\343\\202\\222\\350\\241\\214\\343\\201\\206\\343\\201\\223\\343\\201\\250\\343\\201\\247\\346\\256\\213\\351\\253\\230\\343\\202\\222\\345\\244\\247\\343\\201\\215\\343\\201\\217\\346\\270\\233\\345\\260\\221\\343\\201\\225\\343\\201\\233\\343\\201\\252\\343\\201\\204\\345\\217\\226\\343\\202\\212\\347\\265\\204\\343\\201\\277\\343\\201\\214\\350\\246\\213\\343\\202\\211\\343\\202\\214\\343\\201\\276\\343\\201\\227\\343\\201\\237\\343\\200\\202  \\343\\201\\276\\343\\201\\237\\343\\200\\201\\346\\265\\267\\345\\244\\226\\343\\201\\256\\345\\206\\215\\344\\277\\235\\351\\231\\272\\346\\226\\231\\347\\216\\207\\343\\201\\256\\344\\270\\212\\346\\230\\207\\343\\202\\222\\345\\217\\227\\343\\201\\221\\343\\201\\246\\343\\200\\201\\346\\237\\224\\350\\273\\237\\343\\201\\252\\344\\272\\244\\346\\270\\211\\343\\202\\204\\344\\277\\235\\346\\234\\211\\343\\203\\273\\345\\207\\272\\345\\206\\215\\346\\226\\271\\351\\207\\235\\343\\201\\256\\350\\246\\213\\347\\233\\264\\343\\201\\227\\343\\202\\222\\350\\241\\214\\343\\201\\204\\343\\200\\201\\345\\206\\215\\344\\277\\235\\351\\231\\272\\345\\245\\221\\347\\264\\204\\343\\202\\222\\346\\233\\264\\346\\224\\271\\343\\201\\227\\343\\201\\237\\344\\274\\232\\347\\244\\276\\343\\202\\202\\343\\201\\202\\343\\202\\212\\343\\201\\276\\343\\201\\227\\343\\201\\237\\343\\200\\202  \\344\\270\\200\\346\\226\\271\\343\\201\\247\\343\\200\\201\\347\\201\\253\\347\\201\\275\\344\\277\\235\\351\\231\\272\\346\\226\\231\\343\\201\\256\\345\\200\\244\\344\\270\\212\\343\\201\\222\\343\\201\\257\\345\\212\\240\\345\\205\\245\\350\\200\\205\\343\\201\\256\\350\\262\\240\\346\\213\\205\\345\\242\\227\\343\\201\\253\\343\\201\\244\\343\\201\\252\\343\\201\\214\\343\\202\\213\\343\\201\\237\\343\\202\\201\\343\\200\\201\\347\\201\\253\\347\\201\\275\\344\\277\\235\\351\\231\\272\\343\\201\\256\\345\\212\\240\\345\\205\\245\\350\\200\\205\\346\\225\\260\\346\\270\\233\\345\\260\\221\\343\\201\\250\\343\\201\\204\\343\\201\\243\\343\\201\\237\\346\\207\\270\\345\\277\\265\\343\\202\\202\\345\\255\\230\\345\\234\\250\\343\\201\\227\\343\\201\\276\\343\\201\\231\\343\\200\\202  \\351\\225\\267\\346\\234\\237\\345\\245\\221\\347\\264\\204\\343\\201\\256\\346\\247\\213\\351\\200\\240\\347\\232\\204\\343\\201\\252\\350\\265\\244\\345\\255\\227\\343\\202\\204\\350\\207\\252\\347\\204\\266\\347\\201\\275\\345\\256\\263\\343\\201\\256\\345\\242\\227\\345\\212\\240\\343\\201\\253\\343\\202\\210\\343\\202\\213\\345\\206\\215\\344\\277\\235\\351\\231\\272\\345\\270\\202\\345\\240\\264\\343\\201\\256\\343\\203\\217\\343\\203\\274\\343\\203\\211\\345\\214\\226\\343\\202\\202\\345\\217\\216\\347\\233\\212\\346\\202\\252\\345\\214\\226\\343\\201\\256\\350\\246\\201\\345\\233\\240\\343\\201\\250\\343\\201\\227\\343\\201\\246\\346\\214\\231\\343\\201\\222\\343\\202\\211\\343\\202\\214\\343\\201\\246\\343\\201\\204\\343\\201\\276\\343\\201\\231\\343\\200\\202\\n\\n\\343\\201\\223\\343\\202\\214\\343\\202\\211\\343\\201\\256\\346\\224\\271\\345\\226\\204\\347\\255\\226\\343\\201\\214\\344\\277\\235\\351\\231\\272\\345\\274\\225\\345\\217\\227\\345\\210\\251\\347\\233\\212\\343\\201\\253\\344\\270\\216\\343\\201\\210\\343\\201\\237\\345\\275\\261\\351\\237\\277\\343\\201\\253\\343\\201\\244\\343\\201\\204\\343\\201\\246\\343\\201\\257\\343\\200\\201\\351\\201\\216\\345\\216\\27310\\345\\271\\264\\351\\226\\223\\343\\200\\201\\347\\201\\253\\347\\201\\275\\344\\277\\235\\351\\231\\272\\343\\201\\256\\344\\277\\235\\351\\231\\272\\345\\274\\225\\345\\217\\227\\345\\210\\251\\347\\233\\212\\343\\201\\257\\346\\201\\222\\345\\270\\270\\347\\232\\204\\343\\201\\253\\343\\203\\236\\343\\202\\244\\343\\203\\212\\343\\202\\271\\343\\201\\250\\343\\201\\252\\343\\201\\243\\343\\201\\246\\343\\201\\204\\343\\201\\276\\343\\201\\231\\343\\200\\202  2021\\345\\271\\264\\345\\272\\246\\343\\201\\256\\344\\277\\235\\351\\231\\272\\347\\250\\256\\347\\233\\256\\345\\210\\245\\345\\210\\251\\347\\233\\212\\347\\216\\207\\343\\201\\247\\343\\201\\257\\343\\200\\201\\347\\201\\253\\347\\201\\275\\344\\277\\235\\351\\231\\272\\343\\201\\257\\345\\271\\263\\345\\235\\207\\345\\210\\251\\347\\233\\212\\347\\216\\207\\343\\202\\222\\345\\244\\247\\343\\201\\215\\343\\201\\217\\344\\270\\213\\345\\233\\236\\343\\201\\243\\343\\201\\246\\343\\201\\204\\343\\201\\276\\343\\201\\231\\343\\200\\202  \\344\\277\\235\\351\\231\\272\\345\\274\\225\\345\\217\\227\\345\\210\\251\\347\\233\\212\\343\\201\\256\\346\\216\\250\\347\\247\\273\\357\\274\\210\\345\\205\\250\\347\\244\\276\\350\\250\\210\\357\\274\\211\\343\\202\\222\\350\\246\\213\\343\\202\\213\\343\\201\\250\\343\\200\\201\\347\\201\\253\\347\\201\\275\\344\\277\\235\\351\\231\\272\\343\\201\\257\\351\\225\\267\\346\\234\\237\\351\\226\\223\\343\\201\\253\\343\\202\\217\\343\\201\\237\\343\\202\\212\\343\\203\\236\\343\\202\\244\\343\\203\\212\\343\\202\\271\\343\\201\\250\\343\\201\\252\\343\\201\\243\\343\\201\\246\\343\\201\\204\\343\\201\\276\\343\\201\\231\\343\\200\\202  \\350\\207\\252\\347\\204\\266\\347\\201\\275\\345\\256\\263\\343\\201\\256\\351\\240\\273\\347\\231\\272\\343\\203\\273\\346\\277\\200\\347\\224\\232\\345\\214\\226\\343\\201\\253\\343\\202\\210\\343\\202\\212\\344\\277\\235\\351\\231\\272\\351\\207\\221\\346\\224\\257\\346\\211\\225\\351\\241\\215\\343\\201\\214\\345\\242\\227\\345\\212\\240\\343\\201\\227\\343\\200\\201\\347\\201\\253\\347\\201\\275\\344\\277\\235\\351\\231\\272\\346\\226\\231\\347\\216\\207\\343\\201\\257\\344\\270\\212\\346\\230\\207\\345\\202\\276\\345\\220\\221\\343\\201\\253\\343\\201\\202\\343\\202\\212\\343\\201\\276\\343\\201\\231\\343\\201\\214\\343\\200\\201  \\343\\201\\235\\343\\201\\256\\345\\275\\261\\351\\237\\277\\343\\201\\257\\344\\277\\235\\351\\231\\272\\345\\274\\225\\345\\217\\227\\345\\210\\251\\347\\233\\212\\343\\201\\253\\347\\233\\264\\346\\216\\245\\347\\232\\204\\343\\201\\253\\345\\217\\215\\346\\230\\240\\343\\201\\225\\343\\202\\214\\343\\201\\246\\343\\201\\204\\343\\202\\213\\343\\201\\250\\350\\200\\203\\343\\201\\210\\343\\202\\211\\343\\202\\214\\343\\201\\276\\343\\201\\231\\343\\200\\202\\n\"\n",
            "  citations {\n",
            "    end_index: 123\n",
            "    sources {\n",
            "      reference_id: \"0\"\n",
            "    }\n",
            "  }\n",
            "  citations {\n",
            "    start_index: 125\n",
            "    end_index: 235\n",
            "    sources {\n",
            "      reference_id: \"0\"\n",
            "    }\n",
            "  }\n",
            "  citations {\n",
            "    start_index: 237\n",
            "    end_index: 450\n",
            "    sources {\n",
            "      reference_id: \"0\"\n",
            "    }\n",
            "  }\n",
            "  citations {\n",
            "    start_index: 452\n",
            "    end_index: 740\n",
            "    sources {\n",
            "      reference_id: \"1\"\n",
            "    }\n",
            "  }\n",
            "  citations {\n",
            "    start_index: 742\n",
            "    end_index: 886\n",
            "    sources {\n",
            "      reference_id: \"2\"\n",
            "    }\n",
            "  }\n",
            "  citations {\n",
            "    start_index: 888\n",
            "    end_index: 1147\n",
            "    sources {\n",
            "      reference_id: \"2\"\n",
            "    }\n",
            "  }\n",
            "  citations {\n",
            "    start_index: 1149\n",
            "    end_index: 1326\n",
            "    sources {\n",
            "      reference_id: \"2\"\n",
            "    }\n",
            "  }\n",
            "  citations {\n",
            "    start_index: 1328\n",
            "    end_index: 1487\n",
            "    sources {\n",
            "      reference_id: \"3\"\n",
            "    }\n",
            "    sources {\n",
            "      reference_id: \"4\"\n",
            "    }\n",
            "  }\n",
            "  citations {\n",
            "    start_index: 1489\n",
            "    end_index: 1645\n",
            "    sources {\n",
            "      reference_id: \"0\"\n",
            "    }\n",
            "  }\n",
            "  citations {\n",
            "    start_index: 1647\n",
            "    end_index: 1826\n",
            "    sources {\n",
            "      reference_id: \"0\"\n",
            "    }\n",
            "  }\n",
            "  citations {\n",
            "    start_index: 1828\n",
            "    end_index: 1940\n",
            "    sources {\n",
            "      reference_id: \"0\"\n",
            "    }\n",
            "  }\n",
            "  citations {\n",
            "    start_index: 1942\n",
            "    end_index: 2071\n",
            "    sources {\n",
            "      reference_id: \"9\"\n",
            "    }\n",
            "  }\n",
            "  citations {\n",
            "    start_index: 2073\n",
            "    end_index: 2297\n",
            "    sources {\n",
            "      reference_id: \"1\"\n",
            "    }\n",
            "    sources {\n",
            "      reference_id: \"3\"\n",
            "    }\n",
            "    sources {\n",
            "      reference_id: \"4\"\n",
            "    }\n",
            "  }\n",
            "  references {\n",
            "    chunk_info {\n",
            "      content: \"\\346\\234\\254\\344\\272\\213\\345\\213\\231\\345\\271\\264\\345\\272\\246\\343\\201\\256\\344\\270\\273\\343\\201\\252\\345\\256\\237\\347\\270\\276 3 \\343\\200\\220\\346\\220\\215\\345\\256\\263\\344\\277\\235\\351\\231\\272\\344\\274\\232\\347\\244\\276\\343\\200\\221\\n\\357\\203\\230 \\347\\201\\253\\347\\201\\275\\344\\277\\235\\351\\231\\272\\343\\201\\257\\343\\200\\201\\346\\220\\215\\345\\256\\263\\344\\277\\235\\351\\231\\272\\344\\274\\232\\347\\244\\276\\343\\201\\256\\346\\255\\243\\345\\221\\263\\345\\217\\216\\345\\205\\245\\344\\277\\235\\351\\231\\272\\346\\226\\231\\343\\201\\256\\n20\\357\\274\\205\\345\\274\\261\\343\\202\\222\\345\\215\\240\\343\\202\\201\\343\\202\\213\\343\\201\\253\\343\\202\\202\\343\\201\\213\\343\\201\\213\\343\\202\\217\\343\\202\\211\\343\\201\\232\\343\\200\\201\\351\\201\\216\\345\\216\\27310\\345\\271\\264\\351\\226\\223\\343\\201\\253\\343\\202\\217\\343\\201\\237\\343\\202\\212\\n\\344\\277\\235\\351\\231\\272\\345\\274\\225\\345\\217\\227\\345\\210\\251\\347\\233\\212\\343\\201\\214\\346\\201\\222\\345\\270\\270\\347\\232\\204\\343\\201\\253\\343\\203\\236\\343\\202\\244\\343\\203\\212\\343\\202\\271\\343\\201\\253\\343\\201\\252\\343\\201\\243\\343\\201\\246\\343\\201\\204\\343\\202\\213\\343\\201\\223\\343\\201\\250\\343\\201\\213\\343\\202\\211\\343\\200\\201\\n\\345\\244\\247\\346\\211\\213\\357\\274\\223\\343\\202\\260\\343\\203\\253\\343\\203\\274\\343\\203\\227\\345\\217\\212\\343\\201\\263\\344\\270\\255\\345\\240\\205\\357\\274\\226\\347\\244\\276\\343\\201\\256\\347\\201\\253\\347\\201\\275\\344\\277\\235\\351\\231\\272\\343\\201\\256\\345\\217\\216\\347\\233\\212\\346\\224\\271\\345\\226\\204\\n\\347\\255\\211\\343\\201\\256\\345\\217\\226\\347\\265\\204\\343\\201\\277\\343\\201\\253\\343\\201\\244\\343\\201\\204\\343\\201\\246\\345\\257\\276\\350\\251\\261\\343\\202\\222\\345\\256\\237\\346\\226\\275\\343\\200\\202 \\342\\236\\241 \\347\\201\\253\\347\\201\\275\\344\\277\\235\\351\\231\\272\\343\\201\\256\\345\\217\\216\\347\\233\\212\\346\\202\\252\\345\\214\\226\\343\\201\\256\\350\\246\\201\\345\\233\\240\\343\\201\\250\\343\\201\\227\\343\\201\\246\\343\\201\\257\\343\\200\\201\\345\\220\\204\\347\\244\\276\\345\\205\\261\\351\\200\\232\\343\\201\\256\\350\\246\\201\\345\\233\\240\\343\\201\\250\\343\\201\\227\\n\\343\\201\\246\\343\\200\\201\\351\\201\\216\\345\\216\\273\\343\\201\\253\\345\\245\\221\\347\\264\\204\\343\\201\\227\\343\\201\\237\\351\\225\\267\\346\\234\\237\\345\\245\\221\\347\\264\\204\\343\\201\\257\\346\\247\\213\\351\\200\\240\\347\\232\\204\\343\\201\\253\\350\\265\\244\\345\\255\\227\\347\\212\\266\\346\\205\\213\\343\\201\\247\\343\\201\\202\\343\\202\\213\\343\\201\\223\\n\\343\\201\\250\\343\\202\\204\\350\\207\\252\\347\\204\\266\\347\\201\\275\\345\\256\\263\\343\\201\\256\\345\\242\\227\\345\\212\\240\\343\\201\\253\\343\\202\\210\\343\\202\\213\\345\\206\\215\\344\\277\\235\\351\\231\\272\\345\\270\\202\\345\\240\\264\\343\\201\\256\\343\\203\\217\\343\\203\\274\\343\\203\\211\\345\\214\\226\\343\\201\\250\\343\\201\\204\\343\\201\\243\\343\\201\\237\\350\\246\\201\\n\\345\\233\\240\\343\\201\\214\\346\\214\\231\\343\\201\\222\\343\\202\\211\\343\\202\\214\\343\\201\\237\\343\\200\\202\\343\\201\\276\\343\\201\\237\\343\\200\\2012021\\345\\271\\264\\357\\274\\225\\346\\234\\210\\343\\201\\256\\345\\217\\202\\350\\200\\203\\347\\264\\224\\347\\216\\207\\346\\224\\271\\345\\256\\232\\343\\202\\222\\350\\270\\217\\n\\343\\201\\276\\343\\201\\210\\343\\200\\201\\345\\220\\204\\347\\244\\276\\343\\201\\253\\343\\201\\212\\343\\201\\204\\343\\201\\246\\345\\225\\206\\345\\223\\201\\346\\224\\271\\345\\256\\232\\343\\201\\214\\343\\201\\252\\343\\201\\225\\343\\202\\214\\343\\201\\237\\343\\200\\202 \\342\\236\\241 \\343\\201\\223\\343\\201\\206\\343\\201\\227\\343\\201\\237\\344\\270\\255\\343\\200\\201\\347\\201\\253\\347\\201\\275\\344\\277\\235\\351\\231\\272\\343\\202\\222\\346\\214\\201\\347\\266\\232\\345\\217\\257\\350\\203\\275\\343\\201\\252\\343\\203\\223\\343\\202\\270\\343\\203\\215\\343\\202\\271\\343\\201\\250\\343\\201\\231\\343\\202\\213\\350\\246\\263\\347\\202\\271\\343\\201\\247\\343\\201\\257\\n\\343\\200\\214\\346\\233\\264\\343\\201\\252\\343\\202\\213\\344\\277\\235\\351\\231\\272\\346\\226\\231\\346\\224\\271\\345\\256\\232\\343\\201\\214\\345\\277\\205\\350\\246\\201\\343\\200\\215\\343\\201\\250\\343\\201\\204\\343\\201\\206\\343\\201\\256\\343\\201\\214\\346\\220\\215\\345\\256\\263\\344\\277\\235\\351\\231\\272\\345\\220\\204\\347\\244\\276\\343\\201\\256\\345\\205\\261\\n\\351\\200\\232\\350\\252\\215\\350\\255\\230\\343\\201\\247\\343\\201\\202\\343\\202\\213\\343\\201\\214\\343\\200\\201\\345\\217\\202\\350\\200\\203\\347\\264\\224\\347\\216\\207\\346\\224\\271\\345\\256\\232\\343\\201\\253\\344\\276\\235\\345\\255\\230\\343\\201\\227\\343\\201\\237\\345\\217\\216\\347\\233\\212\\346\\224\\271\\345\\226\\204\\343\\201\\253\\346\\255\\242\\n\\343\\201\\276\\343\\201\\243\\343\\201\\246\\343\\201\\204\\343\\202\\213\\344\\277\\235\\351\\231\\272\\344\\274\\232\\347\\244\\276\\343\\201\\250\\343\\200\\201\\347\\213\\254\\350\\207\\252\\343\\201\\256\\345\\217\\216\\347\\233\\212\\346\\224\\271\\345\\226\\204\\347\\255\\226\\343\\201\\276\\343\\201\\247\\345\\256\\237\\346\\226\\275\\343\\201\\227\\343\\201\\246\\343\\201\\204\\343\\202\\213\\n\\344\\277\\235\\351\\231\\272\\344\\274\\232\\347\\244\\276\\343\\201\\250\\343\\201\\256\\344\\272\\214\\346\\245\\265\\345\\214\\226\\343\\201\\214\\351\\200\\262\\343\\202\\223\\343\\201\\247\\343\\201\\204\\343\\202\\213\\345\\217\\257\\350\\203\\275\\346\\200\\247\\343\\200\\202 \\357\\274\\234\\346\\220\\215\\345\\256\\263\\344\\277\\235\\351\\231\\272\\344\\274\\232\\347\\244\\276\\343\\201\\256\\344\\277\\235\\351\\231\\272\\347\\250\\256\\347\\233\\256\\345\\210\\245\\345\\210\\251\\347\\233\\212\\347\\216\\207\\357\\274\\2102021\\345\\271\\264\\345\\272\\246\\343\\200\\201\\345\\205\\250\\347\\244\\276\\345\\271\\263\\345\\235\\207\\357\\274\\211\\357\\274\\236 \"\n",
            "      relevance_score: 0.6000000238418579\n",
            "      document_metadata {\n",
            "        document: \"projects/926771992458/locations/global/collections/default_collection/dataStores/finance-datastore_1731130284924/branches/0/documents/1acf4fda54f116dfc9a848bac5a0ab94\"\n",
            "        uri: \"gs://ai-buildathon-nov9-test-3/finance/01.pdf\"\n",
            "        title: \"01\"\n",
            "        page_identifier: \"4\"\n",
            "      }\n",
            "    }\n",
            "  }\n",
            "  references {\n",
            "    chunk_info {\n",
            "      content: \"\\350\\263\\207\\347\\224\\243\\351\\201\\213\\347\\224\\250\\343\\201\\256\\347\\212\\266\\346\\263\\201\\343\\202\\222\\345\\220\\253\\343\\202\\201\\343\\201\\237\\350\\262\\241\\345\\213\\231\\343\\201\\256\\345\\201\\245\\345\\205\\250\\346\\200\\247\\343\\201\\253\\343\\201\\244\\343\\201\\204\\343\\201\\246\\343\\201\\257\\343\\200\\201\\351\\207\\221\\350\\236\\215\\345\\270\\202\\345\\240\\264\\343\\201\\256\\345\\213\\225\\345\\220\\221\\343\\202\\222\\350\\270\\217\\343\\201\\276\\343\\201\\210\\343\\200\\201\\343\\203\\242\\343\\203\\213\\343\\202\\277\\343\\203\\252\\343\\203\\263\\343\\202\\260\\343\\202\\222\\n\\350\\241\\214\\343\\201\\243\\343\\201\\246\\343\\201\\204\\343\\201\\217\\343\\200\\202\\343\\201\\217\\343\\202\\217\\343\\201\\210\\343\\201\\246\\343\\200\\201\\347\\265\\214\\346\\270\\210\\344\\276\\241\\345\\200\\244\\343\\203\\231\\343\\203\\274\\343\\202\\271\\343\\201\\256\\343\\202\\275\\343\\203\\253\\343\\203\\231\\343\\203\\263\\343\\202\\267\\343\\203\\274\\350\\246\\217\\345\\210\\266\\343\\201\\256\\345\\206\\206\\346\\273\\221\\343\\201\\252\\345\\260\\216\\345\\205\\245\\343\\201\\253\\345\\220\\221\\343\\201\\221\\343\\201\\246\\343\\200\\201\\345\\205\\267\\344\\275\\223\\347\\232\\204\\343\\201\\252\\346\\244\\234\\n\\350\\250\\216\\343\\202\\222\\351\\200\\262\\343\\202\\201\\343\\201\\246\\343\\201\\204\\343\\201\\217\\343\\200\\202 \\350\\207\\252\\347\\204\\266\\347\\201\\275\\345\\256\\263\\343\\201\\270\\343\\201\\256\\345\\257\\276\\345\\277\\234\\343\\201\\253\\343\\201\\244\\343\\201\\204\\343\\201\\246\\343\\201\\257\\343\\200\\201\\350\\277\\221\\345\\271\\264\\343\\201\\256\\350\\207\\252\\347\\204\\266\\347\\201\\275\\345\\256\\263\\343\\201\\256\\351\\240\\273\\347\\231\\272\\343\\203\\273\\346\\277\\200\\347\\224\\232\\345\\214\\226\\343\\201\\253\\343\\202\\210\\343\\202\\213\\344\\277\\235\\351\\231\\272\\351\\207\\221\\346\\224\\257\\346\\211\\225\\343\\201\\204\\343\\201\\256\\345\\242\\227\\345\\212\\240\\347\\255\\211\\343\\201\\253\\n\\343\\202\\210\\343\\202\\212\\343\\200\\201\\347\\201\\253\\347\\201\\275\\344\\277\\235\\351\\231\\272\\346\\226\\231\\347\\216\\207\\343\\201\\214\\344\\270\\212\\346\\230\\207\\345\\202\\276\\345\\220\\221\\343\\201\\253\\343\\201\\202\\343\\202\\213\\343\\200\\202\\343\\201\\223\\343\\201\\206\\343\\201\\227\\343\\201\\237\\344\\270\\255\\343\\201\\247\\343\\200\\201\\350\\207\\252\\347\\204\\266\\347\\201\\275\\345\\256\\263\\343\\201\\253\\345\\257\\276\\343\\201\\231\\343\\202\\213\\345\\202\\231\\343\\201\\210\\343\\201\\250\\343\\201\\227\\343\\201\\246\\343\\201\\256\\346\\251\\237\\350\\203\\275\\343\\202\\222\\343\\202\\210\\n\\343\\202\\212\\351\\201\\251\\345\\210\\207\\343\\201\\253\\347\\231\\272\\346\\217\\256\\343\\201\\227\\343\\201\\246\\343\\201\\204\\343\\201\\217\\343\\201\\237\\343\\202\\201\\343\\200\\201\\346\\220\\215\\345\\256\\263\\344\\277\\235\\351\\231\\272\\344\\274\\232\\347\\244\\276\\343\\201\\253\\345\\257\\276\\343\\201\\227\\343\\201\\246\\343\\200\\201\\347\\265\\261\\345\\220\\210\\347\\232\\204\\343\\203\\252\\343\\202\\271\\343\\202\\257\\347\\256\\241\\347\\220\\206\\357\\274\\210ERM\\357\\274\\211\\343\\201\\256\\351\\253\\230\\345\\272\\246\\345\\214\\226\\343\\200\\201\\351\\241\\247\\345\\256\\242\\n\\343\\203\\213\\343\\203\\274\\343\\202\\272\\343\\202\\204\\343\\203\\252\\343\\202\\271\\343\\202\\257\\345\\256\\237\\346\\205\\213\\347\\255\\211\\343\\202\\222\\350\\270\\217\\343\\201\\276\\343\\201\\210\\343\\201\\237\\350\\243\\234\\345\\204\\237\\345\\206\\205\\345\\256\\271\\343\\203\\273\\344\\277\\235\\351\\231\\272\\346\\226\\231\\347\\216\\207\\343\\201\\256\\350\\246\\213\\347\\233\\264\\343\\201\\227\\343\\200\\201\\351\\230\\262\\347\\201\\275\\343\\203\\273\\346\\270\\233\\347\\201\\275\\343\\201\\256\\343\\202\\265\\343\\203\\235\\343\\203\\274\\343\\203\\210\\347\\255\\211\\343\\201\\253\\345\\220\\221\\343\\201\\221\\n\\343\\201\\237\\345\\257\\276\\345\\277\\234\\343\\202\\222\\344\\277\\203\\343\\201\\227\\343\\201\\246\\343\\201\\204\\343\\201\\217\\343\\200\\202\\343\\201\\202\\343\\202\\217\\343\\201\\233\\343\\201\\246\\343\\200\\201\\350\\262\\241\\345\\213\\231\\345\\261\\200\\343\\201\\250\\351\\200\\243\\346\\220\\272\\343\\201\\227\\343\\200\\201\\351\\241\\247\\345\\256\\242\\346\\234\\254\\344\\275\\215\\343\\201\\256\\346\\245\\255\\345\\213\\231\\351\\201\\213\\345\\226\\266\\343\\201\\256\\346\\233\\264\\343\\201\\252\\343\\202\\213\\346\\216\\250\\351\\200\\262\\343\\201\\253\\345\\220\\221\\343\\201\\221\\343\\201\\237\\346\\220\\215\\n\\345\\256\\263\\344\\277\\235\\351\\231\\272\\346\\245\\255\\347\\225\\214\\343\\201\\253\\343\\201\\212\\343\\201\\221\\343\\202\\213\\345\\217\\226\\347\\265\\204\\343\\202\\222\\344\\277\\203\\343\\201\\227\\343\\201\\246\\343\\201\\204\\343\\201\\217\\343\\200\\202 \\347\\224\\237\\345\\221\\275\\344\\277\\235\\351\\231\\272\\344\\274\\232\\347\\244\\276\\343\\201\\253\\343\\201\\244\\343\\201\\204\\343\\201\\246\\343\\201\\257\\343\\200\\201\\345\\226\\266\\346\\245\\255\\350\\201\\267\\345\\223\\241\\343\\201\\253\\343\\202\\210\\343\\202\\213\\344\\270\\215\\351\\201\\251\\345\\210\\207\\344\\272\\213\\346\\241\\210\\343\\201\\214\\347\\266\\231\\347\\266\\232\\347\\232\\204\\343\\201\\253\\347\\231\\272\\347\\224\\237\\343\\201\\227\\343\\201\\246\\343\\201\\204\\343\\202\\213\\347\\212\\266\\346\\263\\201\\343\\202\\222\\350\\270\\217\\343\\201\\276\\343\\201\\210\\343\\200\\201 \"\n",
            "      relevance_score: 0.30000001192092896\n",
            "      document_metadata {\n",
            "        document: \"projects/926771992458/locations/global/collections/default_collection/dataStores/finance-datastore_1731130284924/branches/0/documents/55bae4adda32c9851016e1aa03184864\"\n",
            "        uri: \"gs://ai-buildathon-nov9-test-3/finance/230829_main.pdf\"\n",
            "        title: \"230829_main\"\n",
            "        page_identifier: \"25\"\n",
            "      }\n",
            "    }\n",
            "  }\n",
            "  references {\n",
            "    chunk_info {\n",
            "      content: \"\\351\\207\\221\\350\\236\\215\\350\\241\\214\\346\\224\\277\\344\\270\\212\\343\\201\\256\\350\\252\\262\\351\\241\\214 \\346\\234\\254\\344\\272\\213\\345\\213\\231\\345\\271\\264\\345\\272\\246\\343\\201\\256\\344\\270\\273\\343\\201\\252\\345\\256\\237\\347\\270\\276 4 \\342\\227\\213 \\350\\277\\221\\345\\271\\264\\343\\200\\201\\345\\217\\260\\351\\242\\250\\343\\203\\273\\346\\260\\264\\345\\256\\263\\347\\255\\211\\343\\201\\256\\345\\244\\247\\350\\246\\217\\346\\250\\241\\350\\207\\252\\347\\204\\266\\347\\201\\275\\345\\256\\263\\343\\201\\214\\351\\240\\273\\347\\231\\272\\343\\201\\227\\343\\200\\201\\347\\201\\253\\347\\201\\275\\344\\277\\235\\351\\231\\272\\351\\207\\221\\343\\201\\256\\342\\275\\200\\346\\211\\225\\343\\201\\204\\343\\201\\214\\345\\242\\227\\345\\212\\240\\343\\202\\222\\347\\266\\232\\343\\201\\221\\343\\202\\213\\344\\270\\255\\343\\200\\201\\346\\220\\215\\345\\256\\263\\344\\277\\235\\351\\231\\272\\344\\274\\232\\347\\244\\276\\343\\201\\253\\343\\201\\212\\343\\201\\204\\343\\201\\246\\343\\201\\257\\343\\200\\201\\n\\347\\225\\260\\345\\270\\270\\345\\215\\261\\351\\231\\272\\346\\272\\226\\345\\202\\231\\351\\207\\221\\343\\201\\256\\347\\251\\215\\347\\253\\213\\343\\201\\246\\343\\200\\201\\345\\206\\215\\344\\277\\235\\351\\231\\272\\343\\201\\256\\346\\211\\213\\351\\205\\215\\343\\202\\204\\350\\277\\205\\351\\200\\237\\343\\201\\252\\344\\277\\235\\351\\231\\272\\351\\207\\221\\342\\275\\200\\346\\211\\225\\343\\201\\204\\346\\205\\213\\345\\213\\242\\343\\201\\256\\346\\225\\264\\345\\202\\231\\343\\201\\214\\351\\207\\215\\350\\246\\201\\343\\201\\247\\343\\201\\202\\343\\202\\213\\343\\200\\202 \\357\\203\\230 \\346\\220\\215\\345\\256\\263\\344\\277\\235\\351\\231\\272\\344\\274\\232\\347\\244\\276\\343\\201\\253\\343\\201\\212\\343\\201\\221\\343\\202\\213\\350\\207\\252\\347\\204\\266\\347\\201\\275\\345\\256\\263\\343\\203\\252\\343\\202\\271\\343\\202\\257\\347\\256\\241\\347\\220\\206\\343\\201\\253\\343\\201\\244\\343\\201\\204\\343\\201\\246\\343\\203\\242\\343\\203\\213\\343\\202\\277\\343\\203\\252\\343\\203\\263\\343\\202\\260\\n\\343\\202\\222\\345\\256\\237\\346\\226\\275\\343\\200\\202\\n\\342\\236\\241 2022\\345\\271\\264\\343\\201\\253\\343\\201\\212\\343\\201\\221\\343\\202\\213\\350\\207\\252\\347\\204\\266\\347\\201\\275\\345\\256\\263\\343\\201\\257\\343\\200\\201\\345\\220\\204\\347\\244\\276\\343\\201\\214\\346\\211\\213\\351\\205\\215\\343\\201\\227\\343\\201\\237\\345\\206\\215\\344\\277\\235\\351\\231\\272\\343\\201\\256\\347\\231\\272\\345\\213\\225\\343\\201\\276\\343\\201\\247\\343\\201\\253\\343\\201\\257\\n\\350\\207\\263\\343\\202\\211\\343\\201\\252\\343\\201\\204\\350\\246\\217\\346\\250\\241\\343\\201\\247\\346\\255\\242\\343\\201\\276\\343\\201\\243\\343\\201\\246\\343\\201\\204\\343\\201\\237\\343\\201\\237\\343\\202\\201\\343\\200\\201\\345\\244\\232\\343\\201\\217\\343\\201\\256\\344\\277\\235\\351\\231\\272\\344\\274\\232\\347\\244\\276\\343\\201\\257\\345\\244\\232\\351\\241\\215\\343\\201\\256\\347\\225\\260\\345\\270\\270\\345\\215\\261\\351\\231\\272\\346\\272\\226\\n\\345\\202\\231\\351\\207\\221\\343\\202\\222\\345\\217\\226\\343\\202\\212\\345\\264\\251\\343\\201\\227\\343\\201\\237\\343\\201\\214\\343\\200\\201\\350\\277\\275\\345\\212\\240\\347\\251\\215\\347\\253\\213\\347\\255\\211\\343\\202\\222\\350\\241\\214\\343\\201\\206\\343\\201\\223\\343\\201\\250\\343\\201\\247\\343\\200\\201\\347\\225\\260\\345\\270\\270\\345\\215\\261\\351\\231\\272\\346\\272\\226\\345\\202\\231\\351\\207\\221\\343\\201\\256\\346\\256\\213\\351\\253\\230\\n\\343\\202\\222\\345\\244\\247\\343\\201\\215\\343\\201\\217\\346\\270\\233\\345\\260\\221\\343\\201\\225\\343\\201\\233\\343\\201\\252\\343\\201\\204\\345\\217\\226\\347\\265\\204\\343\\201\\277\\343\\201\\214\\350\\246\\213\\343\\202\\211\\343\\202\\214\\343\\201\\237\\343\\200\\202 \\342\\236\\241 \\344\\270\\226\\347\\225\\214\\347\\232\\204\\343\\201\\252\\350\\207\\252\\347\\204\\266\\347\\201\\275\\345\\256\\263\\343\\201\\256\\347\\231\\272\\347\\224\\237\\343\\201\\253\\345\\212\\240\\343\\201\\210\\343\\200\\201\\351\\207\\221\\345\\210\\251\\344\\270\\212\\346\\230\\207\\343\\200\\201\\343\\202\\244\\343\\203\\263\\343\\203\\225\\343\\203\\254\\343\\203\\274\\343\\202\\267\\343\\203\\247\\343\\203\\263\\347\\255\\211\\343\\201\\256\\345\\275\\261\\351\\237\\277\\n\\343\\201\\253\\343\\202\\210\\343\\202\\212\\346\\265\\267\\345\\244\\226\\343\\201\\256\\345\\206\\215\\344\\277\\235\\351\\231\\272\\346\\226\\231\\347\\216\\207\\343\\202\\20230\\357\\275\\23640\\357\\274\\205\\347\\250\\213\\345\\272\\246\\344\\270\\212\\346\\230\\207\\343\\201\\227\\343\\201\\237\\343\\200\\202\\346\\227\\245\\346\\234\\254\\343\\201\\256\\345\\220\\204\\346\\220\\215\\345\\256\\263\\344\\277\\235\\n\\351\\231\\272\\344\\274\\232\\347\\244\\276\\343\\201\\247\\343\\201\\257\\343\\200\\201\\346\\237\\224\\350\\273\\237\\343\\201\\252\\344\\272\\244\\346\\270\\211\\343\\202\\204\\344\\277\\235\\346\\234\\211\\343\\203\\273\\345\\207\\272\\345\\206\\215\\346\\226\\271\\351\\207\\235\\343\\201\\256\\350\\246\\213\\347\\233\\264\\343\\201\\227\\343\\202\\222\\350\\241\\214\\343\\201\\204\\343\\200\\201\\345\\206\\215\\344\\277\\235\\351\\231\\272\\345\\245\\221\\n\\347\\264\\204\\343\\202\\222\\346\\233\\264\\346\\224\\271\\343\\201\\227\\343\\201\\237\\343\\200\\202 \\357\\274\\2342022\\345\\271\\264\\343\\201\\253\\347\\231\\272\\347\\224\\237\\343\\201\\227\\343\\201\\237\\344\\270\\273\\343\\201\\252\\350\\207\\252\\347\\204\\266\\347\\201\\275\\345\\256\\263\\343\\201\\250\\344\\277\\235\\351\\231\\272\\351\\207\\221\\346\\224\\257\\346\\211\\225\\351\\241\\215\\357\\274\\236 \\344\\277\\235\\351\\231\\272\\343\\203\\223\\343\\202\\270\\343\\203\\215\\343\\202\\271\\343\\202\\222\\345\\267\\241\\343\\202\\213\\345\\213\\225\\345\\220\\221\\343\\201\\253\\343\\201\\244\\343\\201\\204\\343\\201\\246\\357\\274\\210\\350\\207\\252\\347\\204\\266\\347\\201\\275\\345\\256\\263\\343\\201\\256\\351\\240\\273\\347\\231\\272\\343\\203\\273\\346\\277\\200\\347\\224\\232\\345\\214\\226\\343\\201\\270\\343\\201\\256\\345\\257\\276\\345\\277\\234\\357\\274\\211 \\351\\242\\250\\346\\260\\264\\347\\201\\275\\n\\345\\234\\260\\351\\234\\207 \"\n",
            "      relevance_score: 0.30000001192092896\n",
            "      document_metadata {\n",
            "        document: \"projects/926771992458/locations/global/collections/default_collection/dataStores/finance-datastore_1731130284924/branches/0/documents/1acf4fda54f116dfc9a848bac5a0ab94\"\n",
            "        uri: \"gs://ai-buildathon-nov9-test-3/finance/01.pdf\"\n",
            "        title: \"01\"\n",
            "        page_identifier: \"5\"\n",
            "      }\n",
            "    }\n",
            "  }\n",
            "  references {\n",
            "    chunk_info {\n",
            "      content: \"\\357\\274\\226\\357\\274\\216\\357\\274\\222 \\344\\273\\212\\345\\276\\214\\343\\201\\256\\345\\257\\276\\345\\277\\234\\357\\274\\210\\350\\252\\262\\351\\241\\214\\357\\274\\211\\n\\357\\274\\226\\357\\274\\216\\357\\274\\222\\357\\274\\216\\357\\274\\221 \\347\\201\\253\\347\\201\\275\\344\\277\\235\\351\\231\\272\\343\\201\\256\\346\\214\\201\\347\\266\\232\\345\\217\\257\\350\\203\\275\\346\\200\\247\\343\\201\\256\\347\\242\\272\\344\\277\\235\\n\\347\\201\\253\\347\\201\\275\\344\\277\\235\\351\\231\\272\\346\\260\\264\\347\\201\\275\\346\\226\\231\\347\\216\\207\\343\\201\\253\\351\\226\\242\\343\\201\\231\\343\\202\\213\\346\\234\\211\\350\\255\\230\\350\\200\\205\\346\\207\\207\\350\\253\\207\\344\\274\\232 \\345\\240\\261\\345\\221\\212\\346\\233\\270\\357\\274\\210\\351\\207\\221\\350\\236\\215\\345\\272\\201, 2022\\357\\274\\211\\343\\201\\253\\343\\201\\202\\343\\202\\213\\351\\200\\232\\343\\202\\212\\343\\200\\201\\347\\201\\253\\347\\201\\275\\344\\277\\235\\351\\231\\272\\343\\201\\256\\344\\277\\235\\n\\351\\231\\272\\351\\207\\221\\346\\224\\257\\346\\211\\225\\351\\241\\215\\343\\201\\257\\343\\200\\201\\350\\277\\221\\345\\271\\264\\343\\200\\201\\350\\207\\252\\347\\204\\266\\347\\201\\275\\345\\256\\263\\343\\201\\256\\345\\244\\232\\347\\231\\272\\345\\214\\226\\343\\203\\273\\346\\277\\200\\347\\224\\232\\345\\214\\226\\343\\201\\253\\344\\274\\264\\343\\201\\204\\343\\200\\201\\345\\244\\247\\343\\201\\215\\343\\201\\217\\345\\242\\227\\345\\212\\240\\343\\201\\227\\343\\201\\246\\343\\201\\204\\343\\202\\213\\343\\200\\202\\343\\201\\223\\343\\202\\214\\343\\201\\253\\344\\274\\264\\343\\201\\204\\343\\200\\201\\n\\347\\201\\253\\347\\201\\275\\344\\277\\235\\351\\231\\272\\346\\226\\231\\347\\216\\207\\343\\201\\256\\345\\200\\244\\344\\270\\212\\343\\201\\222\\343\\201\\214\\343\\200\\201\\350\\277\\221\\345\\271\\264\\343\\200\\201\\351\\240\\273\\347\\271\\201\\343\\201\\253\\347\\231\\272\\347\\224\\237\\343\\201\\227\\343\\201\\246\\343\\201\\204\\343\\202\\213\\347\\212\\266\\346\\263\\201\\343\\201\\253\\343\\201\\202\\343\\202\\213\\357\\274\\210\\345\\217\\202\\350\\200\\203 BOX-2 \\345\\217\\202\\350\\200\\203\\347\\264\\224\\347\\216\\207\\346\\224\\271\\345\\256\\232\\n\\343\\201\\256\\347\\212\\266\\346\\263\\201\\357\\274\\211\\343\\200\\202\\343\\201\\227\\343\\201\\213\\343\\201\\227\\343\\200\\201\\345\\275\\223\\347\\204\\266\\343\\201\\256\\343\\201\\223\\343\\201\\250\\343\\201\\252\\343\\201\\214\\343\\202\\211\\343\\200\\201\\347\\201\\253\\347\\201\\275\\344\\277\\235\\351\\231\\272\\346\\226\\231\\343\\201\\256\\345\\200\\244\\344\\270\\212\\343\\201\\222\\343\\201\\257\\343\\200\\201\\347\\201\\253\\347\\201\\275\\344\\277\\235\\351\\231\\272\\343\\201\\256\\345\\212\\240\\345\\205\\245\\350\\200\\205\\343\\201\\256\\350\\262\\240\\346\\213\\205\\343\\202\\202\\345\\242\\227\\343\\201\\231\\n\\343\\201\\250\\343\\201\\223\\343\\202\\215\\343\\201\\247\\343\\201\\202\\343\\202\\213\\343\\200\\202\\343\\201\\235\\343\\201\\256\\343\\201\\237\\343\\202\\201\\343\\200\\201\\347\\201\\253\\347\\201\\275\\344\\277\\235\\351\\231\\272\\346\\226\\231\\343\\201\\256\\346\\224\\257\\346\\211\\225\\350\\262\\240\\346\\213\\205\\343\\201\\214\\345\\242\\227\\343\\201\\210\\351\\201\\216\\343\\201\\216\\343\\201\\237\\345\\240\\264\\345\\220\\210\\343\\201\\253\\343\\201\\257\\343\\200\\201\\347\\201\\253\\347\\201\\275\\344\\277\\235\\351\\231\\272\\343\\201\\256\\345\\212\\240\\345\\205\\245\\350\\200\\205\\346\\225\\260 \"\n",
            "      relevance_score: 0.30000001192092896\n",
            "      document_metadata {\n",
            "        document: \"projects/926771992458/locations/global/collections/default_collection/dataStores/finance-datastore_1731130284924/branches/0/documents/6bbbb644bfec65f8223adc7c059c572b\"\n",
            "        uri: \"gs://ai-buildathon-nov9-test-3/finance/DP2023-2.pdf\"\n",
            "        title: \"DP2023-2\"\n",
            "        page_identifier: \"27\"\n",
            "      }\n",
            "    }\n",
            "  }\n",
            "  references {\n",
            "    chunk_info {\n",
            "      content: \"\\357\\274\\225\\357\\274\\216\\344\\273\\212\\345\\276\\214\\346\\203\\263\\345\\256\\232\\343\\201\\225\\343\\202\\214\\343\\202\\213\\343\\203\\252\\343\\202\\271\\343\\202\\257\\347\\256\\241\\347\\220\\206\\344\\270\\212\\343\\201\\256\\346\\207\\270\\345\\277\\265\\347\\202\\271\\n\\347\\217\\276\\347\\212\\266\\343\\200\\201\\346\\260\\227\\345\\200\\231\\351\\226\\242\\351\\200\\243\\343\\203\\252\\343\\202\\271\\343\\202\\257\\343\\201\\257\\343\\200\\201\\347\\211\\251\\347\\220\\206\\347\\232\\204\\343\\203\\252\\343\\202\\271\\343\\202\\257\\345\\217\\212\\343\\201\\263\\347\\247\\273\\350\\241\\214\\343\\203\\252\\343\\202\\271\\343\\202\\257\\343\\201\\250\\343\\202\\202\\343\\201\\253\\351\\241\\225\\345\\234\\250\\345\\214\\226\\343\\201\\227\\343\\201\\246\\343\\201\\204\\343\\202\\213\\347\\212\\266\\346\\263\\201\\343\\201\\253\\343\\201\\257\\343\\201\\252\\343\\201\\204\\n\\343\\201\\214\\343\\200\\201\\346\\275\\234\\345\\234\\250\\347\\232\\204\\343\\201\\252\\343\\203\\252\\343\\202\\271\\343\\202\\257\\343\\201\\250\\343\\201\\227\\343\\201\\246\\346\\215\\225\\346\\215\\211\\343\\201\\231\\343\\202\\213\\345\\277\\205\\350\\246\\201\\346\\200\\247\\343\\201\\257\\350\\250\\200\\343\\201\\206\\343\\201\\276\\343\\201\\247\\343\\202\\202\\343\\201\\252\\343\\201\\204\\343\\200\\202\\343\\201\\235\\343\\201\\223\\343\\201\\247\\343\\200\\201\\343\\203\\225\\343\\202\\251\\343\\203\\257\\343\\203\\274\\343\\203\\211\\343\\203\\253\\343\\203\\203\\343\\202\\255\\343\\203\\263\\343\\202\\260\\n\\343\\201\\253\\343\\200\\201\\346\\260\\227\\345\\200\\231\\351\\226\\242\\351\\200\\243\\343\\203\\252\\343\\202\\271\\343\\202\\257\\343\\201\\253\\343\\201\\212\\343\\201\\221\\343\\202\\213\\343\\203\\252\\343\\202\\271\\343\\202\\257\\347\\256\\241\\347\\220\\206\\344\\270\\212\\343\\201\\256\\346\\207\\270\\345\\277\\265\\347\\202\\271\\343\\201\\253\\343\\201\\244\\343\\201\\204\\343\\201\\246\\350\\200\\203\\345\\257\\237\\343\\202\\222\\350\\241\\214\\343\\201\\206\\343\\200\\202 \\357\\274\\225\\357\\274\\216\\357\\274\\221 \\347\\201\\253\\347\\201\\275\\344\\277\\235\\351\\231\\272\\343\\201\\256\\343\\203\\252\\343\\202\\271\\343\\202\\257\\345\\211\\212\\346\\270\\233\\345\\212\\271\\346\\236\\234\\343\\201\\256\\344\\275\\216\\344\\270\\213\\n\\350\\277\\221\\345\\271\\264\\343\\200\\201\\350\\207\\252\\347\\204\\266\\347\\201\\275\\345\\256\\263\\343\\201\\256\\351\\240\\273\\347\\231\\272\\345\\214\\226\\343\\203\\273\\346\\277\\200\\347\\224\\232\\345\\214\\226\\343\\202\\222\\345\\217\\227\\343\\201\\221\\343\\201\\246\\347\\201\\253\\347\\201\\275\\344\\277\\235\\351\\231\\272\\346\\226\\231\\343\\201\\256\\345\\274\\225\\343\\201\\215\\344\\270\\212\\343\\201\\222\\343\\201\\214\\347\\233\\270\\346\\254\\241\\343\\201\\204\\343\\201\\247\\343\\201\\204\\343\\202\\213\\343\\201\\214\\343\\200\\201\\345\\260\\206\\346\\235\\245\\347\\232\\204\\n\\343\\201\\253\\343\\200\\201\\344\\277\\235\\351\\231\\272\\351\\207\\221\\346\\224\\257\\346\\211\\225\\350\\262\\240\\346\\213\\205\\343\\201\\256\\345\\242\\227\\345\\244\\247\\343\\201\\253\\350\\200\\220\\343\\201\\210\\343\\202\\211\\343\\202\\214\\343\\201\\232\\343\\200\\201\\347\\201\\253\\347\\201\\275\\344\\277\\235\\351\\231\\272\\343\\201\\256\\350\\243\\234\\345\\204\\237\\347\\257\\204\\345\\233\\262\\343\\201\\214\\347\\270\\256\\345\\260\\217\\343\\201\\225\\343\\202\\214\\343\\202\\213\\345\\217\\257\\350\\203\\275\\346\\200\\247\\343\\202\\222\\350\\200\\203\\343\\201\\210\\343\\202\\213\\343\\201\\223\\n\\343\\201\\250\\343\\201\\214\\343\\201\\247\\343\\201\\215\\343\\202\\213\\343\\200\\202\\343\\201\\276\\343\\201\\237\\343\\200\\201\\347\\201\\253\\347\\201\\275\\344\\277\\235\\351\\231\\272\\343\\201\\253\\345\\212\\240\\345\\205\\245\\343\\201\\231\\343\\202\\213\\343\\202\\202\\343\\201\\256\\343\\201\\256\\343\\200\\201\\345\\260\\221\\343\\201\\227\\343\\201\\247\\343\\202\\202\\344\\277\\235\\351\\231\\272\\346\\226\\231\\343\\202\\222\\345\\256\\211\\343\\201\\217\\343\\201\\227\\343\\202\\210\\343\\201\\206\\343\\201\\250\\343\\201\\231\\343\\202\\213\\346\\204\\217\\346\\200\\235\\343\\201\\214\\345\\203\\215\\n\\343\\201\\215\\343\\200\\201\\346\\260\\264\\347\\201\\275\\350\\243\\234\\345\\204\\237\\343\\201\\256\\347\\257\\204\\345\\233\\262\\343\\202\\222\\347\\213\\255\\343\\201\\217\\343\\201\\231\\343\\202\\213\\345\\217\\210\\343\\201\\257\\344\\273\\230\\345\\212\\240\\343\\201\\227\\343\\201\\252\\343\\201\\204\\345\\213\\225\\343\\201\\215\\343\\202\\202\\346\\207\\270\\345\\277\\265\\343\\201\\225\\343\\202\\214\\343\\202\\213\\343\\200\\202\\343\\201\\225\\343\\202\\211\\343\\201\\253\\343\\201\\257\\343\\200\\201\\343\\201\\276\\343\\201\\237\\343\\200\\201\\345\\260\\206\\346\\235\\245\\347\\232\\204\\343\\201\\253\\343\\200\\201 \"\n",
            "      relevance_score: 0.20000000298023224\n",
            "      document_metadata {\n",
            "        document: \"projects/926771992458/locations/global/collections/default_collection/dataStores/finance-datastore_1731130284924/branches/0/documents/6bbbb644bfec65f8223adc7c059c572b\"\n",
            "        uri: \"gs://ai-buildathon-nov9-test-3/finance/DP2023-2.pdf\"\n",
            "        title: \"DP2023-2\"\n",
            "        page_identifier: \"25\"\n",
            "      }\n",
            "    }\n",
            "  }\n",
            "  references {\n",
            "    chunk_info {\n",
            "      content: \"\\346\\213\\205\\344\\277\\235\\344\\276\\241\\345\\200\\244\\342\\206\\223 \\345\\200\\237\\346\\211\\213\\343\\201\\256\\350\\263\\207\\347\\224\\243\\346\\256\\213\\351\\253\\230\\342\\206\\223 \\345\\217\\257\\345\\207\\246\\345\\210\\206\\346\\211\\200\\345\\276\\227\\342\\206\\223 \\350\\262\\257\\350\\223\\204\\342\\206\\223 LGD\\342\\206\\221 PD\\342\\206\\221 PD\\342\\206\\221 \\346\\227\\251\\346\\234\\237\\350\\277\\224\\346\\270\\210\\342\\206\\221\\nEAD\\342\\206\\223 \\346\\216\\241\\347\\256\\227\\346\\202\\252\\345\\214\\226 \"\n",
            "      relevance_score: 0.20000000298023224\n",
            "      document_metadata {\n",
            "        document: \"projects/926771992458/locations/global/collections/default_collection/dataStores/finance-datastore_1731130284924/branches/0/documents/6bbbb644bfec65f8223adc7c059c572b\"\n",
            "        uri: \"gs://ai-buildathon-nov9-test-3/finance/DP2023-2.pdf\"\n",
            "        title: \"DP2023-2\"\n",
            "        page_identifier: \"17\"\n",
            "      }\n",
            "    }\n",
            "  }\n",
            "  references {\n",
            "    chunk_info {\n",
            "      content: \"\\342\\227\\213 DeFi\\343\\202\\265\\343\\203\\274\\343\\203\\223\\343\\202\\271\\343\\201\\257\\343\\200\\201\\346\\263\\225\\344\\273\\244\\351\\201\\265\\345\\256\\210\\343\\202\\222\\343\\201\\227\\343\\201\\252\\343\\201\\204\\343\\202\\265\\343\\203\\274\\343\\203\\223\\343\\202\\271\\343\\200\\201\\344\\273\\262\\344\\273\\213\\350\\200\\205\\344\\270\\215\\345\\234\\250\\343\\202\\271\\343\\202\\255\\343\\203\\274\\343\\203\\240\\343\\200\\201\\346\\263\\225\\345\\237\\237\\351\\226\\223\\343\\201\\247\\343\\201\\256AML/CFT\\350\\246\\217\\345\\210\\266\\343\\202\\256\\343\\203\\243\\343\\203\\203\\343\\203\\227\\343\\200\\201\\343\\202\\265\\343\\202\\244\\n\\343\\203\\220\\343\\203\\274\\351\\226\\242\\351\\200\\243\\343\\201\\256\\350\\204\\206\\345\\274\\261\\346\\200\\247\\347\\255\\211\\343\\201\\214\\343\\201\\202\\343\\202\\212\\343\\200\\201\\343\\203\\251\\343\\203\\263\\343\\202\\265\\343\\203\\240\\343\\202\\246\\343\\202\\247\\343\\202\\242\\343\\200\\201\\347\\252\\203\\345\\217\\226\\343\\200\\201\\350\\251\\220\\346\\254\\272\\343\\200\\201\\351\\272\\273\\350\\226\\254\\345\\257\\206\\350\\274\\270\\343\\200\\201\\346\\213\\241\\346\\225\\243\\351\\207\\221\\350\\236\\215\\347\\255\\211\\343\\201\\256\\344\\270\\215\\346\\255\\243\\350\\241\\214\\347\\202\\272\\343\\201\\213\\343\\202\\211\\345\\210\\251\\347\\233\\212\\343\\202\\222\\345\\276\\227\\343\\202\\210\\343\\201\\206\\343\\201\\250\\n\\343\\201\\231\\343\\202\\213\\347\\212\\257\\347\\275\\252\\350\\200\\205\\343\\201\\253\\345\\210\\251\\347\\224\\250\\343\\201\\225\\343\\202\\214\\343\\202\\213\\345\\215\\261\\351\\231\\272\\346\\200\\247\\343\\202\\222\\345\\206\\205\\345\\234\\250\\343\\200\\202 \\342\\227\\213 \\343\\203\\221\\343\\203\\226\\343\\203\\252\\343\\203\\203\\343\\202\\257\\343\\203\\226\\343\\203\\255\\343\\203\\203\\343\\202\\257\\343\\203\\201\\343\\202\\247\\343\\203\\274\\343\\203\\263\\343\\201\\256\\351\\200\\217\\346\\230\\216\\346\\200\\247\\343\\200\\201\\344\\270\\255\\345\\244\\256\\351\\233\\206\\346\\250\\251\\345\\236\\213VASP\\343\\201\\247\\343\\201\\256\\345\\257\\276\\345\\277\\234\\343\\200\\201\\346\\245\\255\\347\\225\\214\\343\\201\\253\\343\\201\\212\\343\\201\\221\\343\\202\\213\\343\\203\\252\\343\\202\\271\\343\\202\\257\\344\\275\\216\\346\\270\\233\\347\\255\\226\\357\\274\\210\\344\\276\\213\\357\\270\\223\\343\\202\\271\\343\\203\\236\\343\\203\\274\\343\\203\\210\\n\\343\\202\\263\\343\\203\\263\\343\\203\\210\\343\\203\\251\\343\\202\\257\\343\\203\\210\\343\\201\\270\\343\\201\\256\\343\\203\\252\\343\\202\\271\\343\\202\\257\\350\\273\\275\\346\\270\\233\\346\\216\\252\\347\\275\\256\\343\\201\\256\\345\\260\\216\\345\\205\\245\\357\\274\\211\\343\\202\\222\\343\\202\\202\\343\\201\\243\\343\\201\\246\\343\\201\\227\\343\\201\\246\\343\\202\\202\\343\\200\\201DeFi\\343\\202\\265\\343\\203\\274\\343\\203\\223\\343\\202\\271\\343\\201\\253\\351\\226\\242\\351\\200\\243\\343\\201\\231\\343\\202\\213\\344\\270\\215\\346\\255\\243\\351\\207\\221\\350\\236\\215\\343\\203\\252\\343\\202\\271\\343\\202\\257\\343\\201\\257\\346\\256\\213\\345\\255\\230 \"\n",
            "      relevance_score: 0.20000000298023224\n",
            "      document_metadata {\n",
            "        document: \"projects/926771992458/locations/global/collections/default_collection/dataStores/finance-datastore_1731130284924/branches/0/documents/dfcc14a0eef30bfab23e108e2f31f9f5\"\n",
            "        uri: \"gs://ai-buildathon-nov9-test-3/finance/jimukyoku.pdf\"\n",
            "        title: \"jimukyoku\"\n",
            "        page_identifier: \"9\"\n",
            "      }\n",
            "    }\n",
            "  }\n",
            "  references {\n",
            "    chunk_info {\n",
            "      content: \"\\357\\274\\222\\357\\274\\216\\345\\260\\221\\345\\255\\220\\351\\253\\230\\351\\275\\242\\347\\244\\276\\344\\274\\232\\343\\201\\253\\343\\201\\212\\343\\201\\221\\343\\202\\213\\351\\207\\221\\350\\236\\215\\343\\202\\265\\343\\203\\274\\343\\203\\223\\343\\202\\271\\343\\201\\256\\350\\252\\262\\351\\241\\214\\347\\255\\211\\n\\346\\234\\254\\347\\253\\240\\343\\201\\256\\357\\274\\221\\357\\274\\216\\343\\201\\247\\343\\201\\257\\343\\200\\201\\345\\260\\221\\345\\255\\220\\351\\253\\230\\351\\275\\242\\347\\244\\276\\344\\274\\232\\343\\201\\253\\343\\201\\212\\343\\201\\204\\343\\201\\246\\351\\212\\200\\350\\241\\214\\343\\201\\214\\346\\236\\234\\343\\201\\237\\343\\201\\231\\343\\201\\271\\343\\201\\215\\345\\275\\271\\345\\211\\262\\343\\201\\253\\343\\201\\244\\343\\201\\204\\343\\201\\246\\343\\200\\201\\347\\217\\276\\346\\256\\265\\351\\232\\216\\343\\201\\247\\n\\343\\201\\256\\345\\275\\271\\345\\211\\262\\343\\201\\250\\344\\270\\255\\351\\225\\267\\346\\234\\237\\347\\232\\204\\343\\201\\252\\345\\275\\271\\345\\211\\262\\343\\201\\253\\345\\210\\206\\343\\201\\221\\343\\201\\246\\346\\246\\202\\350\\246\\263\\343\\201\\227\\343\\201\\237\\343\\200\\202\\343\\201\\223\\343\\201\\223\\343\\201\\247\\343\\201\\257\\343\\200\\201\\345\\211\\215\\350\\277\\260\\343\\201\\256\\343\\202\\242\\343\\203\\263\\343\\202\\261\\343\\203\\274\\343\\203\\210\\350\\252\\277\\346\\237\\273\\343\\202\\222\\350\\270\\217\\343\\201\\276\\n\\343\\201\\210\\343\\200\\201\\345\\275\\223\\350\\251\\262\\345\\275\\271\\345\\211\\262\\343\\202\\222\\346\\236\\234\\343\\201\\237\\343\\201\\231\\343\\201\\253\\345\\275\\223\\343\\201\\237\\343\\201\\243\\343\\201\\246\\351\\212\\200\\350\\241\\214\\350\\207\\252\\350\\272\\253\\343\\201\\214\\350\\252\\262\\351\\241\\214\\343\\201\\250\\350\\200\\203\\343\\201\\210\\343\\201\\246\\343\\201\\204\\343\\202\\213\\351\\240\\205\\347\\233\\256\\343\\202\\222\\346\\225\\264\\347\\220\\206\\343\\201\\231\\343\\202\\213\\343\\200\\202 (1) \\347\\267\\217\\345\\220\\210\\347\\232\\204\\343\\201\\252\\351\\207\\221\\350\\236\\215\\345\\225\\206\\345\\223\\201\\343\\203\\273\\343\\202\\265\\343\\203\\274\\343\\203\\223\\343\\202\\271\\343\\201\\256\\346\\217\\220\\344\\276\\233\\n\\351\\212\\200\\350\\241\\214\\343\\201\\253\\343\\201\\212\\343\\201\\204\\343\\201\\246\\343\\201\\257\\343\\200\\201\\351\\240\\220\\351\\207\\221\\343\\202\\222\\345\\247\\213\\343\\202\\201\\343\\201\\250\\343\\201\\227\\343\\201\\246\\346\\212\\225\\350\\263\\207\\344\\277\\241\\350\\250\\227\\343\\202\\204\\345\\220\\204\\347\\250\\256\\344\\277\\235\\351\\231\\272\\345\\225\\206\\345\\223\\201\\343\\201\\253\\350\\207\\263\\343\\202\\213\\343\\201\\276\\343\\201\\247\\343\\200\\201\\345\\220\\204\\350\\241\\214\\343\\201\\256\\345\\225\\206\\n\\345\\223\\201\\343\\201\\256\\345\\223\\201\\346\\217\\203\\343\\201\\210\\343\\202\\222\\345\\205\\205\\345\\256\\237\\343\\201\\225\\343\\201\\233\\343\\201\\246\\343\\201\\204\\343\\202\\213\\343\\201\\214\\343\\200\\201\\345\\274\\225\\343\\201\\215\\347\\266\\232\\343\\201\\215\\343\\200\\201\\343\\201\\235\\343\\202\\214\\343\\202\\211\\343\\201\\256\\345\\225\\206\\345\\223\\201\\343\\201\\256\\343\\203\\251\\343\\202\\244\\343\\203\\263\\343\\203\\212\\343\\203\\203\\343\\203\\227\\343\\202\\222\\351\\241\\247\\345\\256\\242\\343\\203\\213\\343\\203\\274\\n\\343\\202\\272\\343\\201\\253\\344\\270\\200\\345\\261\\244\\345\\277\\234\\343\\201\\210\\343\\201\\237\\343\\202\\202\\343\\201\\256\\343\\201\\250\\343\\201\\231\\343\\201\\271\\343\\201\\217\\343\\200\\201\\344\\270\\215\\346\\226\\255\\343\\201\\256\\345\\212\\252\\345\\212\\233\\343\\201\\214\\345\\277\\205\\350\\246\\201\\343\\201\\247\\343\\201\\202\\343\\202\\213\\343\\200\\202 \\343\\201\\235\\343\\201\\256\\343\\201\\237\\343\\202\\201\\343\\201\\253\\343\\201\\257\\343\\200\\201\\347\\217\\276\\345\\234\\250\\351\\212\\200\\350\\241\\214\\343\\201\\214\\345\\217\\226\\343\\202\\212\\346\\211\\261\\343\\201\\243\\343\\201\\246\\343\\201\\204\\343\\202\\213\\345\\225\\206\\345\\223\\201\\343\\201\\253\\343\\201\\244\\343\\201\\204\\343\\201\\246\\343\\200\\201\\346\\247\\230\\343\\200\\205\\343\\201\\252\\351\\241\\247\\345\\256\\242\\343\\203\\213\\343\\203\\274\\343\\202\\272\\343\\201\\253\\345\\277\\234\\343\\201\\210\\n\\343\\202\\213\\343\\201\\237\\343\\202\\201\\343\\200\\201\\343\\203\\252\\343\\202\\271\\343\\202\\257\\343\\202\\204\\343\\203\\252\\343\\202\\277\\343\\203\\274\\343\\203\\263\\343\\201\\256\\343\\201\\273\\343\\201\\213\\343\\200\\201\\343\\203\\233\\343\\203\\251\\343\\202\\244\\343\\202\\272\\343\\203\\263\\357\\274\\210\\346\\212\\225\\350\\263\\207\\346\\234\\237\\351\\226\\223\\357\\274\\211\\343\\202\\222\\345\\220\\253\\343\\202\\201\\343\\201\\237\\357\\274\\223\\346\\254\\241\\345\\205\\203\\343\\201\\247\\345\\214\\272\\345\\210\\206\\343\\201\\227\\n\\343\\201\\237\\343\\201\\206\\343\\201\\210\\343\\201\\247\\343\\200\\201\\345\\220\\204\\345\\214\\272\\345\\210\\206\\343\\201\\256\\345\\225\\206\\345\\223\\201\\343\\202\\222\\346\\217\\203\\343\\201\\210\\343\\202\\213\\343\\201\\223\\343\\201\\250\\343\\201\\214\\346\\234\\233\\343\\201\\276\\343\\201\\227\\343\\201\\204\\343\\201\\250\\343\\201\\204\\343\\201\\243\\343\\201\\237\\346\\214\\207\\346\\221\\230\\343\\202\\202\\343\\201\\202\\343\\202\\213\\343\\200\\202 \\343\\201\\223\\343\\201\\256\\343\\202\\210\\343\\201\\206\\343\\201\\252\\350\\246\\226\\347\\202\\271\\343\\201\\247\\343\\201\\250\\343\\202\\211\\343\\201\\210\\343\\201\\237\\345\\240\\264\\345\\220\\210\\343\\200\\201\\347\\217\\276\\345\\234\\250\\343\\200\\201\\351\\212\\200\\350\\241\\214\\343\\201\\214\\345\\217\\226\\346\\211\\261\\343\\201\\204\\343\\202\\222\\350\\241\\214\\343\\201\\243\\343\\201\\246\\343\\201\\204\\343\\202\\213\\347\\242\\272\\345\\256\\232\\346\\213\\240\\345\\207\\272\\345\\271\\264\\351\\207\\221\\343\\200\\201 \"\n",
            "      relevance_score: 0.20000000298023224\n",
            "      document_metadata {\n",
            "        document: \"projects/926771992458/locations/global/collections/default_collection/dataStores/finance-datastore_1731130284924/branches/0/documents/8da2dc0814a53ef5bd918b55a12875cf\"\n",
            "        uri: \"gs://ai-buildathon-nov9-test-3/finance/news240340_1.pdf\"\n",
            "        title: \"\\345\\260\\221\\345\\255\\220\\351\\253\\230\\351\\275\\242\\347\\244\\276\\344\\274\\232\\343\\201\\253\\343\\201\\212\\343\\201\\221\\343\\202\\213\\351\\207\\221\\350\\236\\215\\344\\273\\262\\344\\273\\213\\343\\202\\265\\343\\203\\274\\343\\203\\223\\343\\202\\271\\343\\201\\256\\345\\275\\271\\345\\211\\262\"\n",
            "        page_identifier: \"26\"\n",
            "      }\n",
            "    }\n",
            "  }\n",
            "  references {\n",
            "    chunk_info {\n",
            "      content: \"\\343\\201\\223\\343\\201\\256\\343\\202\\210\\343\\201\\206\\343\\201\\252\\347\\212\\266\\346\\263\\201\\343\\201\\253\\343\\201\\212\\343\\201\\204\\343\\201\\246\\343\\200\\201\\345\\200\\237\\343\\202\\212\\346\\211\\213\\343\\201\\214\\350\\262\\270\\343\\201\\227\\346\\211\\213\\343\\201\\253\\347\\271\\260\\344\\270\\212\\345\\204\\237\\351\\202\\204\\357\\274\\210\\345\\211\\215\\345\\200\\222\\343\\201\\227\\350\\277\\224\\346\\270\\210\\357\\274\\211\\343\\202\\222\\350\\241\\214\\343\\201\\206\\345\\240\\264\\n\\345\\220\\210\\343\\200\\201\\350\\262\\270\\343\\201\\227\\346\\211\\213\\343\\201\\257\\343\\200\\201\\346\\234\\254\\346\\235\\245\\347\\271\\260\\344\\270\\212\\345\\204\\237\\351\\202\\204\\344\\273\\245\\345\\276\\214\\343\\202\\202\\345\\217\\227\\343\\201\\221\\345\\217\\226\\343\\202\\212\\347\\266\\232\\343\\201\\221\\343\\202\\211\\343\\202\\214\\343\\202\\213\\343\\201\\257\\343\\201\\232\\343\\201\\247\\343\\201\\202\\343\\201\\243\\343\\201\\237\\345\\210\\251\\346\\201\\257\\345\\217\\216\\345\\205\\245\\343\\202\\222\\n\\345\\244\\261\\343\\201\\206\\343\\201\\223\\343\\201\\250\\343\\201\\253\\343\\201\\252\\343\\202\\213\\344\\270\\200\\346\\226\\271\\343\\201\\247\\343\\200\\201\\345\\200\\237\\343\\202\\212\\346\\211\\213\\343\\201\\213\\343\\202\\211\\347\\271\\260\\344\\270\\212\\345\\204\\237\\351\\202\\204\\343\\202\\222\\345\\217\\227\\343\\201\\221\\343\\201\\237\\350\\263\\207\\351\\207\\221\\343\\202\\222\\345\\205\\203\\346\\211\\213\\343\\201\\253\\346\\226\\260\\343\\201\\237\\343\\201\\253\\350\\262\\270\\344\\273\\230\\n\\343\\201\\221\\343\\202\\222\\350\\241\\214\\343\\201\\243\\343\\201\\246\\345\\210\\251\\346\\201\\257\\345\\217\\216\\345\\205\\245\\343\\202\\222\\345\\276\\227\\343\\202\\213\\343\\201\\223\\343\\201\\250\\343\\201\\214\\345\\217\\257\\350\\203\\275\\343\\201\\247\\343\\201\\231\\343\\200\\202\\347\\265\\220\\345\\261\\200\\343\\200\\201\\350\\262\\270\\343\\201\\227\\346\\211\\213\\343\\201\\253\\343\\201\\250\\343\\201\\243\\343\\201\\246\\343\\200\\201\\345\\244\\261\\343\\201\\243\\343\\201\\237\\345\\210\\251\\346\\201\\257\\n\\345\\217\\216\\345\\205\\245\\343\\201\\250\\346\\226\\260\\343\\201\\237\\343\\201\\253\\345\\276\\227\\343\\202\\211\\343\\202\\214\\343\\202\\213\\345\\210\\251\\346\\201\\257\\345\\217\\216\\345\\205\\245\\343\\201\\256\\345\\267\\256\\351\\241\\215\\343\\201\\214\\347\\271\\260\\344\\270\\212\\345\\204\\237\\351\\202\\204\\343\\201\\253\\344\\274\\264\\343\\201\\243\\343\\201\\246\\347\\224\\237\\343\\201\\230\\343\\202\\213\\346\\220\\215\\345\\244\\261\\343\\201\\250\\343\\201\\252\\343\\202\\212\\343\\201\\276\\n\\343\\201\\231\\343\\200\\202 \\350\\262\\241\\346\\224\\277\\350\\236\\215\\350\\263\\207\\350\\263\\207\\351\\207\\221\\343\\201\\256\\350\\262\\270\\344\\273\\230\\343\\201\\221\\343\\201\\257\\345\\217\\216\\346\\224\\257\\347\\233\\270\\345\\204\\237\\343\\202\\222\\346\\272\\200\\343\\201\\237\\343\\201\\231\\343\\202\\210\\343\\201\\206\\351\\201\\213\\345\\226\\266\\343\\201\\225\\343\\202\\214\\343\\201\\246\\343\\201\\204\\343\\202\\213\\343\\201\\223\\343\\201\\250\\343\\201\\213\\343\\202\\211\\343\\200\\201\\343\\201\\223\\n\\343\\201\\256\\343\\202\\210\\343\\201\\206\\343\\201\\252\\347\\271\\260\\344\\270\\212\\345\\204\\237\\351\\202\\204\\343\\201\\253\\344\\274\\264\\343\\201\\243\\343\\201\\246\\347\\224\\237\\343\\201\\230\\343\\202\\213\\346\\220\\215\\345\\244\\261\\343\\202\\222\\343\\201\\235\\343\\201\\256\\343\\201\\276\\343\\201\\276\\345\\217\\227\\343\\201\\221\\345\\205\\245\\343\\202\\214\\343\\202\\213\\343\\201\\223\\343\\201\\250\\343\\201\\257\\343\\201\\247\\343\\201\\215\\343\\201\\276\\343\\201\\233\\343\\202\\223\\343\\200\\202 \\343\\201\\227\\343\\201\\237\\343\\201\\214\\343\\201\\243\\343\\201\\246\\347\\271\\260\\344\\270\\212\\345\\204\\237\\351\\202\\204\\343\\201\\253\\345\\277\\234\\343\\201\\230\\343\\202\\213\\345\\240\\264\\345\\220\\210\\343\\201\\257\\343\\200\\201\\347\\271\\260\\344\\270\\212\\345\\204\\237\\351\\202\\204\\343\\201\\253\\344\\274\\264\\343\\201\\243\\343\\201\\246\\347\\224\\237\\343\\201\\230\\343\\202\\213\\346\\220\\215\\345\\244\\261\\343\\201\\253\\345\\257\\276\\345\\277\\234\\343\\201\\231\\343\\202\\213 \"\n",
            "      relevance_score: 0.20000000298023224\n",
            "      document_metadata {\n",
            "        document: \"projects/926771992458/locations/global/collections/default_collection/dataStores/finance-datastore_1731130284924/branches/0/documents/379023007ece9984e744ee33af0e56be\"\n",
            "        uri: \"gs://ai-buildathon-nov9-test-3/finance/FILP_Report2022.pdf\"\n",
            "        title: \"FILP_Report2022\"\n",
            "        page_identifier: \"35\"\n",
            "      }\n",
            "    }\n",
            "  }\n",
            "  references {\n",
            "    chunk_info {\n",
            "      content: \"\\344\\277\\235\\351\\231\\272\\343\\203\\223\\343\\202\\270\\343\\203\\215\\343\\202\\271\\343\\202\\222\\345\\267\\241\\343\\202\\213\\345\\213\\225\\345\\220\\221\\343\\201\\253\\343\\201\\244\\343\\201\\204\\343\\201\\246\\357\\274\\210\\343\\203\\223\\343\\202\\270\\343\\203\\215\\343\\202\\271\\343\\203\\242\\343\\203\\207\\343\\203\\253\\345\\257\\276\\350\\251\\261\\342\\221\\241\\357\\274\\211 -15% 4% 100% \\347\\201\\253\\347\\201\\275\\344\\277\\235\\351\\231\\272 \\345\\202\\267\\345\\256\\263\\344\\277\\235\\351\\231\\272 \\350\\207\\252\\345\\213\\225\\350\\273\\212\\344\\277\\235\\351\\231\\272 \\357\\274\\223\\347\\250\\256\\347\\233\\256\\344\\273\\245\\345\\244\\226 \\350\\207\\252\\350\\263\\240\\350\\262\\254\\344\\277\\235\\351\\231\\272 16.9% 7.9% 47.2% 19.4% 8.6% \\345\\271\\263\\345\\235\\207\\345\\210\\251\\347\\233\\212\\347\\216\\207=3.9% \\345\\210\\251\\347\\233\\212\\347\\216\\207 \\345\\217\\216\\n\\344\\277\\235\\n\\345\\211\\262\\n\\345\\220\\210 9.3% 8.5% 5.6% \\357\\274\\210\\345\\207\\272\\345\\205\\270\\357\\274\\211\\346\\220\\215\\345\\256\\263\\344\\277\\235\\351\\231\\272\\345\\205\\250\\347\\244\\276\\343\\201\\256\\343\\203\\207\\343\\202\\243\\343\\202\\271\\343\\202\\257\\343\\203\\255\\343\\203\\274\\343\\202\\270\\343\\203\\243\\343\\203\\274\\350\\263\\207\\346\\226\\231\\347\\255\\211\\343\\202\\222\\343\\202\\202\\343\\201\\250\\343\\201\\253\\351\\207\\221\\350\\236\\215\\345\\272\\201\\344\\275\\234\\346\\210\\220 \\357\\274\\210\\346\\263\\250\\357\\274\\211\\345\\210\\251\\347\\233\\212\\347\\216\\207\\357\\274\\235\\357\\274\\210\\345\\220\\204\\344\\277\\235\\351\\231\\272\\347\\250\\256\\347\\233\\256\\343\\201\\256\\357\\274\\211\\344\\277\\235\\351\\231\\272\\345\\274\\225\\345\\217\\227\\345\\210\\251\\347\\233\\212\\303\\267\\357\\274\\210\\345\\220\\204\\344\\277\\235\\351\\231\\272\\347\\250\\256\\347\\233\\256\\343\\201\\256\\357\\274\\211\\346\\255\\243\\345\\221\\263\\345\\217\\216\\345\\205\\245\\344\\277\\235\\351\\231\\272\\346\\226\\231 -6,000 -4,000 -2,000 0 2,000 4,000 6,000 8,000 2012 2013 2014 2015 2016 2017 2018 2019 2020 2021 \\350\\207\\252\\345\\213\\225\\350\\273\\212 \\345\\202\\267\\345\\256\\263 \\347\\201\\253\\347\\201\\275 \\357\\274\\223\\347\\250\\256\\347\\233\\256\\344\\273\\245\\345\\244\\226 \\345\\204\\204\\345\\206\\206 \\357\\274\\210\\345\\207\\272\\345\\205\\270\\357\\274\\211\\346\\220\\215\\345\\256\\263\\344\\277\\235\\351\\231\\272\\345\\205\\250\\347\\244\\276\\343\\201\\256\\343\\203\\207\\343\\202\\243\\343\\202\\271\\343\\202\\257\\343\\203\\255\\343\\203\\274\\343\\202\\270\\343\\203\\243\\343\\203\\274\\350\\263\\207\\346\\226\\231\\347\\255\\211\\343\\202\\222\\343\\202\\202\\343\\201\\250\\343\\201\\253\\351\\207\\221\\350\\236\\215\\345\\272\\201\\344\\275\\234\\346\\210\\220 \\357\\274\\234\\344\\277\\235\\351\\231\\272\\347\\250\\256\\347\\233\\256\\345\\210\\245\\343\\201\\256\\344\\277\\235\\351\\231\\272\\345\\274\\225\\345\\217\\227\\345\\210\\251\\347\\233\\212\\343\\201\\256\\346\\216\\250\\347\\247\\273\\357\\274\\210\\345\\205\\250\\347\\244\\276\\350\\250\\210\\357\\274\\211\\357\\274\\236 \"\n",
            "      relevance_score: 0.20000000298023224\n",
            "      document_metadata {\n",
            "        document: \"projects/926771992458/locations/global/collections/default_collection/dataStores/finance-datastore_1731130284924/branches/0/documents/1acf4fda54f116dfc9a848bac5a0ab94\"\n",
            "        uri: \"gs://ai-buildathon-nov9-test-3/finance/01.pdf\"\n",
            "        title: \"01\"\n",
            "        page_identifier: \"4\"\n",
            "      }\n",
            "    }\n",
            "  }\n",
            "  steps {\n",
            "    state: SUCCEEDED\n",
            "    description: \"Rephrase the query and search.\"\n",
            "    actions {\n",
            "      search_action {\n",
            "        query: \"\\347\\201\\253\\347\\201\\275\\344\\277\\235\\351\\231\\272\\343\\201\\256\\345\\217\\216\\347\\233\\212\\346\\202\\252\\345\\214\\226\\343\\201\\253\\345\\257\\276\\343\\201\\227\\343\\200\\201\\346\\220\\215\\345\\256\\263\\344\\277\\235\\351\\231\\272\\345\\220\\204\\347\\244\\276\\343\\201\\257\\343\\201\\251\\343\\201\\256\\343\\202\\210\\343\\201\\206\\343\\201\\252\\345\\217\\216\\347\\233\\212\\346\\224\\271\\345\\226\\204\\347\\255\\226\\343\\202\\222\\350\\254\\233\\343\\201\\230\\343\\201\\246\\343\\201\\204\\343\\202\\213\\343\\201\\213\\343\\200\\201\\345\\205\\267\\344\\275\\223\\347\\232\\204\\343\\201\\252\\344\\276\\213\\343\\202\\222\\346\\214\\231\\343\\201\\222\\343\\201\\246\\350\\252\\254\\346\\230\\216\\343\\201\\227\\343\\201\\246\\343\\201\\217\\343\\201\\240\\343\\201\\225\\343\\201\\204\\343\\200\\202\\343\\201\\225\\343\\202\\211\\343\\201\\253\\343\\200\\201\\343\\201\\223\\343\\202\\214\\343\\202\\211\\343\\201\\256\\346\\224\\271\\345\\226\\204\\347\\255\\226\\343\\201\\214\\343\\201\\251\\343\\201\\256\\343\\202\\210\\343\\201\\206\\343\\201\\253\\344\\277\\235\\351\\231\\272\\345\\274\\225\\345\\217\\227\\345\\210\\251\\347\\233\\212\\343\\201\\253\\345\\275\\261\\351\\237\\277\\343\\202\\222\\344\\270\\216\\343\\201\\210\\343\\201\\237\\343\\201\\213\\343\\201\\253\\343\\201\\244\\343\\201\\204\\343\\201\\246\\343\\202\\202\\346\\225\\231\\343\\201\\210\\343\\201\\246\\343\\201\\217\\343\\201\\240\\343\\201\\225\\343\\201\\204\\343\\200\\202\"\n",
            "      }\n",
            "      observation {\n",
            "        search_results {\n",
            "          document: \"projects/926771992458/locations/global/collections/default_collection/dataStores/finance-datastore_1731130284924/branches/0/documents/1acf4fda54f116dfc9a848bac5a0ab94\"\n",
            "          uri: \"gs://ai-buildathon-nov9-test-3/finance/01.pdf\"\n",
            "          title: \"01\"\n",
            "          snippet_info {\n",
            "            snippet: \"... \\347\\232\\204\\343\\201\\253\\343\\203\\236\\343\\202\\244\\343\\203\\212\\343\\202\\271\\343\\201\\253\\343\\201\\252\\343\\201\\243\\343\\201\\246\\343\\201\\204\\343\\202\\213\\343\\201\\223\\343\\201\\250\\343\\201\\213\\343\\202\\211\\343\\200\\201 \\345\\244\\247\\346\\211\\213\\357\\274\\223\\343\\202\\260\\343\\203\\253\\343\\203\\274\\343\\203\\227\\345\\217\\212\\343\\201\\263\\344\\270\\255\\345\\240\\205\\357\\274\\226\\347\\244\\276\\343\\201\\256<b>\\347\\201\\253\\347\\201\\275\\344\\277\\235\\351\\231\\272</b>\\343\\201\\256<b>\\345\\217\\216\\347\\233\\212\\346\\224\\271\\345\\226\\204</b> \\347\\255\\211\\343\\201\\256\\345\\217\\226\\347\\265\\204\\343\\201\\277\\343\\201\\253\\343\\201\\244\\343\\201\\204\\343\\201\\246\\345\\257\\276\\350\\251\\261\\343\\202\\222\\345\\256\\237\\346\\226\\275\\343\\200\\202 \\342\\236\\241 <b>\\347\\201\\253\\347\\201\\275\\344\\277\\235\\351\\231\\272</b>\\343\\201\\256<b>\\345\\217\\216\\347\\233\\212\\346\\202\\252\\345\\214\\226</b>\\343\\201\\256\\350\\246\\201\\345\\233\\240\\343\\201\\250\\343\\201\\227\\343\\201\\246\\343\\201\\257\\343\\200\\201<b>\\345\\220\\204\\347\\244\\276</b>&nbsp;...\"\n",
            "            snippet_status: \"SUCCESS\"\n",
            "          }\n",
            "        }\n",
            "        search_results {\n",
            "          document: \"projects/926771992458/locations/global/collections/default_collection/dataStores/finance-datastore_1731130284924/branches/0/documents/55bae4adda32c9851016e1aa03184864\"\n",
            "          uri: \"gs://ai-buildathon-nov9-test-3/finance/230829_main.pdf\"\n",
            "          title: \"230829_main\"\n",
            "          snippet_info {\n",
            "            snippet: \"... \\343\\201\\246\\343\\201\\204\\343\\201\\217\\343\\200\\202\\343\\201\\217\\343\\202\\217\\343\\201\\210\\343\\201\\246\\343\\200\\201\\347\\265\\214\\346\\270\\210\\344\\276\\241\\345\\200\\244\\343\\203\\231\\343\\203\\274\\343\\202\\271\\343\\201\\256\\343\\202\\275\\343\\203\\253\\343\\203\\231\\343\\203\\263\\343\\202\\267\\343\\203\\274\\350\\246\\217\\345\\210\\266\\343\\201\\256\\345\\206\\206\\346\\273\\221\\343\\201\\252\\345\\260\\216\\345\\205\\245\\343\\201\\253\\345\\220\\221\\343\\201\\221\\343\\201\\246\\343\\200\\201<b>\\345\\205\\267\\344\\275\\223\\347\\232\\204\\343\\201\\252</b>\\346\\244\\234 \\350\\250\\216\\343\\202\\222\\351\\200\\262\\343\\202\\201\\343\\201\\246\\343\\201\\204\\343\\201\\217\\343\\200\\202 \\350\\207\\252\\347\\204\\266\\347\\201\\275\\345\\256\\263\\343\\201\\270\\343\\201\\256\\345\\257\\276\\345\\277\\234\\343\\201\\253\\343\\201\\244\\343\\201\\204\\343\\201\\246\\343\\201\\257\\343\\200\\201\\350\\277\\221\\345\\271\\264\\343\\201\\256\\350\\207\\252\\347\\204\\266\\347\\201\\275\\345\\256\\263\\343\\201\\256\\351\\240\\273\\347\\231\\272\\343\\203\\273\\346\\277\\200\\347\\224\\232\\345\\214\\226&nbsp;...\"\n",
            "            snippet_status: \"SUCCESS\"\n",
            "          }\n",
            "        }\n",
            "        search_results {\n",
            "          document: \"projects/926771992458/locations/global/collections/default_collection/dataStores/finance-datastore_1731130284924/branches/0/documents/6bbbb644bfec65f8223adc7c059c572b\"\n",
            "          uri: \"gs://ai-buildathon-nov9-test-3/finance/DP2023-2.pdf\"\n",
            "          title: \"DP2023-2\"\n",
            "          snippet_info {\n",
            "            snippet: \"... <b>\\343\\201\\227\\343\\201\\246</b>\\343\\200\\201\\344\\270\\200\\345\\256\\232\\343\\201\\256\\344\\277\\235\\345\\256\\210\\346\\200\\247\\343\\202\\222\\345\\212\\240\\345\\221\\263\\343\\201\\231\\343\\202\\213\\343\\201\\223\\343\\201\\250\\343\\201\\214\\345\\244\\232\\343\\201\\204\\343\\200\\202\\343\\201\\235\\343\\201\\223\\343\\201\\247 ... <b>\\347\\232\\204\\343\\201\\252</b>\\343\\203\\252\\343\\202\\271\\343\\202\\257\\343\\201\\250\\343\\201\\227\\343\\201\\246\\346\\215\\225\\346\\215\\211\\343\\201\\231\\343\\202\\213\\345\\277\\205\\350\\246\\201\\346\\200\\247\\343\\201\\257\\350\\250\\200\\343\\201\\206\\343\\201\\276\\343\\201\\247\\343\\202\\202\\343\\201\\252\\343\\201\\204\\343\\200\\202 ... \\343\\201\\276\\343\\201\\237\\343\\200\\201<b>\\347\\201\\253\\347\\201\\275\\344\\277\\235\\351\\231\\272</b>\\343\\201\\253\\345\\212\\240\\345\\205\\245\\343\\201\\231\\343\\202\\213\\343\\202\\202\\343\\201\\256\\343\\201\\256\\343\\200\\201\\345\\260\\221\\343\\201\\227\\343\\201\\247\\343\\202\\202<b>\\344\\277\\235\\351\\231\\272</b>\\346\\226\\231\\343\\202\\222&nbsp;...\"\n",
            "            snippet_status: \"SUCCESS\"\n",
            "          }\n",
            "        }\n",
            "        search_results {\n",
            "          document: \"projects/926771992458/locations/global/collections/default_collection/dataStores/finance-datastore_1731130284924/branches/0/documents/8da2dc0814a53ef5bd918b55a12875cf\"\n",
            "          uri: \"gs://ai-buildathon-nov9-test-3/finance/news240340_1.pdf\"\n",
            "          title: \"\\345\\260\\221\\345\\255\\220\\351\\253\\230\\351\\275\\242\\347\\244\\276\\344\\274\\232\\343\\201\\253\\343\\201\\212\\343\\201\\221\\343\\202\\213\\351\\207\\221\\350\\236\\215\\344\\273\\262\\344\\273\\213\\343\\202\\265\\343\\203\\274\\343\\203\\223\\343\\202\\271\\343\\201\\256\\345\\275\\271\\345\\211\\262\"\n",
            "          snippet_info {\n",
            "            snippet: \"24 <b>\\344\\277\\235\\351\\231\\272</b>\\343\\201\\256\\347\\252\\223\\345\\217\\243\\350\\262\\251\\345\\243\\262\\343\\200\\201\\351\\201\\272\\350\\250\\200\\344\\277\\241\\350\\250\\227\\343\\201\\253\\343\\201\\257\\343\\200\\201\\344\\273\\245\\344\\270\\213\\343\\201\\256<b>\\343\\202\\210\\343\\201\\206\\343\\201\\252</b>\\350\\252\\262\\351\\241\\214\\343\\201\\214\\343\\201\\202\\343\\202\\213\\343\\200\\202 \\342\\221\\240 \\347\\242\\272\\345\\256\\232\\346\\213\\240\\345\\207\\272\\345\\271\\264\\351\\207\\221 \\347\\242\\272\\345\\256\\232\\346\\213\\240\\345\\207\\272\\345\\271\\264\\351\\207\\221\\345\\210\\266\\345\\272\\246\\343\\201\\257\\343\\200\\201\\343\\202\\217\\343\\201\\214\\345\\233\\275\\343\\201\\253\\343\\201\\212\\343\\201\\204\\343\\201\\2462001\\345\\271\\26410\\346\\234\\210\\343\\201\\253\\345\\260\\216\\345\\205\\245\\343\\201\\225\\343\\202\\214\\343\\201\\246\\344\\273\\245\\346\\235\\245\\343\\200\\201\\345\\210\\266\\345\\272\\246\\343\\201\\256<b>\\346\\224\\271\\345\\226\\204</b> \\343\\201\\214\\345\\233\\263\\343\\202\\211\\343\\202\\214\\343\\201\\246\\343\\201\\215&nbsp;...\"\n",
            "            snippet_status: \"SUCCESS\"\n",
            "          }\n",
            "        }\n",
            "        search_results {\n",
            "          document: \"projects/926771992458/locations/global/collections/default_collection/dataStores/finance-datastore_1731130284924/branches/0/documents/379023007ece9984e744ee33af0e56be\"\n",
            "          uri: \"gs://ai-buildathon-nov9-test-3/finance/FILP_Report2022.pdf\"\n",
            "          title: \"FILP_Report2022\"\n",
            "          snippet_info {\n",
            "            snippet: \"34 \\350\\250\\210\\345\\217\\212\\343\\201\\263\\345\\233\\275\\345\\202\\265\\346\\225\\264\\347\\220\\206\\345\\237\\272\\351\\207\\221\\347\\211\\271\\345\\210\\245\\344\\274\\232\\350\\250\\210\\343\\201\\270\\347\\271\\260\\343\\202\\212\\345\\205\\245\\343\\202\\214\\343\\201\\237\\347\\265\\220\\346\\236\\234\\343\\200\\201\\351\\207\\221\\345\\210\\251\\345\\244\\211\\345\\213\\225\\347\\255\\211\\343\\201\\253\\345\\257\\276\\343\\201\\231\\343\\202\\213\\345\\257\\276\\345\\277\\234\\344\\275\\231\\345\\212\\233 \\343\\201\\214\\350\\221\\227\\343\\201\\227\\343\\201\\217\\344\\275\\216\\344\\270\\213\\343\\201\\227\\343\\201\\246\\343\\201\\204\\343\\201\\276\\343\\201\\231\\343\\200\\202\\343\\201\\276\\343\\201\\237&nbsp;...\"\n",
            "            snippet_status: \"SUCCESS\"\n",
            "          }\n",
            "        }\n",
            "        search_results {\n",
            "          document: \"projects/926771992458/locations/global/collections/default_collection/dataStores/finance-datastore_1731130284924/branches/0/documents/0273173bc505b989349fd77f6f87a359\"\n",
            "          uri: \"gs://ai-buildathon-nov9-test-3/finance/staff24.pdf\"\n",
            "          title: \"staff24\"\n",
            "          snippet_info {\n",
            "            snippet: \"... \\343\\201\\214\\344\\272\\210\\346\\203\\263\\343\\201\\225\\343\\202\\214\\343\\200\\201\\343\\201\\235\\343\\201\\256<b>\\343\\202\\210\\343\\201\\206\\343\\201\\252</b>\\345\\244\\211\\345\\214\\226\\343\\201\\253<b>\\345\\257\\276\\343\\201\\227</b>\\343\\201\\246\\343\\200\\201\\347\\211\\271\\343\\201\\253\\345\\234\\260\\345\\237\\237\\351\\207\\221\\350\\236\\215\\346\\251\\237\\351\\226\\242\\343\\201\\214\\343\\201\\251\\343\\201\\206\\343\\202\\204\\343\\201\\243\\343\\201\\246\\345\\257\\276\\345\\277\\234<b>\\343\\201\\227\\343\\201\\246</b>\\343\\201\\204\\343\\201\\217\\343\\201\\256\\343\\201\\213\\343\\200\\201\\345\\213\\225\\345\\220\\221 \\343\\202\\222\\346\\263\\250\\350\\246\\226<b>\\343\\201\\227\\343\\201\\246</b>\\343\\201\\204\\343\\201\\217\\345\\277\\205\\350\\246\\201\\343\\201\\214\\343\\201\\202\\343\\202\\213\\343\\200\\202 23 \\345\\235\\202\\345\\217\\243 (2019) p.5\\343\\200\\202 24 \\351\\207\\221\\350\\236\\215\\345\\272\\201 (2021)\"\n",
            "            snippet_status: \"SUCCESS\"\n",
            "          }\n",
            "        }\n",
            "        search_results {\n",
            "          document: \"projects/926771992458/locations/global/collections/default_collection/dataStores/finance-datastore_1731130284924/branches/0/documents/4233a96e1b41426aa9d0ff952a9542db\"\n",
            "          uri: \"gs://ai-buildathon-nov9-test-3/finance/i-xvii.pdf\"\n",
            "          title: \"i-xvii\"\n",
            "          snippet_info {\n",
            "            snippet: \"viii \\343\\203\\273\\344\\270\\200\\350\\210\\254\\347\\224\\237\\345\\221\\275<b>\\344\\277\\235\\351\\231\\272</b>\\346\\226\\231\\346\\216\\247\\351\\231\\244\\345\\210\\266\\345\\272\\246\\343\\200\\201\\344\\273\\213\\350\\255\\267\\345\\214\\273\\347\\231\\202<b>\\344\\277\\235\\351\\231\\272</b>\\346\\226\\231\\346\\216\\247\\351\\231\\244\\345\\210\\266\\345\\272\\246\\343\\200\\201\\345\\200\\213\\344\\272\\272\\345\\271\\264\\351\\207\\221<b>\\344\\277\\235\\351\\231\\272</b>\\346\\226\\231\\346\\216\\247\\351\\231\\244 ... \\343\\201\\246\\343\\201\\204\\343\\202\\213\\350\\263\\252\\345\\225\\217\\351\\240\\205\\347\\233\\256\\343\\201\\214\\345\\255\\230\\345\\234\\250<b>\\343\\201\\227\\343\\201\\246</b>\\343\\201\\204\\343\\202\\213\\343\\200\\202\\343\\201\\235\\343\\202\\214\\343\\202\\211 \\343\\201\\256\\351\\240\\205\\347\\233\\256\\343\\201\\253\\343\\201\\244\\343\\201\\204\\343\\201\\246\\343\\201\\257\\343\\200\\201\\345\\215\\230\\347\\264\\224\\343\\201\\253\\346\\231\\202\\347\\263\\273\\345\\210\\227\\346\\257\\224\\350\\274\\203\\343\\201\\214&nbsp;...\"\n",
            "            snippet_status: \"SUCCESS\"\n",
            "          }\n",
            "        }\n",
            "        search_results {\n",
            "          document: \"projects/926771992458/locations/global/collections/default_collection/dataStores/finance-datastore_1731130284924/branches/0/documents/ccceac83ef3c99e2aea1ce0d37080f94\"\n",
            "          uri: \"gs://ai-buildathon-nov9-test-3/finance/2301atobaraigaiyousiryou.pdf\"\n",
            "          title: \"PowerPoint \\343\\203\\227\\343\\203\\254\\343\\202\\274\\343\\203\\263\\343\\203\\206\\343\\203\\274\\343\\202\\267\\343\\203\\247\\343\\203\\263\"\n",
            "          snippet_info {\n",
            "            snippet: \"... \\347\\232\\204\\343\\201\\253<b>\\346\\224\\271\\345\\226\\204</b>\\345\\221\\275\\344\\273\\244\\343\\202\\222\\345\\207\\272\\343\\201\\231\\343\\201\\213\\345\\220\\246\\343\\201\\213\\345\\210\\244\\346\\226\\255\\343\\200\\202 \\342\\200\\246\\344\\276\\213\\343\\201\\210\\343\\201\\260\\343\\200\\201\\344\\270\\212\\351\\231\\220\\345\\273\\266\\346\\273\\236\\347\\216\\207\\343\\202\\222\\344\\270\\213\\345\\233\\236\\343\\202\\213\\345\\273\\266\\346\\273\\236\\347\\216\\207\\343\\201\\250\\343\\201\\231\\343\\202\\213\\343\\201\\223\\343\\201\\250\\343\\201\\214\\350\\221\\227\\343\\201\\227\\343\\201\\217\\345\\233\\260\\351\\233\\243\\343\\201\\252 ... \\343\\201\\246\\343\\201\\204\\343\\202\\213\\345\\240\\264\\345\\220\\210\\343\\200\\215\\343\\201\\247\\343\\201\\202\\343\\202\\212\\343\\200\\201\\344\\273\\245\\344\\270\\213\\343\\201\\256\\350\\246\\263\\347\\202\\271 \\343\\201\\213\\343\\202\\211\\347\\267\\217\\345\\220\\210\\347\\232\\204\\343\\201\\253\\345\\213\\230\\346\\241\\210\\343\\201\\227 ... <b>\\343\\202\\210\\343\\201\\206\\343\\201\\252</b>\\347\\212\\266\\346\\263\\201&nbsp;...\"\n",
            "            snippet_status: \"SUCCESS\"\n",
            "          }\n",
            "        }\n",
            "        search_results {\n",
            "          document: \"projects/926771992458/locations/global/collections/default_collection/dataStores/finance-datastore_1731130284924/branches/0/documents/c36b3fd45c504f93e4986492f7009dee\"\n",
            "          uri: \"gs://ai-buildathon-nov9-test-3/finance/1c202401.pdf\"\n",
            "          title: \"1c202401\"\n",
            "          snippet_info {\n",
            "            snippet: \"\\342\\200\\2732 \\351\\207\\221\\350\\236\\215\\346\\245\\255\\357\\275\\244<b>\\344\\277\\235\\351\\231\\272</b>\\346\\245\\255\\343\\202\\222\\345\\220\\253\\343\\201\\276\\343\\201\\252\\343\\201\\204\\343\\200\\202 \\344\\270\\255 \\345\\240\\205 \\344\\274\\201 \\346\\245\\255 \\345\\206\\205\\351\\203\\250\\350\\263\\207\\351\\207\\221 \\346\\260\\221\\351\\226\\223\\351\\207\\221\\350\\236\\215\\346\\251\\237\\351\\226\\242 \\345\\205\\254\\347\\232\\204\\346\\251\\237\\351\\226\\242 \\344\\270\\255 \\345\\260\\217 \\344\\274\\201 \\346\\245\\255 \\346\\260\\221\\351\\226\\223\\351\\207\\221\\350\\236\\215\\346\\251\\237\\351\\226\\242 \\345\\206\\205\\351\\203\\250\\350\\263\\207\\351\\207\\221 \\345\\205\\254\\347\\232\\204\\346\\251\\237\\351\\226\\242 \\357\\274\\221\\344\\275\\215 \\357\\274\\222\\344\\275\\215 \\357\\274\\223\\344\\275\\215 \\345\\244\\247 \\344\\274\\201 \\346\\245\\255 \\345\\205\\250 \\347\\224\\243 \\346\\245\\255 \\345\\206\\205\\351\\203\\250\\350\\263\\207\\351\\207\\221&nbsp;...\"\n",
            "            snippet_status: \"SUCCESS\"\n",
            "          }\n",
            "        }\n",
            "        search_results {\n",
            "          document: \"projects/926771992458/locations/global/collections/default_collection/dataStores/finance-datastore_1731130284924/branches/0/documents/dfcc14a0eef30bfab23e108e2f31f9f5\"\n",
            "          uri: \"gs://ai-buildathon-nov9-test-3/finance/jimukyoku.pdf\"\n",
            "          title: \"jimukyoku\"\n",
            "          snippet_info {\n",
            "            snippet: \"\\342\\200\\273 \\346\\217\\220\\350\\250\\200\\343\\201\\253\\351\\226\\242\\343\\201\\227\\343\\201\\246\\343\\201\\257\\343\\200\\201\\344\\273\\245\\344\\270\\213\\343\\201\\256<b>\\343\\202\\210\\343\\201\\206\\343\\201\\252</b>\\350\\277\\275\\345\\212\\240<b>\\347\\232\\204\\343\\201\\252</b>\\346\\244\\234\\350\\250\\216\\350\\252\\262\\351\\241\\214\\343\\201\\214\\346\\217\\220\\347\\244\\272\\343\\201\\225\\343\\202\\214\\343\\201\\246\\343\\201\\204\\343\\202\\213\\343\\200\\202 \\342\\221\\240 DeFi\\343\\202\\265\\343\\203\\274\\343\\203\\223\\343\\202\\271\\343\\201\\214BSA\\344\\270\\212\\343\\201\\256\\351\\207\\221\\350\\236\\215\\346\\251\\237\\351\\226\\242\\343\\201\\253\\350\\251\\262\\345\\275\\223\\343\\201\\231\\343\\202\\213\\343\\201\\250\\345\\210\\244\\346\\226\\255\\343\\201\\231\\343\\202\\213\\343\\201\\237\\343\\202\\201\\343\\201\\253\\343\\201\\257<b>\\343\\201\\251\\343\\201\\256\\343\\202\\210\\343\\201\\206\\343\\201\\252</b>\\350\\246\\201\\347\\264\\240\\343\\201\\214\\350\\200\\203\\346\\205\\256\\343\\201\\225\\343\\202\\214\\343\\202\\213\\343\\201\\271\\343\\201\\215\\343\\201\\213\\343\\200\\202\"\n",
            "            snippet_status: \"SUCCESS\"\n",
            "          }\n",
            "        }\n",
            "      }\n",
            "    }\n",
            "  }\n",
            "  query_understanding_info {\n",
            "    query_classification_info {\n",
            "      type_: ADVERSARIAL_QUERY\n",
            "    }\n",
            "    query_classification_info {\n",
            "      type_: NON_ANSWER_SEEKING_QUERY\n",
            "    }\n",
            "  }\n",
            "}\n",
            "answer_query_token: \"M8gKCwiN-Me5BhDf6eIKEiQ2NzJlYjhiMS0wMDAwLTJiNjgtOGJmZC1mNDAzMDQ1ZmU1ODY\"\n",
            "\n"
          ]
        }
      ]
    },
    {
      "cell_type": "code",
      "source": [
        "print(response.answer.answer_text)"
      ],
      "metadata": {
        "colab": {
          "base_uri": "https://localhost:8080/"
        },
        "id": "H-h9b_rZNQxL",
        "outputId": "ebb6bd63-bcb6-49d1-e6e5-0316872b43dd"
      },
      "execution_count": 41,
      "outputs": [
        {
          "output_type": "stream",
          "name": "stdout",
          "text": [
            "火災保険の収益悪化に対し、損害保険各社は、保険料改定や収益改善策を実施しています。  具体的には、2021年5月の参考純率改定を踏まえ、各社で商品改定が行われました。  しかし、参考純率改定に依存した収益改善に留まっている会社と、独自の収益改善策を実施している会社との二極化が進んでいる可能性も指摘されています。  また、自然災害の頻発・激甚化への対応として、統合的リスク管理（ERM）の高度化、顧客ニーズやリスク実態を踏まえた補償内容・保険料率の見直し、防災・減災のサポートなどが損害保険会社に促されています。  さらに、異常危険準備金の積立て、再保険の手配、迅速な保険金支払い態勢の整備も重要視されています。  2022年には、自然災害による保険金支払いが増加したものの、多くの保険会社は多額の異常危険準備金を取り崩し、追加積立等を行うことで残高を大きく減少させない取り組みが見られました。  また、海外の再保険料率の上昇を受けて、柔軟な交渉や保有・出再方針の見直しを行い、再保険契約を更改した会社もありました。  一方で、火災保険料の値上げは加入者の負担増につながるため、火災保険の加入者数減少といった懸念も存在します。  長期契約の構造的な赤字や自然災害の増加による再保険市場のハード化も収益悪化の要因として挙げられています。\n",
            "\n",
            "これらの改善策が保険引受利益に与えた影響については、過去10年間、火災保険の保険引受利益は恒常的にマイナスとなっています。  2021年度の保険種目別利益率では、火災保険は平均利益率を大きく下回っています。  保険引受利益の推移（全社計）を見ると、火災保険は長期間にわたりマイナスとなっています。  自然災害の頻発・激甚化により保険金支払額が増加し、火災保険料率は上昇傾向にありますが、  その影響は保険引受利益に直接的に反映されていると考えられます。\n",
            "\n"
          ]
        }
      ]
    },
    {
      "cell_type": "code",
      "source": [
        "generated_answers_by_rag_a.append(response.answer.answer_text)"
      ],
      "metadata": {
        "id": "LU2qXRR7HP5x"
      },
      "execution_count": 37,
      "outputs": []
    },
    {
      "cell_type": "markdown",
      "metadata": {
        "id": "9d4a23df4c01"
      },
      "source": [
        "### Create custom metrics\n",
        "\n",
        "\n",
        "Create a custom metric to compare model response to the golden answer."
      ]
    },
    {
      "cell_type": "code",
      "execution_count": 38,
      "metadata": {
        "id": "1f42729fca3f"
      },
      "outputs": [],
      "source": [
        "question_answering_correctness_prompt_template = \"\"\"\n",
        "You are a professional writing evaluator. Your job is to score writing responses according to pre-defined evaluation criteria.\n",
        "\n",
        "You will be assessing question answering correctness, which measures the ability to correctly answer a question.\n",
        "\n",
        "You will assign the writing response a score from 1, 0, following the rating rubric and evaluation steps.\n",
        "\n",
        "### Criteria:\n",
        "Reference claim alignment: The response should contain all claims from the reference and should not contain claims that are not present in the reference.\n",
        "\n",
        "### Rating Rubric:\n",
        "1 (correct): The response contains all claims from the reference and does not contain claims that are not present in the reference.\n",
        "0 (incorrect): The response does not contain all claims from the reference, or the response contains claims that are not present in the reference.\n",
        "\n",
        "### Evaluation Steps:\n",
        "STEP 1: Assess the response' correctness by comparing with the reference according to the criteria.\n",
        "STEP 2: Score based on the rubrics.\n",
        "\n",
        "Give step by step explanations for your scoring, and only choose scores from 1, 0.\n",
        "\n",
        "\n",
        "# User Inputs and AI-generated Response\n",
        "## User Inputs\n",
        "### Prompt\n",
        "{prompt}\n",
        "\n",
        "## Reference\n",
        "{reference}\n",
        "\n",
        "## AI-generated Response\n",
        "{response}\n",
        "\n",
        "\"\"\""
      ]
    },
    {
      "cell_type": "code",
      "execution_count": 15,
      "metadata": {
        "id": "adb261d8f699"
      },
      "outputs": [],
      "source": [
        "question_answering_correctness = PointwiseMetric(\n",
        "    metric=\"question_answering_correctness\",\n",
        "    metric_prompt_template=question_answering_correctness_prompt_template,\n",
        ")"
      ]
    },
    {
      "cell_type": "markdown",
      "metadata": {
        "id": "1715f919dee7"
      },
      "source": [
        "### Run evaluation with your dataset"
      ]
    },
    {
      "cell_type": "code",
      "execution_count": 16,
      "metadata": {
        "id": "f5ad22f52ac4"
      },
      "outputs": [],
      "source": [
        "referenced_answer_eval_task_rag_a = EvalTask(\n",
        "    dataset=referenced_eval_dataset_rag_a,\n",
        "    metrics=[\n",
        "        question_answering_correctness,\n",
        "        \"rouge\",\n",
        "        \"bleu\",\n",
        "        \"exact_match\",\n",
        "    ],\n",
        "    experiment=EXPERIMENT,\n",
        ")\n",
        "\n",
        "# referenced_answer_eval_task_rag_b = EvalTask(\n",
        "#     dataset=referenced_eval_dataset_rag_b,\n",
        "#     metrics=[\n",
        "#         question_answering_correctness,\n",
        "#         \"rouge\",\n",
        "#         \"bleu\",\n",
        "#         \"exact_match\",\n",
        "#     ],\n",
        "#     experiment=EXPERIMENT,\n",
        "# )"
      ]
    },
    {
      "cell_type": "code",
      "execution_count": 17,
      "metadata": {
        "id": "5a143d35377f",
        "colab": {
          "base_uri": "https://localhost:8080/",
          "height": 221
        },
        "outputId": "9913989a-92d6-4d04-b47a-ec4ee14c2819"
      },
      "outputs": [
        {
          "output_type": "display_data",
          "data": {
            "text/plain": [
              "<IPython.core.display.HTML object>"
            ],
            "text/html": [
              "\n",
              "        \n",
              "    <link rel=\"stylesheet\" href=\"https://fonts.googleapis.com/icon?family=Material+Icons\">\n",
              "    <style>\n",
              "      .view-vertex-resource,\n",
              "      .view-vertex-resource:hover,\n",
              "      .view-vertex-resource:visited {\n",
              "        position: relative;\n",
              "        display: inline-flex;\n",
              "        flex-direction: row;\n",
              "        height: 32px;\n",
              "        padding: 0 12px;\n",
              "          margin: 4px 18px;\n",
              "        gap: 4px;\n",
              "        border-radius: 4px;\n",
              "\n",
              "        align-items: center;\n",
              "        justify-content: center;\n",
              "        background-color: rgb(255, 255, 255);\n",
              "        color: rgb(51, 103, 214);\n",
              "\n",
              "        font-family: Roboto,\"Helvetica Neue\",sans-serif;\n",
              "        font-size: 13px;\n",
              "        font-weight: 500;\n",
              "        text-transform: uppercase;\n",
              "        text-decoration: none !important;\n",
              "\n",
              "        transition: box-shadow 280ms cubic-bezier(0.4, 0, 0.2, 1) 0s;\n",
              "        box-shadow: 0px 3px 1px -2px rgba(0,0,0,0.2), 0px 2px 2px 0px rgba(0,0,0,0.14), 0px 1px 5px 0px rgba(0,0,0,0.12);\n",
              "      }\n",
              "      .view-vertex-resource:active {\n",
              "        box-shadow: 0px 5px 5px -3px rgba(0,0,0,0.2),0px 8px 10px 1px rgba(0,0,0,0.14),0px 3px 14px 2px rgba(0,0,0,0.12);\n",
              "      }\n",
              "      .view-vertex-resource:active .view-vertex-ripple::before {\n",
              "        position: absolute;\n",
              "        top: 0;\n",
              "        bottom: 0;\n",
              "        left: 0;\n",
              "        right: 0;\n",
              "        border-radius: 4px;\n",
              "        pointer-events: none;\n",
              "\n",
              "        content: '';\n",
              "        background-color: rgb(51, 103, 214);\n",
              "        opacity: 0.12;\n",
              "      }\n",
              "      .view-vertex-icon {\n",
              "        font-size: 18px;\n",
              "      }\n",
              "    </style>\n",
              "  \n",
              "        <a class=\"view-vertex-resource\" id=\"view-vertex-resource-90eedafb-d34e-41a9-9370-ec22958d4cc6\" href=\"#view-view-vertex-resource-90eedafb-d34e-41a9-9370-ec22958d4cc6\">\n",
              "          <span class=\"material-icons view-vertex-icon\">science</span>\n",
              "          <span>View Experiment</span>\n",
              "        </a>\n",
              "        \n",
              "        <script>\n",
              "          (function () {\n",
              "            const link = document.getElementById('view-vertex-resource-90eedafb-d34e-41a9-9370-ec22958d4cc6');\n",
              "            link.addEventListener('click', (e) => {\n",
              "              if (window.google?.colab?.openUrl) {\n",
              "                window.google.colab.openUrl('https://console.cloud.google.com/vertex-ai/experiments/locations/us-central1/experiments/rag-eval-01/runs?project=ai-buildathon-test-nov9-1');\n",
              "              } else {\n",
              "                window.open('https://console.cloud.google.com/vertex-ai/experiments/locations/us-central1/experiments/rag-eval-01/runs?project=ai-buildathon-test-nov9-1', '_blank');\n",
              "              }\n",
              "              e.stopPropagation();\n",
              "              e.preventDefault();\n",
              "            });\n",
              "          })();\n",
              "        </script>\n",
              "    "
            ]
          },
          "metadata": {}
        },
        {
          "output_type": "stream",
          "name": "stderr",
          "text": [
            "INFO:google.cloud.aiplatform.metadata.experiment_resources:Associating projects/926771992458/locations/us-central1/metadataStores/default/contexts/rag-eval-01-ea2d9659-d1d4-4c9d-8310-4bd817fdd241 to Experiment: rag-eval-01\n"
          ]
        },
        {
          "output_type": "display_data",
          "data": {
            "text/plain": [
              "<IPython.core.display.HTML object>"
            ],
            "text/html": [
              "\n",
              "        \n",
              "    <link rel=\"stylesheet\" href=\"https://fonts.googleapis.com/icon?family=Material+Icons\">\n",
              "    <style>\n",
              "      .view-vertex-resource,\n",
              "      .view-vertex-resource:hover,\n",
              "      .view-vertex-resource:visited {\n",
              "        position: relative;\n",
              "        display: inline-flex;\n",
              "        flex-direction: row;\n",
              "        height: 32px;\n",
              "        padding: 0 12px;\n",
              "          margin: 4px 18px;\n",
              "        gap: 4px;\n",
              "        border-radius: 4px;\n",
              "\n",
              "        align-items: center;\n",
              "        justify-content: center;\n",
              "        background-color: rgb(255, 255, 255);\n",
              "        color: rgb(51, 103, 214);\n",
              "\n",
              "        font-family: Roboto,\"Helvetica Neue\",sans-serif;\n",
              "        font-size: 13px;\n",
              "        font-weight: 500;\n",
              "        text-transform: uppercase;\n",
              "        text-decoration: none !important;\n",
              "\n",
              "        transition: box-shadow 280ms cubic-bezier(0.4, 0, 0.2, 1) 0s;\n",
              "        box-shadow: 0px 3px 1px -2px rgba(0,0,0,0.2), 0px 2px 2px 0px rgba(0,0,0,0.14), 0px 1px 5px 0px rgba(0,0,0,0.12);\n",
              "      }\n",
              "      .view-vertex-resource:active {\n",
              "        box-shadow: 0px 5px 5px -3px rgba(0,0,0,0.2),0px 8px 10px 1px rgba(0,0,0,0.14),0px 3px 14px 2px rgba(0,0,0,0.12);\n",
              "      }\n",
              "      .view-vertex-resource:active .view-vertex-ripple::before {\n",
              "        position: absolute;\n",
              "        top: 0;\n",
              "        bottom: 0;\n",
              "        left: 0;\n",
              "        right: 0;\n",
              "        border-radius: 4px;\n",
              "        pointer-events: none;\n",
              "\n",
              "        content: '';\n",
              "        background-color: rgb(51, 103, 214);\n",
              "        opacity: 0.12;\n",
              "      }\n",
              "      .view-vertex-icon {\n",
              "        font-size: 18px;\n",
              "      }\n",
              "    </style>\n",
              "  \n",
              "        <a class=\"view-vertex-resource\" id=\"view-vertex-resource-61388fed-b67e-4c61-b3d1-8c44e1a174b5\" href=\"#view-view-vertex-resource-61388fed-b67e-4c61-b3d1-8c44e1a174b5\">\n",
              "          <span class=\"material-icons view-vertex-icon\">science</span>\n",
              "          <span>View Experiment Run</span>\n",
              "        </a>\n",
              "        \n",
              "        <script>\n",
              "          (function () {\n",
              "            const link = document.getElementById('view-vertex-resource-61388fed-b67e-4c61-b3d1-8c44e1a174b5');\n",
              "            link.addEventListener('click', (e) => {\n",
              "              if (window.google?.colab?.openUrl) {\n",
              "                window.google.colab.openUrl('https://console.cloud.google.com/vertex-ai/experiments/locations/us-central1/experiments/rag-eval-01/runs/rag-eval-01-ea2d9659-d1d4-4c9d-8310-4bd817fdd241?project=ai-buildathon-test-nov9-1');\n",
              "              } else {\n",
              "                window.open('https://console.cloud.google.com/vertex-ai/experiments/locations/us-central1/experiments/rag-eval-01/runs/rag-eval-01-ea2d9659-d1d4-4c9d-8310-4bd817fdd241?project=ai-buildathon-test-nov9-1', '_blank');\n",
              "              }\n",
              "              e.stopPropagation();\n",
              "              e.preventDefault();\n",
              "            });\n",
              "          })();\n",
              "        </script>\n",
              "    "
            ]
          },
          "metadata": {}
        },
        {
          "output_type": "stream",
          "name": "stderr",
          "text": [
            "INFO:vertexai.evaluation._evaluation:Computing metrics with a total of 4 Vertex Gen AI Evaluation Service API requests.\n",
            "100%|██████████| 4/4 [01:57<00:00, 29.48s/it]\n",
            "WARNING:vertexai.evaluation._evaluation:1 errors encountered during evaluation. Continue to compute summary metrics for the rest of the dataset.\n",
            "WARNING:vertexai.evaluation._evaluation:Error encountered for metric question_answering_correctness at dataset index 0: Error: Timeout of 120.0s exceeded, last exception: 429 Quota exceeded when calling judge model. Please increase quota.\n",
            "INFO:vertexai.evaluation._evaluation:Evaluation Took:117.93791814700035 seconds\n"
          ]
        }
      ],
      "source": [
        "referenced_result_rag_a = referenced_answer_eval_task_rag_a.evaluate()\n",
        "# referenced_result_rag_b = referenced_answer_eval_task_rag_b.evaluate()"
      ]
    },
    {
      "cell_type": "markdown",
      "metadata": {
        "id": "901e4a490473"
      },
      "source": [
        "### Display evaluation results"
      ]
    },
    {
      "cell_type": "markdown",
      "metadata": {
        "id": "7671dad25944"
      },
      "source": [
        "#### View summary results\n",
        "\n",
        "If you want to have an overall view of all the metrics evaluation result in one table, you can use the `display_eval_report()` helper function."
      ]
    },
    {
      "cell_type": "code",
      "execution_count": 18,
      "metadata": {
        "id": "baedc54b897a",
        "colab": {
          "base_uri": "https://localhost:8080/",
          "height": 480
        },
        "outputId": "4f1545c3-5d4e-4019-dc0b-54ad270369b4"
      },
      "outputs": [
        {
          "output_type": "display_data",
          "data": {
            "text/plain": [
              "<IPython.core.display.Markdown object>"
            ],
            "text/markdown": "## Model A Eval Result"
          },
          "metadata": {}
        },
        {
          "output_type": "display_data",
          "data": {
            "text/plain": [
              "<IPython.core.display.Markdown object>"
            ],
            "text/markdown": "### Summary Metrics"
          },
          "metadata": {}
        },
        {
          "output_type": "display_data",
          "data": {
            "text/plain": [
              "  row_count question_answering_correctness/mean  \\\n",
              "0         1                                 NaN   \n",
              "\n",
              "  question_answering_correctness/std rouge/mean rouge/std bleu/mean bleu/std  \\\n",
              "0                                NaN        0.0       NaN  0.019469      NaN   \n",
              "\n",
              "  exact_match/mean exact_match/std  \n",
              "0              0.0             NaN  "
            ],
            "text/html": [
              "\n",
              "  <div id=\"df-3a9d158b-0522-4950-a28d-bbda67acfcad\" class=\"colab-df-container\">\n",
              "    <div>\n",
              "<style scoped>\n",
              "    .dataframe tbody tr th:only-of-type {\n",
              "        vertical-align: middle;\n",
              "    }\n",
              "\n",
              "    .dataframe tbody tr th {\n",
              "        vertical-align: top;\n",
              "    }\n",
              "\n",
              "    .dataframe thead th {\n",
              "        text-align: right;\n",
              "    }\n",
              "</style>\n",
              "<table border=\"1\" class=\"dataframe\">\n",
              "  <thead>\n",
              "    <tr style=\"text-align: right;\">\n",
              "      <th></th>\n",
              "      <th>row_count</th>\n",
              "      <th>question_answering_correctness/mean</th>\n",
              "      <th>question_answering_correctness/std</th>\n",
              "      <th>rouge/mean</th>\n",
              "      <th>rouge/std</th>\n",
              "      <th>bleu/mean</th>\n",
              "      <th>bleu/std</th>\n",
              "      <th>exact_match/mean</th>\n",
              "      <th>exact_match/std</th>\n",
              "    </tr>\n",
              "  </thead>\n",
              "  <tbody>\n",
              "    <tr>\n",
              "      <th>0</th>\n",
              "      <td>1</td>\n",
              "      <td>NaN</td>\n",
              "      <td>NaN</td>\n",
              "      <td>0.0</td>\n",
              "      <td>NaN</td>\n",
              "      <td>0.019469</td>\n",
              "      <td>NaN</td>\n",
              "      <td>0.0</td>\n",
              "      <td>NaN</td>\n",
              "    </tr>\n",
              "  </tbody>\n",
              "</table>\n",
              "</div>\n",
              "    <div class=\"colab-df-buttons\">\n",
              "\n",
              "  <div class=\"colab-df-container\">\n",
              "    <button class=\"colab-df-convert\" onclick=\"convertToInteractive('df-3a9d158b-0522-4950-a28d-bbda67acfcad')\"\n",
              "            title=\"Convert this dataframe to an interactive table.\"\n",
              "            style=\"display:none;\">\n",
              "\n",
              "  <svg xmlns=\"http://www.w3.org/2000/svg\" height=\"24px\" viewBox=\"0 -960 960 960\">\n",
              "    <path d=\"M120-120v-720h720v720H120Zm60-500h600v-160H180v160Zm220 220h160v-160H400v160Zm0 220h160v-160H400v160ZM180-400h160v-160H180v160Zm440 0h160v-160H620v160ZM180-180h160v-160H180v160Zm440 0h160v-160H620v160Z\"/>\n",
              "  </svg>\n",
              "    </button>\n",
              "\n",
              "  <style>\n",
              "    .colab-df-container {\n",
              "      display:flex;\n",
              "      gap: 12px;\n",
              "    }\n",
              "\n",
              "    .colab-df-convert {\n",
              "      background-color: #E8F0FE;\n",
              "      border: none;\n",
              "      border-radius: 50%;\n",
              "      cursor: pointer;\n",
              "      display: none;\n",
              "      fill: #1967D2;\n",
              "      height: 32px;\n",
              "      padding: 0 0 0 0;\n",
              "      width: 32px;\n",
              "    }\n",
              "\n",
              "    .colab-df-convert:hover {\n",
              "      background-color: #E2EBFA;\n",
              "      box-shadow: 0px 1px 2px rgba(60, 64, 67, 0.3), 0px 1px 3px 1px rgba(60, 64, 67, 0.15);\n",
              "      fill: #174EA6;\n",
              "    }\n",
              "\n",
              "    .colab-df-buttons div {\n",
              "      margin-bottom: 4px;\n",
              "    }\n",
              "\n",
              "    [theme=dark] .colab-df-convert {\n",
              "      background-color: #3B4455;\n",
              "      fill: #D2E3FC;\n",
              "    }\n",
              "\n",
              "    [theme=dark] .colab-df-convert:hover {\n",
              "      background-color: #434B5C;\n",
              "      box-shadow: 0px 1px 3px 1px rgba(0, 0, 0, 0.15);\n",
              "      filter: drop-shadow(0px 1px 2px rgba(0, 0, 0, 0.3));\n",
              "      fill: #FFFFFF;\n",
              "    }\n",
              "  </style>\n",
              "\n",
              "    <script>\n",
              "      const buttonEl =\n",
              "        document.querySelector('#df-3a9d158b-0522-4950-a28d-bbda67acfcad button.colab-df-convert');\n",
              "      buttonEl.style.display =\n",
              "        google.colab.kernel.accessAllowed ? 'block' : 'none';\n",
              "\n",
              "      async function convertToInteractive(key) {\n",
              "        const element = document.querySelector('#df-3a9d158b-0522-4950-a28d-bbda67acfcad');\n",
              "        const dataTable =\n",
              "          await google.colab.kernel.invokeFunction('convertToInteractive',\n",
              "                                                    [key], {});\n",
              "        if (!dataTable) return;\n",
              "\n",
              "        const docLinkHtml = 'Like what you see? Visit the ' +\n",
              "          '<a target=\"_blank\" href=https://colab.research.google.com/notebooks/data_table.ipynb>data table notebook</a>'\n",
              "          + ' to learn more about interactive tables.';\n",
              "        element.innerHTML = '';\n",
              "        dataTable['output_type'] = 'display_data';\n",
              "        await google.colab.output.renderOutput(dataTable, element);\n",
              "        const docLink = document.createElement('div');\n",
              "        docLink.innerHTML = docLinkHtml;\n",
              "        element.appendChild(docLink);\n",
              "      }\n",
              "    </script>\n",
              "  </div>\n",
              "\n",
              "\n",
              "    </div>\n",
              "  </div>\n"
            ],
            "application/vnd.google.colaboratory.intrinsic+json": {
              "type": "dataframe",
              "summary": "{\n  \"name\": \"# )\",\n  \"rows\": 1,\n  \"fields\": [\n    {\n      \"column\": \"row_count\",\n      \"properties\": {\n        \"dtype\": \"date\",\n        \"min\": 1,\n        \"max\": 1,\n        \"num_unique_values\": 1,\n        \"samples\": [\n          1\n        ],\n        \"semantic_type\": \"\",\n        \"description\": \"\"\n      }\n    },\n    {\n      \"column\": \"question_answering_correctness/mean\",\n      \"properties\": {\n        \"dtype\": \"object\",\n        \"num_unique_values\": 1,\n        \"samples\": [\n          \"NaN\"\n        ],\n        \"semantic_type\": \"\",\n        \"description\": \"\"\n      }\n    },\n    {\n      \"column\": \"question_answering_correctness/std\",\n      \"properties\": {\n        \"dtype\": \"object\",\n        \"num_unique_values\": 1,\n        \"samples\": [\n          \"NaN\"\n        ],\n        \"semantic_type\": \"\",\n        \"description\": \"\"\n      }\n    },\n    {\n      \"column\": \"rouge/mean\",\n      \"properties\": {\n        \"dtype\": \"date\",\n        \"min\": 0.0,\n        \"max\": 0.0,\n        \"num_unique_values\": 1,\n        \"samples\": [\n          0.0\n        ],\n        \"semantic_type\": \"\",\n        \"description\": \"\"\n      }\n    },\n    {\n      \"column\": \"rouge/std\",\n      \"properties\": {\n        \"dtype\": \"object\",\n        \"num_unique_values\": 1,\n        \"samples\": [\n          \"NaN\"\n        ],\n        \"semantic_type\": \"\",\n        \"description\": \"\"\n      }\n    },\n    {\n      \"column\": \"bleu/mean\",\n      \"properties\": {\n        \"dtype\": \"date\",\n        \"min\": 0.019469285,\n        \"max\": 0.019469285,\n        \"num_unique_values\": 1,\n        \"samples\": [\n          0.019469285\n        ],\n        \"semantic_type\": \"\",\n        \"description\": \"\"\n      }\n    },\n    {\n      \"column\": \"bleu/std\",\n      \"properties\": {\n        \"dtype\": \"object\",\n        \"num_unique_values\": 1,\n        \"samples\": [\n          \"NaN\"\n        ],\n        \"semantic_type\": \"\",\n        \"description\": \"\"\n      }\n    },\n    {\n      \"column\": \"exact_match/mean\",\n      \"properties\": {\n        \"dtype\": \"date\",\n        \"min\": 0.0,\n        \"max\": 0.0,\n        \"num_unique_values\": 1,\n        \"samples\": [\n          0.0\n        ],\n        \"semantic_type\": \"\",\n        \"description\": \"\"\n      }\n    },\n    {\n      \"column\": \"exact_match/std\",\n      \"properties\": {\n        \"dtype\": \"object\",\n        \"num_unique_values\": 1,\n        \"samples\": [\n          \"NaN\"\n        ],\n        \"semantic_type\": \"\",\n        \"description\": \"\"\n      }\n    }\n  ]\n}"
            }
          },
          "metadata": {}
        },
        {
          "output_type": "display_data",
          "data": {
            "text/plain": [
              "<IPython.core.display.Markdown object>"
            ],
            "text/markdown": "### Report Metrics"
          },
          "metadata": {}
        },
        {
          "output_type": "display_data",
          "data": {
            "text/plain": [
              "                                              prompt  \\\n",
              "0  Answer the question: 火災保険の収益悪化に対し、損害保険各社はどのような...   \n",
              "\n",
              "                                            response  \\\n",
              "0  火災保険の収益悪化に対し、損害保険各社は収益改善策を講じています。 損害保険会社は、長期契約...   \n",
              "\n",
              "                                           reference  \\\n",
              "0  火災保険の収益悪化には長期契約が赤字状態であることや自然災害増加に伴う再保険市場のハード化が...   \n",
              "\n",
              "  question_answering_correctness/explanation  \\\n",
              "0                                      Error   \n",
              "\n",
              "  question_answering_correctness/score  rouge/score  bleu/score  \\\n",
              "0                                 None          0.0    0.019469   \n",
              "\n",
              "   exact_match/score  \n",
              "0                0.0  "
            ],
            "text/html": [
              "\n",
              "  <div id=\"df-14bf5c86-ecf2-4552-8f0a-bbcc6ac51c00\" class=\"colab-df-container\">\n",
              "    <div>\n",
              "<style scoped>\n",
              "    .dataframe tbody tr th:only-of-type {\n",
              "        vertical-align: middle;\n",
              "    }\n",
              "\n",
              "    .dataframe tbody tr th {\n",
              "        vertical-align: top;\n",
              "    }\n",
              "\n",
              "    .dataframe thead th {\n",
              "        text-align: right;\n",
              "    }\n",
              "</style>\n",
              "<table border=\"1\" class=\"dataframe\">\n",
              "  <thead>\n",
              "    <tr style=\"text-align: right;\">\n",
              "      <th></th>\n",
              "      <th>prompt</th>\n",
              "      <th>response</th>\n",
              "      <th>reference</th>\n",
              "      <th>question_answering_correctness/explanation</th>\n",
              "      <th>question_answering_correctness/score</th>\n",
              "      <th>rouge/score</th>\n",
              "      <th>bleu/score</th>\n",
              "      <th>exact_match/score</th>\n",
              "    </tr>\n",
              "  </thead>\n",
              "  <tbody>\n",
              "    <tr>\n",
              "      <th>0</th>\n",
              "      <td>Answer the question: 火災保険の収益悪化に対し、損害保険各社はどのような...</td>\n",
              "      <td>火災保険の収益悪化に対し、損害保険各社は収益改善策を講じています。 損害保険会社は、長期契約...</td>\n",
              "      <td>火災保険の収益悪化には長期契約が赤字状態であることや自然災害増加に伴う再保険市場のハード化が...</td>\n",
              "      <td>Error</td>\n",
              "      <td>None</td>\n",
              "      <td>0.0</td>\n",
              "      <td>0.019469</td>\n",
              "      <td>0.0</td>\n",
              "    </tr>\n",
              "  </tbody>\n",
              "</table>\n",
              "</div>\n",
              "    <div class=\"colab-df-buttons\">\n",
              "\n",
              "  <div class=\"colab-df-container\">\n",
              "    <button class=\"colab-df-convert\" onclick=\"convertToInteractive('df-14bf5c86-ecf2-4552-8f0a-bbcc6ac51c00')\"\n",
              "            title=\"Convert this dataframe to an interactive table.\"\n",
              "            style=\"display:none;\">\n",
              "\n",
              "  <svg xmlns=\"http://www.w3.org/2000/svg\" height=\"24px\" viewBox=\"0 -960 960 960\">\n",
              "    <path d=\"M120-120v-720h720v720H120Zm60-500h600v-160H180v160Zm220 220h160v-160H400v160Zm0 220h160v-160H400v160ZM180-400h160v-160H180v160Zm440 0h160v-160H620v160ZM180-180h160v-160H180v160Zm440 0h160v-160H620v160Z\"/>\n",
              "  </svg>\n",
              "    </button>\n",
              "\n",
              "  <style>\n",
              "    .colab-df-container {\n",
              "      display:flex;\n",
              "      gap: 12px;\n",
              "    }\n",
              "\n",
              "    .colab-df-convert {\n",
              "      background-color: #E8F0FE;\n",
              "      border: none;\n",
              "      border-radius: 50%;\n",
              "      cursor: pointer;\n",
              "      display: none;\n",
              "      fill: #1967D2;\n",
              "      height: 32px;\n",
              "      padding: 0 0 0 0;\n",
              "      width: 32px;\n",
              "    }\n",
              "\n",
              "    .colab-df-convert:hover {\n",
              "      background-color: #E2EBFA;\n",
              "      box-shadow: 0px 1px 2px rgba(60, 64, 67, 0.3), 0px 1px 3px 1px rgba(60, 64, 67, 0.15);\n",
              "      fill: #174EA6;\n",
              "    }\n",
              "\n",
              "    .colab-df-buttons div {\n",
              "      margin-bottom: 4px;\n",
              "    }\n",
              "\n",
              "    [theme=dark] .colab-df-convert {\n",
              "      background-color: #3B4455;\n",
              "      fill: #D2E3FC;\n",
              "    }\n",
              "\n",
              "    [theme=dark] .colab-df-convert:hover {\n",
              "      background-color: #434B5C;\n",
              "      box-shadow: 0px 1px 3px 1px rgba(0, 0, 0, 0.15);\n",
              "      filter: drop-shadow(0px 1px 2px rgba(0, 0, 0, 0.3));\n",
              "      fill: #FFFFFF;\n",
              "    }\n",
              "  </style>\n",
              "\n",
              "    <script>\n",
              "      const buttonEl =\n",
              "        document.querySelector('#df-14bf5c86-ecf2-4552-8f0a-bbcc6ac51c00 button.colab-df-convert');\n",
              "      buttonEl.style.display =\n",
              "        google.colab.kernel.accessAllowed ? 'block' : 'none';\n",
              "\n",
              "      async function convertToInteractive(key) {\n",
              "        const element = document.querySelector('#df-14bf5c86-ecf2-4552-8f0a-bbcc6ac51c00');\n",
              "        const dataTable =\n",
              "          await google.colab.kernel.invokeFunction('convertToInteractive',\n",
              "                                                    [key], {});\n",
              "        if (!dataTable) return;\n",
              "\n",
              "        const docLinkHtml = 'Like what you see? Visit the ' +\n",
              "          '<a target=\"_blank\" href=https://colab.research.google.com/notebooks/data_table.ipynb>data table notebook</a>'\n",
              "          + ' to learn more about interactive tables.';\n",
              "        element.innerHTML = '';\n",
              "        dataTable['output_type'] = 'display_data';\n",
              "        await google.colab.output.renderOutput(dataTable, element);\n",
              "        const docLink = document.createElement('div');\n",
              "        docLink.innerHTML = docLinkHtml;\n",
              "        element.appendChild(docLink);\n",
              "      }\n",
              "    </script>\n",
              "  </div>\n",
              "\n",
              "\n",
              "    </div>\n",
              "  </div>\n"
            ],
            "application/vnd.google.colaboratory.intrinsic+json": {
              "type": "dataframe",
              "repr_error": "Out of range float values are not JSON compliant: nan"
            }
          },
          "metadata": {}
        }
      ],
      "source": [
        "display_eval_report(\n",
        "    (\n",
        "        \"Model A Eval Result\",\n",
        "        referenced_result_rag_a.summary_metrics,\n",
        "        referenced_result_rag_a.metrics_table,\n",
        "    )\n",
        ")\n",
        "# display_eval_report(\n",
        "#     (\n",
        "#         \"Model B Eval Result\",\n",
        "#         referenced_result_rag_b.summary_metrics,\n",
        "#         referenced_result_rag_b.metrics_table,\n",
        "#     )\n",
        "# )"
      ]
    },
    {
      "cell_type": "markdown",
      "metadata": {
        "id": "8eab913a13b1"
      },
      "source": [
        "#### Visualize evaluation results\n"
      ]
    },
    {
      "cell_type": "code",
      "execution_count": 19,
      "metadata": {
        "id": "29740e79e37a"
      },
      "outputs": [],
      "source": [
        "referenced_eval_results = []\n",
        "referenced_eval_results.append(\n",
        "    (\n",
        "        \"Model A\",\n",
        "        referenced_result_rag_a.summary_metrics,\n",
        "        referenced_result_rag_a.metrics_table,\n",
        "    )\n",
        ")\n",
        "# referenced_eval_results.append(\n",
        "#     (\n",
        "#         \"Model B\",\n",
        "#         referenced_result_rag_b.summary_metrics,\n",
        "#         referenced_result_rag_b.metrics_table,\n",
        "#     )\n",
        "# )"
      ]
    },
    {
      "cell_type": "code",
      "execution_count": 20,
      "metadata": {
        "id": "89f606f0a235",
        "colab": {
          "base_uri": "https://localhost:8080/",
          "height": 542
        },
        "outputId": "c80607f5-9d79-4a03-b170-d2720999c8e7"
      },
      "outputs": [
        {
          "output_type": "display_data",
          "data": {
            "text/html": [
              "<html>\n",
              "<head><meta charset=\"utf-8\" /></head>\n",
              "<body>\n",
              "    <div>            <script src=\"https://cdnjs.cloudflare.com/ajax/libs/mathjax/2.7.5/MathJax.js?config=TeX-AMS-MML_SVG\"></script><script type=\"text/javascript\">if (window.MathJax && window.MathJax.Hub && window.MathJax.Hub.Config) {window.MathJax.Hub.Config({SVG: {font: \"STIX-Web\"}});}</script>                <script type=\"text/javascript\">window.PlotlyConfig = {MathJaxConfig: 'local'};</script>\n",
              "        <script charset=\"utf-8\" src=\"https://cdn.plot.ly/plotly-2.35.2.min.js\"></script>                <div id=\"98007cd8-c31c-452d-8e6c-cedce1327b41\" class=\"plotly-graph-div\" style=\"height:525px; width:100%;\"></div>            <script type=\"text/javascript\">                                    window.PLOTLYENV=window.PLOTLYENV || {};                                    if (document.getElementById(\"98007cd8-c31c-452d-8e6c-cedce1327b41\")) {                    Plotly.newPlot(                        \"98007cd8-c31c-452d-8e6c-cedce1327b41\",                        [{\"fill\":\"toself\",\"name\":\"Model A\",\"r\":[\"NaN\",0.0,0.019469285,0.0],\"theta\":[\"question_answering_correctness\\u002fmean\",\"rouge\\u002fmean\",\"bleu\\u002fmean\",\"exact_match\\u002fmean\"],\"type\":\"scatterpolar\"}],                        {\"template\":{\"data\":{\"histogram2dcontour\":[{\"type\":\"histogram2dcontour\",\"colorbar\":{\"outlinewidth\":0,\"ticks\":\"\"},\"colorscale\":[[0.0,\"#0d0887\"],[0.1111111111111111,\"#46039f\"],[0.2222222222222222,\"#7201a8\"],[0.3333333333333333,\"#9c179e\"],[0.4444444444444444,\"#bd3786\"],[0.5555555555555556,\"#d8576b\"],[0.6666666666666666,\"#ed7953\"],[0.7777777777777778,\"#fb9f3a\"],[0.8888888888888888,\"#fdca26\"],[1.0,\"#f0f921\"]]}],\"choropleth\":[{\"type\":\"choropleth\",\"colorbar\":{\"outlinewidth\":0,\"ticks\":\"\"}}],\"histogram2d\":[{\"type\":\"histogram2d\",\"colorbar\":{\"outlinewidth\":0,\"ticks\":\"\"},\"colorscale\":[[0.0,\"#0d0887\"],[0.1111111111111111,\"#46039f\"],[0.2222222222222222,\"#7201a8\"],[0.3333333333333333,\"#9c179e\"],[0.4444444444444444,\"#bd3786\"],[0.5555555555555556,\"#d8576b\"],[0.6666666666666666,\"#ed7953\"],[0.7777777777777778,\"#fb9f3a\"],[0.8888888888888888,\"#fdca26\"],[1.0,\"#f0f921\"]]}],\"heatmap\":[{\"type\":\"heatmap\",\"colorbar\":{\"outlinewidth\":0,\"ticks\":\"\"},\"colorscale\":[[0.0,\"#0d0887\"],[0.1111111111111111,\"#46039f\"],[0.2222222222222222,\"#7201a8\"],[0.3333333333333333,\"#9c179e\"],[0.4444444444444444,\"#bd3786\"],[0.5555555555555556,\"#d8576b\"],[0.6666666666666666,\"#ed7953\"],[0.7777777777777778,\"#fb9f3a\"],[0.8888888888888888,\"#fdca26\"],[1.0,\"#f0f921\"]]}],\"heatmapgl\":[{\"type\":\"heatmapgl\",\"colorbar\":{\"outlinewidth\":0,\"ticks\":\"\"},\"colorscale\":[[0.0,\"#0d0887\"],[0.1111111111111111,\"#46039f\"],[0.2222222222222222,\"#7201a8\"],[0.3333333333333333,\"#9c179e\"],[0.4444444444444444,\"#bd3786\"],[0.5555555555555556,\"#d8576b\"],[0.6666666666666666,\"#ed7953\"],[0.7777777777777778,\"#fb9f3a\"],[0.8888888888888888,\"#fdca26\"],[1.0,\"#f0f921\"]]}],\"contourcarpet\":[{\"type\":\"contourcarpet\",\"colorbar\":{\"outlinewidth\":0,\"ticks\":\"\"}}],\"contour\":[{\"type\":\"contour\",\"colorbar\":{\"outlinewidth\":0,\"ticks\":\"\"},\"colorscale\":[[0.0,\"#0d0887\"],[0.1111111111111111,\"#46039f\"],[0.2222222222222222,\"#7201a8\"],[0.3333333333333333,\"#9c179e\"],[0.4444444444444444,\"#bd3786\"],[0.5555555555555556,\"#d8576b\"],[0.6666666666666666,\"#ed7953\"],[0.7777777777777778,\"#fb9f3a\"],[0.8888888888888888,\"#fdca26\"],[1.0,\"#f0f921\"]]}],\"surface\":[{\"type\":\"surface\",\"colorbar\":{\"outlinewidth\":0,\"ticks\":\"\"},\"colorscale\":[[0.0,\"#0d0887\"],[0.1111111111111111,\"#46039f\"],[0.2222222222222222,\"#7201a8\"],[0.3333333333333333,\"#9c179e\"],[0.4444444444444444,\"#bd3786\"],[0.5555555555555556,\"#d8576b\"],[0.6666666666666666,\"#ed7953\"],[0.7777777777777778,\"#fb9f3a\"],[0.8888888888888888,\"#fdca26\"],[1.0,\"#f0f921\"]]}],\"mesh3d\":[{\"type\":\"mesh3d\",\"colorbar\":{\"outlinewidth\":0,\"ticks\":\"\"}}],\"scatter\":[{\"fillpattern\":{\"fillmode\":\"overlay\",\"size\":10,\"solidity\":0.2},\"type\":\"scatter\"}],\"parcoords\":[{\"type\":\"parcoords\",\"line\":{\"colorbar\":{\"outlinewidth\":0,\"ticks\":\"\"}}}],\"scatterpolargl\":[{\"type\":\"scatterpolargl\",\"marker\":{\"colorbar\":{\"outlinewidth\":0,\"ticks\":\"\"}}}],\"bar\":[{\"error_x\":{\"color\":\"#2a3f5f\"},\"error_y\":{\"color\":\"#2a3f5f\"},\"marker\":{\"line\":{\"color\":\"#E5ECF6\",\"width\":0.5},\"pattern\":{\"fillmode\":\"overlay\",\"size\":10,\"solidity\":0.2}},\"type\":\"bar\"}],\"scattergeo\":[{\"type\":\"scattergeo\",\"marker\":{\"colorbar\":{\"outlinewidth\":0,\"ticks\":\"\"}}}],\"scatterpolar\":[{\"type\":\"scatterpolar\",\"marker\":{\"colorbar\":{\"outlinewidth\":0,\"ticks\":\"\"}}}],\"histogram\":[{\"marker\":{\"pattern\":{\"fillmode\":\"overlay\",\"size\":10,\"solidity\":0.2}},\"type\":\"histogram\"}],\"scattergl\":[{\"type\":\"scattergl\",\"marker\":{\"colorbar\":{\"outlinewidth\":0,\"ticks\":\"\"}}}],\"scatter3d\":[{\"type\":\"scatter3d\",\"line\":{\"colorbar\":{\"outlinewidth\":0,\"ticks\":\"\"}},\"marker\":{\"colorbar\":{\"outlinewidth\":0,\"ticks\":\"\"}}}],\"scattermapbox\":[{\"type\":\"scattermapbox\",\"marker\":{\"colorbar\":{\"outlinewidth\":0,\"ticks\":\"\"}}}],\"scatterternary\":[{\"type\":\"scatterternary\",\"marker\":{\"colorbar\":{\"outlinewidth\":0,\"ticks\":\"\"}}}],\"scattercarpet\":[{\"type\":\"scattercarpet\",\"marker\":{\"colorbar\":{\"outlinewidth\":0,\"ticks\":\"\"}}}],\"carpet\":[{\"aaxis\":{\"endlinecolor\":\"#2a3f5f\",\"gridcolor\":\"white\",\"linecolor\":\"white\",\"minorgridcolor\":\"white\",\"startlinecolor\":\"#2a3f5f\"},\"baxis\":{\"endlinecolor\":\"#2a3f5f\",\"gridcolor\":\"white\",\"linecolor\":\"white\",\"minorgridcolor\":\"white\",\"startlinecolor\":\"#2a3f5f\"},\"type\":\"carpet\"}],\"table\":[{\"cells\":{\"fill\":{\"color\":\"#EBF0F8\"},\"line\":{\"color\":\"white\"}},\"header\":{\"fill\":{\"color\":\"#C8D4E3\"},\"line\":{\"color\":\"white\"}},\"type\":\"table\"}],\"barpolar\":[{\"marker\":{\"line\":{\"color\":\"#E5ECF6\",\"width\":0.5},\"pattern\":{\"fillmode\":\"overlay\",\"size\":10,\"solidity\":0.2}},\"type\":\"barpolar\"}],\"pie\":[{\"automargin\":true,\"type\":\"pie\"}]},\"layout\":{\"autotypenumbers\":\"strict\",\"colorway\":[\"#636efa\",\"#EF553B\",\"#00cc96\",\"#ab63fa\",\"#FFA15A\",\"#19d3f3\",\"#FF6692\",\"#B6E880\",\"#FF97FF\",\"#FECB52\"],\"font\":{\"color\":\"#2a3f5f\"},\"hovermode\":\"closest\",\"hoverlabel\":{\"align\":\"left\"},\"paper_bgcolor\":\"white\",\"plot_bgcolor\":\"#E5ECF6\",\"polar\":{\"bgcolor\":\"#E5ECF6\",\"angularaxis\":{\"gridcolor\":\"white\",\"linecolor\":\"white\",\"ticks\":\"\"},\"radialaxis\":{\"gridcolor\":\"white\",\"linecolor\":\"white\",\"ticks\":\"\"}},\"ternary\":{\"bgcolor\":\"#E5ECF6\",\"aaxis\":{\"gridcolor\":\"white\",\"linecolor\":\"white\",\"ticks\":\"\"},\"baxis\":{\"gridcolor\":\"white\",\"linecolor\":\"white\",\"ticks\":\"\"},\"caxis\":{\"gridcolor\":\"white\",\"linecolor\":\"white\",\"ticks\":\"\"}},\"coloraxis\":{\"colorbar\":{\"outlinewidth\":0,\"ticks\":\"\"}},\"colorscale\":{\"sequential\":[[0.0,\"#0d0887\"],[0.1111111111111111,\"#46039f\"],[0.2222222222222222,\"#7201a8\"],[0.3333333333333333,\"#9c179e\"],[0.4444444444444444,\"#bd3786\"],[0.5555555555555556,\"#d8576b\"],[0.6666666666666666,\"#ed7953\"],[0.7777777777777778,\"#fb9f3a\"],[0.8888888888888888,\"#fdca26\"],[1.0,\"#f0f921\"]],\"sequentialminus\":[[0.0,\"#0d0887\"],[0.1111111111111111,\"#46039f\"],[0.2222222222222222,\"#7201a8\"],[0.3333333333333333,\"#9c179e\"],[0.4444444444444444,\"#bd3786\"],[0.5555555555555556,\"#d8576b\"],[0.6666666666666666,\"#ed7953\"],[0.7777777777777778,\"#fb9f3a\"],[0.8888888888888888,\"#fdca26\"],[1.0,\"#f0f921\"]],\"diverging\":[[0,\"#8e0152\"],[0.1,\"#c51b7d\"],[0.2,\"#de77ae\"],[0.3,\"#f1b6da\"],[0.4,\"#fde0ef\"],[0.5,\"#f7f7f7\"],[0.6,\"#e6f5d0\"],[0.7,\"#b8e186\"],[0.8,\"#7fbc41\"],[0.9,\"#4d9221\"],[1,\"#276419\"]]},\"xaxis\":{\"gridcolor\":\"white\",\"linecolor\":\"white\",\"ticks\":\"\",\"title\":{\"standoff\":15},\"zerolinecolor\":\"white\",\"automargin\":true,\"zerolinewidth\":2},\"yaxis\":{\"gridcolor\":\"white\",\"linecolor\":\"white\",\"ticks\":\"\",\"title\":{\"standoff\":15},\"zerolinecolor\":\"white\",\"automargin\":true,\"zerolinewidth\":2},\"scene\":{\"xaxis\":{\"backgroundcolor\":\"#E5ECF6\",\"gridcolor\":\"white\",\"linecolor\":\"white\",\"showbackground\":true,\"ticks\":\"\",\"zerolinecolor\":\"white\",\"gridwidth\":2},\"yaxis\":{\"backgroundcolor\":\"#E5ECF6\",\"gridcolor\":\"white\",\"linecolor\":\"white\",\"showbackground\":true,\"ticks\":\"\",\"zerolinecolor\":\"white\",\"gridwidth\":2},\"zaxis\":{\"backgroundcolor\":\"#E5ECF6\",\"gridcolor\":\"white\",\"linecolor\":\"white\",\"showbackground\":true,\"ticks\":\"\",\"zerolinecolor\":\"white\",\"gridwidth\":2}},\"shapedefaults\":{\"line\":{\"color\":\"#2a3f5f\"}},\"annotationdefaults\":{\"arrowcolor\":\"#2a3f5f\",\"arrowhead\":0,\"arrowwidth\":1},\"geo\":{\"bgcolor\":\"white\",\"landcolor\":\"#E5ECF6\",\"subunitcolor\":\"white\",\"showland\":true,\"showlakes\":true,\"lakecolor\":\"white\"},\"title\":{\"x\":0.05},\"mapbox\":{\"style\":\"light\"}}},\"polar\":{\"radialaxis\":{\"visible\":true,\"range\":[0,1]}},\"showlegend\":true},                        {\"responsive\": true}                    ).then(function(){\n",
              "                            \n",
              "var gd = document.getElementById('98007cd8-c31c-452d-8e6c-cedce1327b41');\n",
              "var x = new MutationObserver(function (mutations, observer) {{\n",
              "        var display = window.getComputedStyle(gd).display;\n",
              "        if (!display || display === 'none') {{\n",
              "            console.log([gd, 'removed!']);\n",
              "            Plotly.purge(gd);\n",
              "            observer.disconnect();\n",
              "        }}\n",
              "}});\n",
              "\n",
              "// Listen for the removal of the full notebook cells\n",
              "var notebookContainer = gd.closest('#notebook-container');\n",
              "if (notebookContainer) {{\n",
              "    x.observe(notebookContainer, {childList: true});\n",
              "}}\n",
              "\n",
              "// Listen for the clearing of the current output cell\n",
              "var outputEl = gd.closest('.output');\n",
              "if (outputEl) {{\n",
              "    x.observe(outputEl, {childList: true});\n",
              "}}\n",
              "\n",
              "                        })                };                            </script>        </div>\n",
              "</body>\n",
              "</html>"
            ]
          },
          "metadata": {}
        }
      ],
      "source": [
        "plot_radar_plot(\n",
        "    referenced_eval_results,\n",
        "    max_score=1,\n",
        "    metrics=[\n",
        "        f\"{metric}/mean\"\n",
        "        # Edit your list of metrics here if you used other metrics in evaluation.\n",
        "        for metric in [\n",
        "            \"question_answering_correctness\",\n",
        "            \"rouge\",\n",
        "            \"bleu\",\n",
        "            \"exact_match\",\n",
        "        ]\n",
        "    ],\n",
        ")"
      ]
    },
    {
      "cell_type": "code",
      "execution_count": 21,
      "metadata": {
        "id": "ff21c08d7214",
        "colab": {
          "base_uri": "https://localhost:8080/",
          "height": 542
        },
        "outputId": "0b640d7e-aecb-420e-84fc-4746169c9425"
      },
      "outputs": [
        {
          "output_type": "display_data",
          "data": {
            "text/html": [
              "<html>\n",
              "<head><meta charset=\"utf-8\" /></head>\n",
              "<body>\n",
              "    <div>            <script src=\"https://cdnjs.cloudflare.com/ajax/libs/mathjax/2.7.5/MathJax.js?config=TeX-AMS-MML_SVG\"></script><script type=\"text/javascript\">if (window.MathJax && window.MathJax.Hub && window.MathJax.Hub.Config) {window.MathJax.Hub.Config({SVG: {font: \"STIX-Web\"}});}</script>                <script type=\"text/javascript\">window.PlotlyConfig = {MathJaxConfig: 'local'};</script>\n",
              "        <script charset=\"utf-8\" src=\"https://cdn.plot.ly/plotly-2.35.2.min.js\"></script>                <div id=\"eb7ef3d9-8bc7-4601-bc0a-6d20d4484edf\" class=\"plotly-graph-div\" style=\"height:525px; width:100%;\"></div>            <script type=\"text/javascript\">                                    window.PLOTLYENV=window.PLOTLYENV || {};                                    if (document.getElementById(\"eb7ef3d9-8bc7-4601-bc0a-6d20d4484edf\")) {                    Plotly.newPlot(                        \"eb7ef3d9-8bc7-4601-bc0a-6d20d4484edf\",                        [{\"name\":\"Model A\",\"x\":[\"question_answering_correctness\\u002fmean\",\"rouge\\u002fmean\",\"bleu\\u002fmean\",\"exact_match\\u002fmean\"],\"y\":[\"NaN\",0.0,0.019469285,0.0],\"type\":\"bar\"}],                        {\"template\":{\"data\":{\"histogram2dcontour\":[{\"type\":\"histogram2dcontour\",\"colorbar\":{\"outlinewidth\":0,\"ticks\":\"\"},\"colorscale\":[[0.0,\"#0d0887\"],[0.1111111111111111,\"#46039f\"],[0.2222222222222222,\"#7201a8\"],[0.3333333333333333,\"#9c179e\"],[0.4444444444444444,\"#bd3786\"],[0.5555555555555556,\"#d8576b\"],[0.6666666666666666,\"#ed7953\"],[0.7777777777777778,\"#fb9f3a\"],[0.8888888888888888,\"#fdca26\"],[1.0,\"#f0f921\"]]}],\"choropleth\":[{\"type\":\"choropleth\",\"colorbar\":{\"outlinewidth\":0,\"ticks\":\"\"}}],\"histogram2d\":[{\"type\":\"histogram2d\",\"colorbar\":{\"outlinewidth\":0,\"ticks\":\"\"},\"colorscale\":[[0.0,\"#0d0887\"],[0.1111111111111111,\"#46039f\"],[0.2222222222222222,\"#7201a8\"],[0.3333333333333333,\"#9c179e\"],[0.4444444444444444,\"#bd3786\"],[0.5555555555555556,\"#d8576b\"],[0.6666666666666666,\"#ed7953\"],[0.7777777777777778,\"#fb9f3a\"],[0.8888888888888888,\"#fdca26\"],[1.0,\"#f0f921\"]]}],\"heatmap\":[{\"type\":\"heatmap\",\"colorbar\":{\"outlinewidth\":0,\"ticks\":\"\"},\"colorscale\":[[0.0,\"#0d0887\"],[0.1111111111111111,\"#46039f\"],[0.2222222222222222,\"#7201a8\"],[0.3333333333333333,\"#9c179e\"],[0.4444444444444444,\"#bd3786\"],[0.5555555555555556,\"#d8576b\"],[0.6666666666666666,\"#ed7953\"],[0.7777777777777778,\"#fb9f3a\"],[0.8888888888888888,\"#fdca26\"],[1.0,\"#f0f921\"]]}],\"heatmapgl\":[{\"type\":\"heatmapgl\",\"colorbar\":{\"outlinewidth\":0,\"ticks\":\"\"},\"colorscale\":[[0.0,\"#0d0887\"],[0.1111111111111111,\"#46039f\"],[0.2222222222222222,\"#7201a8\"],[0.3333333333333333,\"#9c179e\"],[0.4444444444444444,\"#bd3786\"],[0.5555555555555556,\"#d8576b\"],[0.6666666666666666,\"#ed7953\"],[0.7777777777777778,\"#fb9f3a\"],[0.8888888888888888,\"#fdca26\"],[1.0,\"#f0f921\"]]}],\"contourcarpet\":[{\"type\":\"contourcarpet\",\"colorbar\":{\"outlinewidth\":0,\"ticks\":\"\"}}],\"contour\":[{\"type\":\"contour\",\"colorbar\":{\"outlinewidth\":0,\"ticks\":\"\"},\"colorscale\":[[0.0,\"#0d0887\"],[0.1111111111111111,\"#46039f\"],[0.2222222222222222,\"#7201a8\"],[0.3333333333333333,\"#9c179e\"],[0.4444444444444444,\"#bd3786\"],[0.5555555555555556,\"#d8576b\"],[0.6666666666666666,\"#ed7953\"],[0.7777777777777778,\"#fb9f3a\"],[0.8888888888888888,\"#fdca26\"],[1.0,\"#f0f921\"]]}],\"surface\":[{\"type\":\"surface\",\"colorbar\":{\"outlinewidth\":0,\"ticks\":\"\"},\"colorscale\":[[0.0,\"#0d0887\"],[0.1111111111111111,\"#46039f\"],[0.2222222222222222,\"#7201a8\"],[0.3333333333333333,\"#9c179e\"],[0.4444444444444444,\"#bd3786\"],[0.5555555555555556,\"#d8576b\"],[0.6666666666666666,\"#ed7953\"],[0.7777777777777778,\"#fb9f3a\"],[0.8888888888888888,\"#fdca26\"],[1.0,\"#f0f921\"]]}],\"mesh3d\":[{\"type\":\"mesh3d\",\"colorbar\":{\"outlinewidth\":0,\"ticks\":\"\"}}],\"scatter\":[{\"fillpattern\":{\"fillmode\":\"overlay\",\"size\":10,\"solidity\":0.2},\"type\":\"scatter\"}],\"parcoords\":[{\"type\":\"parcoords\",\"line\":{\"colorbar\":{\"outlinewidth\":0,\"ticks\":\"\"}}}],\"scatterpolargl\":[{\"type\":\"scatterpolargl\",\"marker\":{\"colorbar\":{\"outlinewidth\":0,\"ticks\":\"\"}}}],\"bar\":[{\"error_x\":{\"color\":\"#2a3f5f\"},\"error_y\":{\"color\":\"#2a3f5f\"},\"marker\":{\"line\":{\"color\":\"#E5ECF6\",\"width\":0.5},\"pattern\":{\"fillmode\":\"overlay\",\"size\":10,\"solidity\":0.2}},\"type\":\"bar\"}],\"scattergeo\":[{\"type\":\"scattergeo\",\"marker\":{\"colorbar\":{\"outlinewidth\":0,\"ticks\":\"\"}}}],\"scatterpolar\":[{\"type\":\"scatterpolar\",\"marker\":{\"colorbar\":{\"outlinewidth\":0,\"ticks\":\"\"}}}],\"histogram\":[{\"marker\":{\"pattern\":{\"fillmode\":\"overlay\",\"size\":10,\"solidity\":0.2}},\"type\":\"histogram\"}],\"scattergl\":[{\"type\":\"scattergl\",\"marker\":{\"colorbar\":{\"outlinewidth\":0,\"ticks\":\"\"}}}],\"scatter3d\":[{\"type\":\"scatter3d\",\"line\":{\"colorbar\":{\"outlinewidth\":0,\"ticks\":\"\"}},\"marker\":{\"colorbar\":{\"outlinewidth\":0,\"ticks\":\"\"}}}],\"scattermapbox\":[{\"type\":\"scattermapbox\",\"marker\":{\"colorbar\":{\"outlinewidth\":0,\"ticks\":\"\"}}}],\"scatterternary\":[{\"type\":\"scatterternary\",\"marker\":{\"colorbar\":{\"outlinewidth\":0,\"ticks\":\"\"}}}],\"scattercarpet\":[{\"type\":\"scattercarpet\",\"marker\":{\"colorbar\":{\"outlinewidth\":0,\"ticks\":\"\"}}}],\"carpet\":[{\"aaxis\":{\"endlinecolor\":\"#2a3f5f\",\"gridcolor\":\"white\",\"linecolor\":\"white\",\"minorgridcolor\":\"white\",\"startlinecolor\":\"#2a3f5f\"},\"baxis\":{\"endlinecolor\":\"#2a3f5f\",\"gridcolor\":\"white\",\"linecolor\":\"white\",\"minorgridcolor\":\"white\",\"startlinecolor\":\"#2a3f5f\"},\"type\":\"carpet\"}],\"table\":[{\"cells\":{\"fill\":{\"color\":\"#EBF0F8\"},\"line\":{\"color\":\"white\"}},\"header\":{\"fill\":{\"color\":\"#C8D4E3\"},\"line\":{\"color\":\"white\"}},\"type\":\"table\"}],\"barpolar\":[{\"marker\":{\"line\":{\"color\":\"#E5ECF6\",\"width\":0.5},\"pattern\":{\"fillmode\":\"overlay\",\"size\":10,\"solidity\":0.2}},\"type\":\"barpolar\"}],\"pie\":[{\"automargin\":true,\"type\":\"pie\"}]},\"layout\":{\"autotypenumbers\":\"strict\",\"colorway\":[\"#636efa\",\"#EF553B\",\"#00cc96\",\"#ab63fa\",\"#FFA15A\",\"#19d3f3\",\"#FF6692\",\"#B6E880\",\"#FF97FF\",\"#FECB52\"],\"font\":{\"color\":\"#2a3f5f\"},\"hovermode\":\"closest\",\"hoverlabel\":{\"align\":\"left\"},\"paper_bgcolor\":\"white\",\"plot_bgcolor\":\"#E5ECF6\",\"polar\":{\"bgcolor\":\"#E5ECF6\",\"angularaxis\":{\"gridcolor\":\"white\",\"linecolor\":\"white\",\"ticks\":\"\"},\"radialaxis\":{\"gridcolor\":\"white\",\"linecolor\":\"white\",\"ticks\":\"\"}},\"ternary\":{\"bgcolor\":\"#E5ECF6\",\"aaxis\":{\"gridcolor\":\"white\",\"linecolor\":\"white\",\"ticks\":\"\"},\"baxis\":{\"gridcolor\":\"white\",\"linecolor\":\"white\",\"ticks\":\"\"},\"caxis\":{\"gridcolor\":\"white\",\"linecolor\":\"white\",\"ticks\":\"\"}},\"coloraxis\":{\"colorbar\":{\"outlinewidth\":0,\"ticks\":\"\"}},\"colorscale\":{\"sequential\":[[0.0,\"#0d0887\"],[0.1111111111111111,\"#46039f\"],[0.2222222222222222,\"#7201a8\"],[0.3333333333333333,\"#9c179e\"],[0.4444444444444444,\"#bd3786\"],[0.5555555555555556,\"#d8576b\"],[0.6666666666666666,\"#ed7953\"],[0.7777777777777778,\"#fb9f3a\"],[0.8888888888888888,\"#fdca26\"],[1.0,\"#f0f921\"]],\"sequentialminus\":[[0.0,\"#0d0887\"],[0.1111111111111111,\"#46039f\"],[0.2222222222222222,\"#7201a8\"],[0.3333333333333333,\"#9c179e\"],[0.4444444444444444,\"#bd3786\"],[0.5555555555555556,\"#d8576b\"],[0.6666666666666666,\"#ed7953\"],[0.7777777777777778,\"#fb9f3a\"],[0.8888888888888888,\"#fdca26\"],[1.0,\"#f0f921\"]],\"diverging\":[[0,\"#8e0152\"],[0.1,\"#c51b7d\"],[0.2,\"#de77ae\"],[0.3,\"#f1b6da\"],[0.4,\"#fde0ef\"],[0.5,\"#f7f7f7\"],[0.6,\"#e6f5d0\"],[0.7,\"#b8e186\"],[0.8,\"#7fbc41\"],[0.9,\"#4d9221\"],[1,\"#276419\"]]},\"xaxis\":{\"gridcolor\":\"white\",\"linecolor\":\"white\",\"ticks\":\"\",\"title\":{\"standoff\":15},\"zerolinecolor\":\"white\",\"automargin\":true,\"zerolinewidth\":2},\"yaxis\":{\"gridcolor\":\"white\",\"linecolor\":\"white\",\"ticks\":\"\",\"title\":{\"standoff\":15},\"zerolinecolor\":\"white\",\"automargin\":true,\"zerolinewidth\":2},\"scene\":{\"xaxis\":{\"backgroundcolor\":\"#E5ECF6\",\"gridcolor\":\"white\",\"linecolor\":\"white\",\"showbackground\":true,\"ticks\":\"\",\"zerolinecolor\":\"white\",\"gridwidth\":2},\"yaxis\":{\"backgroundcolor\":\"#E5ECF6\",\"gridcolor\":\"white\",\"linecolor\":\"white\",\"showbackground\":true,\"ticks\":\"\",\"zerolinecolor\":\"white\",\"gridwidth\":2},\"zaxis\":{\"backgroundcolor\":\"#E5ECF6\",\"gridcolor\":\"white\",\"linecolor\":\"white\",\"showbackground\":true,\"ticks\":\"\",\"zerolinecolor\":\"white\",\"gridwidth\":2}},\"shapedefaults\":{\"line\":{\"color\":\"#2a3f5f\"}},\"annotationdefaults\":{\"arrowcolor\":\"#2a3f5f\",\"arrowhead\":0,\"arrowwidth\":1},\"geo\":{\"bgcolor\":\"white\",\"landcolor\":\"#E5ECF6\",\"subunitcolor\":\"white\",\"showland\":true,\"showlakes\":true,\"lakecolor\":\"white\"},\"title\":{\"x\":0.05},\"mapbox\":{\"style\":\"light\"}}},\"barmode\":\"group\"},                        {\"responsive\": true}                    ).then(function(){\n",
              "                            \n",
              "var gd = document.getElementById('eb7ef3d9-8bc7-4601-bc0a-6d20d4484edf');\n",
              "var x = new MutationObserver(function (mutations, observer) {{\n",
              "        var display = window.getComputedStyle(gd).display;\n",
              "        if (!display || display === 'none') {{\n",
              "            console.log([gd, 'removed!']);\n",
              "            Plotly.purge(gd);\n",
              "            observer.disconnect();\n",
              "        }}\n",
              "}});\n",
              "\n",
              "// Listen for the removal of the full notebook cells\n",
              "var notebookContainer = gd.closest('#notebook-container');\n",
              "if (notebookContainer) {{\n",
              "    x.observe(notebookContainer, {childList: true});\n",
              "}}\n",
              "\n",
              "// Listen for the clearing of the current output cell\n",
              "var outputEl = gd.closest('.output');\n",
              "if (outputEl) {{\n",
              "    x.observe(outputEl, {childList: true});\n",
              "}}\n",
              "\n",
              "                        })                };                            </script>        </div>\n",
              "</body>\n",
              "</html>"
            ]
          },
          "metadata": {}
        }
      ],
      "source": [
        "plot_bar_plot(\n",
        "    referenced_eval_results,\n",
        "    metrics=[\n",
        "        f\"{metric}/mean\"\n",
        "        for metric in [\"question_answering_correctness\", \"rouge\", \"bleu\", \"exact_match\"]\n",
        "    ],\n",
        ")"
      ]
    },
    {
      "cell_type": "markdown",
      "metadata": {
        "id": "c6ea0658bdef"
      },
      "source": [
        "#### View detailed explanation for an individual instance\n",
        "\n",
        "If you need to delve into the individual result's detailed explanations on why a score is assigned and how confident the model is for each model-based metric, you can use the `display_explanations()` helper function. For example, you can set `n=2` to display explanation of the 2nd instance result as follows:"
      ]
    },
    {
      "cell_type": "code",
      "execution_count": 22,
      "metadata": {
        "id": "8ef40d011c7d",
        "colab": {
          "base_uri": "https://localhost:8080/",
          "height": 725
        },
        "outputId": "316e992b-bac8-4811-bd12-2753b0838a1f"
      },
      "outputs": [
        {
          "output_type": "display_data",
          "data": {
            "text/plain": [
              "<IPython.core.display.HTML object>"
            ],
            "text/html": [
              "<h2>prompt:</h2> <div style='white-space: pre-wrap; width: 800px; overflow-x: auto;'>Answer the question: 火災保険の収益悪化に対し、損害保険各社はどのような収益改善策を講じているか、具体的な例を挙げて説明してください。さらに、これらの改善策がどのように保険引受利益に影響を与えたかについても教えてください。</div>"
            ]
          },
          "metadata": {}
        },
        {
          "output_type": "display_data",
          "data": {
            "text/plain": [
              "<IPython.core.display.HTML object>"
            ],
            "text/html": [
              "<h2>response:</h2> <div style='white-space: pre-wrap; width: 800px; overflow-x: auto;'>火災保険の収益悪化に対し、損害保険各社は収益改善策を講じています。 損害保険会社は、長期契約の構造的な赤字や自然災害増加による再保険市場のハード化といった要因に対処するため、商品改定や保険料改定を実施しています。 さらに、異常危険準備金の積立や再保険の手配、迅速な保険金支払い態勢の整備など、自然災害リスク管理の強化に取り組んでいます。 世界的な自然災害の発生や金利上昇、インフレーションの影響により、海外の再保険料率が上昇したため、各社は柔軟な交渉や保有・出再方針の見直しを行い、再保険契約を更改しています。 これらの収益改善策は、保険引受利益に影響を与え、保険会社は収益改善を目指しています。</div>"
            ]
          },
          "metadata": {}
        },
        {
          "output_type": "display_data",
          "data": {
            "text/plain": [
              "<IPython.core.display.HTML object>"
            ],
            "text/html": [
              "<h2>reference:</h2> <div style='white-space: pre-wrap; width: 800px; overflow-x: auto;'>火災保険の収益悪化には長期契約が赤字状態であることや自然災害増加に伴う再保険市場のハード化が影響しています。これを受けて、各保険会社では2021年5月の参考純率改定に基づいて商品改定を行いました。また、更なる保険料改定が必要だと共通認識され、独自の収益改善策を講じている会社もあります。例えば、一部の保険会社は再保険の利用を見直し、リスク管理の強化を図っています。他の会社では、新技術を導入して損害査定の効率化を図るなどしています。これらの取り組みは、結果として一部の保険会社では保険引受利益の改善に寄与していますが、未だに全体としては二極化が進んでいると考えられます。</div>"
            ]
          },
          "metadata": {}
        },
        {
          "output_type": "display_data",
          "data": {
            "text/plain": [
              "<IPython.core.display.HTML object>"
            ],
            "text/html": [
              "<h2>question_answering_correctness/explanation:</h2> <div style='white-space: pre-wrap; width: 800px; overflow-x: auto;'>Error</div>"
            ]
          },
          "metadata": {}
        },
        {
          "output_type": "display_data",
          "data": {
            "text/plain": [
              "<IPython.core.display.HTML object>"
            ],
            "text/html": [
              "<h2>question_answering_correctness/score:</h2> <div style='white-space: pre-wrap; width: 800px; overflow-x: auto;'>None</div>"
            ]
          },
          "metadata": {}
        },
        {
          "output_type": "display_data",
          "data": {
            "text/plain": [
              "<IPython.core.display.HTML object>"
            ],
            "text/html": [
              "<h2>rouge/score:</h2> <div style='white-space: pre-wrap; width: 800px; overflow-x: auto;'>0.0</div>"
            ]
          },
          "metadata": {}
        },
        {
          "output_type": "display_data",
          "data": {
            "text/plain": [
              "<IPython.core.display.HTML object>"
            ],
            "text/html": [
              "<h2>bleu/score:</h2> <div style='white-space: pre-wrap; width: 800px; overflow-x: auto;'>0.019469285</div>"
            ]
          },
          "metadata": {}
        },
        {
          "output_type": "display_data",
          "data": {
            "text/plain": [
              "<IPython.core.display.HTML object>"
            ],
            "text/html": [
              "<h2>exact_match/score:</h2> <div style='white-space: pre-wrap; width: 800px; overflow-x: auto;'>0.0</div>"
            ]
          },
          "metadata": {}
        },
        {
          "output_type": "display_data",
          "data": {
            "text/plain": [
              "<IPython.core.display.HTML object>"
            ],
            "text/html": [
              "<hr>"
            ]
          },
          "metadata": {}
        }
      ],
      "source": [
        "display_explanations(referenced_result_rag_a.metrics_table, n=1)"
      ]
    },
    {
      "cell_type": "code",
      "execution_count": 23,
      "metadata": {
        "id": "f720dc29f04e",
        "colab": {
          "base_uri": "https://localhost:8080/",
          "height": 448
        },
        "outputId": "56fc5724-f7f9-4bf3-d2c9-d821781b8f23"
      },
      "outputs": [
        {
          "output_type": "display_data",
          "data": {
            "text/plain": [
              "<IPython.core.display.HTML object>"
            ],
            "text/html": [
              "<h2>reference:</h2> <div style='white-space: pre-wrap; width: 800px; overflow-x: auto;'>火災保険の収益悪化には長期契約が赤字状態であることや自然災害増加に伴う再保険市場のハード化が影響しています。これを受けて、各保険会社では2021年5月の参考純率改定に基づいて商品改定を行いました。また、更なる保険料改定が必要だと共通認識され、独自の収益改善策を講じている会社もあります。例えば、一部の保険会社は再保険の利用を見直し、リスク管理の強化を図っています。他の会社では、新技術を導入して損害査定の効率化を図るなどしています。これらの取り組みは、結果として一部の保険会社では保険引受利益の改善に寄与していますが、未だに全体としては二極化が進んでいると考えられます。</div>"
            ]
          },
          "metadata": {}
        },
        {
          "output_type": "display_data",
          "data": {
            "text/plain": [
              "<IPython.core.display.HTML object>"
            ],
            "text/html": [
              "<h2>response:</h2> <div style='white-space: pre-wrap; width: 800px; overflow-x: auto;'>火災保険の収益悪化に対し、損害保険各社は収益改善策を講じています。 損害保険会社は、長期契約の構造的な赤字や自然災害増加による再保険市場のハード化といった要因に対処するため、商品改定や保険料改定を実施しています。 さらに、異常危険準備金の積立や再保険の手配、迅速な保険金支払い態勢の整備など、自然災害リスク管理の強化に取り組んでいます。 世界的な自然災害の発生や金利上昇、インフレーションの影響により、海外の再保険料率が上昇したため、各社は柔軟な交渉や保有・出再方針の見直しを行い、再保険契約を更改しています。 これらの収益改善策は、保険引受利益に影響を与え、保険会社は収益改善を目指しています。</div>"
            ]
          },
          "metadata": {}
        },
        {
          "output_type": "display_data",
          "data": {
            "text/plain": [
              "<IPython.core.display.HTML object>"
            ],
            "text/html": [
              "<h2>question_answering_correctness/explanation:</h2> <div style='white-space: pre-wrap; width: 800px; overflow-x: auto;'>Error</div>"
            ]
          },
          "metadata": {}
        },
        {
          "output_type": "display_data",
          "data": {
            "text/plain": [
              "<IPython.core.display.HTML object>"
            ],
            "text/html": [
              "<h2>question_answering_correctness/score:</h2> <div style='white-space: pre-wrap; width: 800px; overflow-x: auto;'>None</div>"
            ]
          },
          "metadata": {}
        },
        {
          "output_type": "display_data",
          "data": {
            "text/plain": [
              "<IPython.core.display.HTML object>"
            ],
            "text/html": [
              "<hr>"
            ]
          },
          "metadata": {}
        }
      ],
      "source": [
        "display_explanations(\n",
        "    referenced_result_rag_a.metrics_table, metrics=[\"question_answering_correctness\"]\n",
        ")"
      ]
    },
    {
      "cell_type": "code",
      "source": [],
      "metadata": {
        "id": "dnkLcz8eHCgo"
      },
      "execution_count": 23,
      "outputs": []
    }
  ],
  "metadata": {
    "colab": {
      "name": "evaluate_rag_gen_ai_evaluation_service_sdk.ipynb",
      "toc_visible": true,
      "provenance": [],
      "include_colab_link": true
    },
    "kernelspec": {
      "display_name": "Python 3",
      "name": "python3"
    }
  },
  "nbformat": 4,
  "nbformat_minor": 0
}